{
  "nbformat": 4,
  "nbformat_minor": 0,
  "metadata": {
    "colab": {
      "provenance": [],
      "authorship_tag": "ABX9TyOtnWxX09Rk3DiowtOXCxFs"
    },
    "kernelspec": {
      "name": "python3",
      "display_name": "Python 3"
    },
    "language_info": {
      "name": "python"
    }
  },
  "cells": [
    {
      "cell_type": "code",
      "source": [
        "from google.colab import drive\n",
        "drive.mount('/content/drive/')"
      ],
      "metadata": {
        "colab": {
          "base_uri": "https://localhost:8080/"
        },
        "id": "J2d0V39V0fKg",
        "outputId": "201d4fad-c8bf-47e1-8978-024e3725dca2"
      },
      "execution_count": 1,
      "outputs": [
        {
          "output_type": "stream",
          "name": "stdout",
          "text": [
            "Drive already mounted at /content/drive/; to attempt to forcibly remount, call drive.mount(\"/content/drive/\", force_remount=True).\n"
          ]
        }
      ]
    },
    {
      "cell_type": "code",
      "source": [
        "import os\n",
        "import requests\n",
        "import pandas as pd\n",
        "\n",
        "import plotly.express as px\n",
        "\n",
        "from sklearn.model_selection import train_test_split\n",
        "from sklearn.linear_model import LogisticRegression\n",
        "from sklearn.metrics import classification_report, confusion_matrix"
      ],
      "metadata": {
        "id": "_cZhnope1wRi"
      },
      "execution_count": 2,
      "outputs": []
    },
    {
      "cell_type": "code",
      "source": [
        "!pip install pyspark"
      ],
      "metadata": {
        "colab": {
          "base_uri": "https://localhost:8080/"
        },
        "id": "kDbY0xnT5VgR",
        "outputId": "fa173238-7001-4f62-929d-b4464bbb077e"
      },
      "execution_count": 31,
      "outputs": [
        {
          "output_type": "stream",
          "name": "stdout",
          "text": [
            "Collecting pyspark\n",
            "  Downloading pyspark-3.5.1.tar.gz (317.0 MB)\n",
            "\u001b[2K     \u001b[90m━━━━━━━━━━━━━━━━━━━━━━━━━━━━━━━━━━━━━━━━\u001b[0m \u001b[32m317.0/317.0 MB\u001b[0m \u001b[31m1.3 MB/s\u001b[0m eta \u001b[36m0:00:00\u001b[0m\n",
            "\u001b[?25h  Preparing metadata (setup.py) ... \u001b[?25l\u001b[?25hdone\n",
            "Requirement already satisfied: py4j==0.10.9.7 in /usr/local/lib/python3.10/dist-packages (from pyspark) (0.10.9.7)\n",
            "Building wheels for collected packages: pyspark\n",
            "  Building wheel for pyspark (setup.py) ... \u001b[?25l\u001b[?25hdone\n",
            "  Created wheel for pyspark: filename=pyspark-3.5.1-py2.py3-none-any.whl size=317488491 sha256=acea29fdecf0c96162abab418b403eefaf3dfc14d903b545a083ad02c2b68330\n",
            "  Stored in directory: /root/.cache/pip/wheels/80/1d/60/2c256ed38dddce2fdd93be545214a63e02fbd8d74fb0b7f3a6\n",
            "Successfully built pyspark\n",
            "Installing collected packages: pyspark\n",
            "Successfully installed pyspark-3.5.1\n"
          ]
        }
      ]
    },
    {
      "cell_type": "code",
      "source": [
        "!pip install openai==0.28"
      ],
      "metadata": {
        "colab": {
          "base_uri": "https://localhost:8080/",
          "height": 531
        },
        "id": "I_ZitkFe-Tjz",
        "outputId": "8857b6ae-8a79-4246-d60f-db762abcde1e"
      },
      "execution_count": 45,
      "outputs": [
        {
          "output_type": "stream",
          "name": "stdout",
          "text": [
            "Collecting openai==0.28\n",
            "  Downloading openai-0.28.0-py3-none-any.whl (76 kB)\n",
            "\u001b[2K     \u001b[90m━━━━━━━━━━━━━━━━━━━━━━━━━━━━━━━━━━━━━━━━\u001b[0m \u001b[32m76.5/76.5 kB\u001b[0m \u001b[31m821.5 kB/s\u001b[0m eta \u001b[36m0:00:00\u001b[0m\n",
            "\u001b[?25hRequirement already satisfied: requests>=2.20 in /usr/local/lib/python3.10/dist-packages (from openai==0.28) (2.31.0)\n",
            "Requirement already satisfied: tqdm in /usr/local/lib/python3.10/dist-packages (from openai==0.28) (4.66.2)\n",
            "Requirement already satisfied: aiohttp in /usr/local/lib/python3.10/dist-packages (from openai==0.28) (3.9.3)\n",
            "Requirement already satisfied: charset-normalizer<4,>=2 in /usr/local/lib/python3.10/dist-packages (from requests>=2.20->openai==0.28) (3.3.2)\n",
            "Requirement already satisfied: idna<4,>=2.5 in /usr/local/lib/python3.10/dist-packages (from requests>=2.20->openai==0.28) (3.6)\n",
            "Requirement already satisfied: urllib3<3,>=1.21.1 in /usr/local/lib/python3.10/dist-packages (from requests>=2.20->openai==0.28) (2.0.7)\n",
            "Requirement already satisfied: certifi>=2017.4.17 in /usr/local/lib/python3.10/dist-packages (from requests>=2.20->openai==0.28) (2024.2.2)\n",
            "Requirement already satisfied: aiosignal>=1.1.2 in /usr/local/lib/python3.10/dist-packages (from aiohttp->openai==0.28) (1.3.1)\n",
            "Requirement already satisfied: attrs>=17.3.0 in /usr/local/lib/python3.10/dist-packages (from aiohttp->openai==0.28) (23.2.0)\n",
            "Requirement already satisfied: frozenlist>=1.1.1 in /usr/local/lib/python3.10/dist-packages (from aiohttp->openai==0.28) (1.4.1)\n",
            "Requirement already satisfied: multidict<7.0,>=4.5 in /usr/local/lib/python3.10/dist-packages (from aiohttp->openai==0.28) (6.0.5)\n",
            "Requirement already satisfied: yarl<2.0,>=1.0 in /usr/local/lib/python3.10/dist-packages (from aiohttp->openai==0.28) (1.9.4)\n",
            "Requirement already satisfied: async-timeout<5.0,>=4.0 in /usr/local/lib/python3.10/dist-packages (from aiohttp->openai==0.28) (4.0.3)\n",
            "Installing collected packages: openai\n",
            "  Attempting uninstall: openai\n",
            "    Found existing installation: openai 1.14.3\n",
            "    Uninstalling openai-1.14.3:\n",
            "      Successfully uninstalled openai-1.14.3\n",
            "Successfully installed openai-0.28.0\n"
          ]
        },
        {
          "output_type": "display_data",
          "data": {
            "application/vnd.colab-display-data+json": {
              "pip_warning": {
                "packages": [
                  "openai"
                ]
              },
              "id": "a6e6f225d50b458dbae98c1a1e5afb52"
            }
          },
          "metadata": {}
        }
      ]
    },
    {
      "cell_type": "code",
      "source": [
        "from pyspark.ml.classification import LogisticRegression\n",
        "from pyspark.ml.evaluation import MulticlassClassificationEvaluator\n",
        "from pyspark.ml.feature import VectorAssembler\n",
        "from pyspark.sql import SparkSession"
      ],
      "metadata": {
        "id": "-Vj4f5Tv5TO-"
      },
      "execution_count": 4,
      "outputs": []
    },
    {
      "cell_type": "code",
      "source": [
        "os.makedirs(\"/content/drive/MyDrive/ML_Projects/Credit_Crd_Fraud/data\", exist_ok = True)"
      ],
      "metadata": {
        "id": "YrPfZ9t2zDLL"
      },
      "execution_count": 23,
      "outputs": []
    },
    {
      "cell_type": "code",
      "execution_count": 5,
      "metadata": {
        "id": "8N9flXIOyz05"
      },
      "outputs": [],
      "source": [
        "url = \"https://raw.githubusercontent.com/VeryFatBoy/gpt-workshop/main/data/creditcard.csv\"\n",
        "response = requests.get(url)\n",
        "with open(\"/content/drive/MyDrive/ML_Projects/Credit_Crd_Fraud/data/creditcard.csv\", \"wb\") as f:\n",
        "    f.write(response.content)"
      ]
    },
    {
      "cell_type": "code",
      "source": [
        "pdf = pd.read_csv(\"/content/drive/MyDrive/ML_Projects/Credit_Crd_Fraud/data/creditcard.csv\")"
      ],
      "metadata": {
        "id": "wpwVizE91rSQ"
      },
      "execution_count": 3,
      "outputs": []
    },
    {
      "cell_type": "code",
      "source": [
        "pdf.head(2)"
      ],
      "metadata": {
        "colab": {
          "base_uri": "https://localhost:8080/",
          "height": 161
        },
        "id": "zNDkuBSE2Ago",
        "outputId": "5b72a677-b264-4f65-8f3f-e51fbbe4b7bc"
      },
      "execution_count": 11,
      "outputs": [
        {
          "output_type": "execute_result",
          "data": {
            "text/plain": [
              "    Time        V1        V2        V3        V4        V5        V6  \\\n",
              "0   69.0  0.298503  2.142722 -1.542143  1.561332  0.938108 -2.145673   \n",
              "1  239.0  1.167527 -0.318288  0.502464  0.033904 -0.584285  0.024592   \n",
              "\n",
              "         V7        V8        V9  ...       V21       V22       V23       V24  \\\n",
              "0  1.405569 -0.778459  0.328636  ... -0.290987 -0.000235  0.092174  0.586205   \n",
              "1 -0.413738  0.186412  0.605945  ... -0.040544  0.092396 -0.038321  0.115915   \n",
              "\n",
              "        V25       V26       V27       V28  Amount  Class  \n",
              "0 -0.397314 -0.480949  0.251145 -0.242279    0.78      0  \n",
              "1  0.319733  1.125327 -0.058855 -0.014192   10.00      0  \n",
              "\n",
              "[2 rows x 31 columns]"
            ],
            "text/html": [
              "\n",
              "  <div id=\"df-3347f52c-4f6d-44c9-bd9c-3904155a64f2\" class=\"colab-df-container\">\n",
              "    <div>\n",
              "<style scoped>\n",
              "    .dataframe tbody tr th:only-of-type {\n",
              "        vertical-align: middle;\n",
              "    }\n",
              "\n",
              "    .dataframe tbody tr th {\n",
              "        vertical-align: top;\n",
              "    }\n",
              "\n",
              "    .dataframe thead th {\n",
              "        text-align: right;\n",
              "    }\n",
              "</style>\n",
              "<table border=\"1\" class=\"dataframe\">\n",
              "  <thead>\n",
              "    <tr style=\"text-align: right;\">\n",
              "      <th></th>\n",
              "      <th>Time</th>\n",
              "      <th>V1</th>\n",
              "      <th>V2</th>\n",
              "      <th>V3</th>\n",
              "      <th>V4</th>\n",
              "      <th>V5</th>\n",
              "      <th>V6</th>\n",
              "      <th>V7</th>\n",
              "      <th>V8</th>\n",
              "      <th>V9</th>\n",
              "      <th>...</th>\n",
              "      <th>V21</th>\n",
              "      <th>V22</th>\n",
              "      <th>V23</th>\n",
              "      <th>V24</th>\n",
              "      <th>V25</th>\n",
              "      <th>V26</th>\n",
              "      <th>V27</th>\n",
              "      <th>V28</th>\n",
              "      <th>Amount</th>\n",
              "      <th>Class</th>\n",
              "    </tr>\n",
              "  </thead>\n",
              "  <tbody>\n",
              "    <tr>\n",
              "      <th>0</th>\n",
              "      <td>69.0</td>\n",
              "      <td>0.298503</td>\n",
              "      <td>2.142722</td>\n",
              "      <td>-1.542143</td>\n",
              "      <td>1.561332</td>\n",
              "      <td>0.938108</td>\n",
              "      <td>-2.145673</td>\n",
              "      <td>1.405569</td>\n",
              "      <td>-0.778459</td>\n",
              "      <td>0.328636</td>\n",
              "      <td>...</td>\n",
              "      <td>-0.290987</td>\n",
              "      <td>-0.000235</td>\n",
              "      <td>0.092174</td>\n",
              "      <td>0.586205</td>\n",
              "      <td>-0.397314</td>\n",
              "      <td>-0.480949</td>\n",
              "      <td>0.251145</td>\n",
              "      <td>-0.242279</td>\n",
              "      <td>0.78</td>\n",
              "      <td>0</td>\n",
              "    </tr>\n",
              "    <tr>\n",
              "      <th>1</th>\n",
              "      <td>239.0</td>\n",
              "      <td>1.167527</td>\n",
              "      <td>-0.318288</td>\n",
              "      <td>0.502464</td>\n",
              "      <td>0.033904</td>\n",
              "      <td>-0.584285</td>\n",
              "      <td>0.024592</td>\n",
              "      <td>-0.413738</td>\n",
              "      <td>0.186412</td>\n",
              "      <td>0.605945</td>\n",
              "      <td>...</td>\n",
              "      <td>-0.040544</td>\n",
              "      <td>0.092396</td>\n",
              "      <td>-0.038321</td>\n",
              "      <td>0.115915</td>\n",
              "      <td>0.319733</td>\n",
              "      <td>1.125327</td>\n",
              "      <td>-0.058855</td>\n",
              "      <td>-0.014192</td>\n",
              "      <td>10.00</td>\n",
              "      <td>0</td>\n",
              "    </tr>\n",
              "  </tbody>\n",
              "</table>\n",
              "<p>2 rows × 31 columns</p>\n",
              "</div>\n",
              "    <div class=\"colab-df-buttons\">\n",
              "\n",
              "  <div class=\"colab-df-container\">\n",
              "    <button class=\"colab-df-convert\" onclick=\"convertToInteractive('df-3347f52c-4f6d-44c9-bd9c-3904155a64f2')\"\n",
              "            title=\"Convert this dataframe to an interactive table.\"\n",
              "            style=\"display:none;\">\n",
              "\n",
              "  <svg xmlns=\"http://www.w3.org/2000/svg\" height=\"24px\" viewBox=\"0 -960 960 960\">\n",
              "    <path d=\"M120-120v-720h720v720H120Zm60-500h600v-160H180v160Zm220 220h160v-160H400v160Zm0 220h160v-160H400v160ZM180-400h160v-160H180v160Zm440 0h160v-160H620v160ZM180-180h160v-160H180v160Zm440 0h160v-160H620v160Z\"/>\n",
              "  </svg>\n",
              "    </button>\n",
              "\n",
              "  <style>\n",
              "    .colab-df-container {\n",
              "      display:flex;\n",
              "      gap: 12px;\n",
              "    }\n",
              "\n",
              "    .colab-df-convert {\n",
              "      background-color: #E8F0FE;\n",
              "      border: none;\n",
              "      border-radius: 50%;\n",
              "      cursor: pointer;\n",
              "      display: none;\n",
              "      fill: #1967D2;\n",
              "      height: 32px;\n",
              "      padding: 0 0 0 0;\n",
              "      width: 32px;\n",
              "    }\n",
              "\n",
              "    .colab-df-convert:hover {\n",
              "      background-color: #E2EBFA;\n",
              "      box-shadow: 0px 1px 2px rgba(60, 64, 67, 0.3), 0px 1px 3px 1px rgba(60, 64, 67, 0.15);\n",
              "      fill: #174EA6;\n",
              "    }\n",
              "\n",
              "    .colab-df-buttons div {\n",
              "      margin-bottom: 4px;\n",
              "    }\n",
              "\n",
              "    [theme=dark] .colab-df-convert {\n",
              "      background-color: #3B4455;\n",
              "      fill: #D2E3FC;\n",
              "    }\n",
              "\n",
              "    [theme=dark] .colab-df-convert:hover {\n",
              "      background-color: #434B5C;\n",
              "      box-shadow: 0px 1px 3px 1px rgba(0, 0, 0, 0.15);\n",
              "      filter: drop-shadow(0px 1px 2px rgba(0, 0, 0, 0.3));\n",
              "      fill: #FFFFFF;\n",
              "    }\n",
              "  </style>\n",
              "\n",
              "    <script>\n",
              "      const buttonEl =\n",
              "        document.querySelector('#df-3347f52c-4f6d-44c9-bd9c-3904155a64f2 button.colab-df-convert');\n",
              "      buttonEl.style.display =\n",
              "        google.colab.kernel.accessAllowed ? 'block' : 'none';\n",
              "\n",
              "      async function convertToInteractive(key) {\n",
              "        const element = document.querySelector('#df-3347f52c-4f6d-44c9-bd9c-3904155a64f2');\n",
              "        const dataTable =\n",
              "          await google.colab.kernel.invokeFunction('convertToInteractive',\n",
              "                                                    [key], {});\n",
              "        if (!dataTable) return;\n",
              "\n",
              "        const docLinkHtml = 'Like what you see? Visit the ' +\n",
              "          '<a target=\"_blank\" href=https://colab.research.google.com/notebooks/data_table.ipynb>data table notebook</a>'\n",
              "          + ' to learn more about interactive tables.';\n",
              "        element.innerHTML = '';\n",
              "        dataTable['output_type'] = 'display_data';\n",
              "        await google.colab.output.renderOutput(dataTable, element);\n",
              "        const docLink = document.createElement('div');\n",
              "        docLink.innerHTML = docLinkHtml;\n",
              "        element.appendChild(docLink);\n",
              "      }\n",
              "    </script>\n",
              "  </div>\n",
              "\n",
              "\n",
              "<div id=\"df-d1174482-4ee1-4bf4-b471-cb4b399a29f3\">\n",
              "  <button class=\"colab-df-quickchart\" onclick=\"quickchart('df-d1174482-4ee1-4bf4-b471-cb4b399a29f3')\"\n",
              "            title=\"Suggest charts\"\n",
              "            style=\"display:none;\">\n",
              "\n",
              "<svg xmlns=\"http://www.w3.org/2000/svg\" height=\"24px\"viewBox=\"0 0 24 24\"\n",
              "     width=\"24px\">\n",
              "    <g>\n",
              "        <path d=\"M19 3H5c-1.1 0-2 .9-2 2v14c0 1.1.9 2 2 2h14c1.1 0 2-.9 2-2V5c0-1.1-.9-2-2-2zM9 17H7v-7h2v7zm4 0h-2V7h2v10zm4 0h-2v-4h2v4z\"/>\n",
              "    </g>\n",
              "</svg>\n",
              "  </button>\n",
              "\n",
              "<style>\n",
              "  .colab-df-quickchart {\n",
              "      --bg-color: #E8F0FE;\n",
              "      --fill-color: #1967D2;\n",
              "      --hover-bg-color: #E2EBFA;\n",
              "      --hover-fill-color: #174EA6;\n",
              "      --disabled-fill-color: #AAA;\n",
              "      --disabled-bg-color: #DDD;\n",
              "  }\n",
              "\n",
              "  [theme=dark] .colab-df-quickchart {\n",
              "      --bg-color: #3B4455;\n",
              "      --fill-color: #D2E3FC;\n",
              "      --hover-bg-color: #434B5C;\n",
              "      --hover-fill-color: #FFFFFF;\n",
              "      --disabled-bg-color: #3B4455;\n",
              "      --disabled-fill-color: #666;\n",
              "  }\n",
              "\n",
              "  .colab-df-quickchart {\n",
              "    background-color: var(--bg-color);\n",
              "    border: none;\n",
              "    border-radius: 50%;\n",
              "    cursor: pointer;\n",
              "    display: none;\n",
              "    fill: var(--fill-color);\n",
              "    height: 32px;\n",
              "    padding: 0;\n",
              "    width: 32px;\n",
              "  }\n",
              "\n",
              "  .colab-df-quickchart:hover {\n",
              "    background-color: var(--hover-bg-color);\n",
              "    box-shadow: 0 1px 2px rgba(60, 64, 67, 0.3), 0 1px 3px 1px rgba(60, 64, 67, 0.15);\n",
              "    fill: var(--button-hover-fill-color);\n",
              "  }\n",
              "\n",
              "  .colab-df-quickchart-complete:disabled,\n",
              "  .colab-df-quickchart-complete:disabled:hover {\n",
              "    background-color: var(--disabled-bg-color);\n",
              "    fill: var(--disabled-fill-color);\n",
              "    box-shadow: none;\n",
              "  }\n",
              "\n",
              "  .colab-df-spinner {\n",
              "    border: 2px solid var(--fill-color);\n",
              "    border-color: transparent;\n",
              "    border-bottom-color: var(--fill-color);\n",
              "    animation:\n",
              "      spin 1s steps(1) infinite;\n",
              "  }\n",
              "\n",
              "  @keyframes spin {\n",
              "    0% {\n",
              "      border-color: transparent;\n",
              "      border-bottom-color: var(--fill-color);\n",
              "      border-left-color: var(--fill-color);\n",
              "    }\n",
              "    20% {\n",
              "      border-color: transparent;\n",
              "      border-left-color: var(--fill-color);\n",
              "      border-top-color: var(--fill-color);\n",
              "    }\n",
              "    30% {\n",
              "      border-color: transparent;\n",
              "      border-left-color: var(--fill-color);\n",
              "      border-top-color: var(--fill-color);\n",
              "      border-right-color: var(--fill-color);\n",
              "    }\n",
              "    40% {\n",
              "      border-color: transparent;\n",
              "      border-right-color: var(--fill-color);\n",
              "      border-top-color: var(--fill-color);\n",
              "    }\n",
              "    60% {\n",
              "      border-color: transparent;\n",
              "      border-right-color: var(--fill-color);\n",
              "    }\n",
              "    80% {\n",
              "      border-color: transparent;\n",
              "      border-right-color: var(--fill-color);\n",
              "      border-bottom-color: var(--fill-color);\n",
              "    }\n",
              "    90% {\n",
              "      border-color: transparent;\n",
              "      border-bottom-color: var(--fill-color);\n",
              "    }\n",
              "  }\n",
              "</style>\n",
              "\n",
              "  <script>\n",
              "    async function quickchart(key) {\n",
              "      const quickchartButtonEl =\n",
              "        document.querySelector('#' + key + ' button');\n",
              "      quickchartButtonEl.disabled = true;  // To prevent multiple clicks.\n",
              "      quickchartButtonEl.classList.add('colab-df-spinner');\n",
              "      try {\n",
              "        const charts = await google.colab.kernel.invokeFunction(\n",
              "            'suggestCharts', [key], {});\n",
              "      } catch (error) {\n",
              "        console.error('Error during call to suggestCharts:', error);\n",
              "      }\n",
              "      quickchartButtonEl.classList.remove('colab-df-spinner');\n",
              "      quickchartButtonEl.classList.add('colab-df-quickchart-complete');\n",
              "    }\n",
              "    (() => {\n",
              "      let quickchartButtonEl =\n",
              "        document.querySelector('#df-d1174482-4ee1-4bf4-b471-cb4b399a29f3 button');\n",
              "      quickchartButtonEl.style.display =\n",
              "        google.colab.kernel.accessAllowed ? 'block' : 'none';\n",
              "    })();\n",
              "  </script>\n",
              "</div>\n",
              "\n",
              "    </div>\n",
              "  </div>\n"
            ],
            "application/vnd.google.colaboratory.intrinsic+json": {
              "type": "dataframe",
              "variable_name": "pdf"
            }
          },
          "metadata": {},
          "execution_count": 11
        }
      ]
    },
    {
      "cell_type": "code",
      "source": [
        "pdf.shape"
      ],
      "metadata": {
        "colab": {
          "base_uri": "https://localhost:8080/"
        },
        "id": "tMviXdw22Kk1",
        "outputId": "0b1f6777-e529-400c-acce-6d2ce8c57c61"
      },
      "execution_count": 15,
      "outputs": [
        {
          "output_type": "execute_result",
          "data": {
            "text/plain": [
              "(3265, 31)"
            ]
          },
          "metadata": {},
          "execution_count": 15
        }
      ]
    },
    {
      "cell_type": "code",
      "source": [
        "pdf.groupby(\"Class\").size()"
      ],
      "metadata": {
        "colab": {
          "base_uri": "https://localhost:8080/"
        },
        "id": "K_4rGFBw2YN2",
        "outputId": "7cbbe40b-5bef-41f7-cccf-de8a72eaefd5"
      },
      "execution_count": 16,
      "outputs": [
        {
          "output_type": "execute_result",
          "data": {
            "text/plain": [
              "Class\n",
              "0    2773\n",
              "1     492\n",
              "dtype: int64"
            ]
          },
          "metadata": {},
          "execution_count": 16
        }
      ]
    },
    {
      "cell_type": "code",
      "source": [
        "pdf[\"Amount\"].describe()"
      ],
      "metadata": {
        "colab": {
          "base_uri": "https://localhost:8080/"
        },
        "id": "TEPH8AYs2pc2",
        "outputId": "23b7ccd5-51ed-4264-f3e1-89fed6781085"
      },
      "execution_count": 17,
      "outputs": [
        {
          "output_type": "execute_result",
          "data": {
            "text/plain": [
              "count    3265.000000\n",
              "mean       86.715210\n",
              "std       195.568876\n",
              "min         0.000000\n",
              "25%         4.490000\n",
              "50%        21.900000\n",
              "75%        80.310000\n",
              "max      2917.640000\n",
              "Name: Amount, dtype: float64"
            ]
          },
          "metadata": {},
          "execution_count": 17
        }
      ]
    },
    {
      "cell_type": "code",
      "source": [
        "fig = px.scatter(\n",
        "    pdf,\n",
        "    y = \"Amount\",\n",
        "    color = pdf[\"Class\"].astype(str),\n",
        "    hover_data = [\"Amount\"]\n",
        ")\n",
        "\n",
        "fig.update_layout(\n",
        "    # yaxis_type = \"log\",\n",
        "    title = \"Amount and Class\"\n",
        ")\n",
        "\n",
        "fig.show()"
      ],
      "metadata": {
        "colab": {
          "base_uri": "https://localhost:8080/",
          "height": 542
        },
        "id": "b8Uv3fG221zk",
        "outputId": "2f00927f-67dd-430b-f375-819cb68bac2b"
      },
      "execution_count": 19,
      "outputs": [
        {
          "output_type": "display_data",
          "data": {
            "text/html": [
              "<html>\n",
              "<head><meta charset=\"utf-8\" /></head>\n",
              "<body>\n",
              "    <div>            <script src=\"https://cdnjs.cloudflare.com/ajax/libs/mathjax/2.7.5/MathJax.js?config=TeX-AMS-MML_SVG\"></script><script type=\"text/javascript\">if (window.MathJax && window.MathJax.Hub && window.MathJax.Hub.Config) {window.MathJax.Hub.Config({SVG: {font: \"STIX-Web\"}});}</script>                <script type=\"text/javascript\">window.PlotlyConfig = {MathJaxConfig: 'local'};</script>\n",
              "        <script charset=\"utf-8\" src=\"https://cdn.plot.ly/plotly-2.24.1.min.js\"></script>                <div id=\"e874d261-aaad-4584-8bfa-89553b6056b2\" class=\"plotly-graph-div\" style=\"height:525px; width:100%;\"></div>            <script type=\"text/javascript\">                                    window.PLOTLYENV=window.PLOTLYENV || {};                                    if (document.getElementById(\"e874d261-aaad-4584-8bfa-89553b6056b2\")) {                    Plotly.newPlot(                        \"e874d261-aaad-4584-8bfa-89553b6056b2\",                        [{\"hovertemplate\":\"color=0\\u003cbr\\u003eindex=%{x}\\u003cbr\\u003eAmount=%{y}\\u003cextra\\u003e\\u003c\\u002fextra\\u003e\",\"legendgroup\":\"0\",\"marker\":{\"color\":\"#636efa\",\"symbol\":\"circle\"},\"mode\":\"markers\",\"name\":\"0\",\"showlegend\":true,\"x\":[0,1,2,5,6,7,8,9,10,11,12,13,14,15,16,17,18,19,20,21,22,23,24,25,26,27,28,29,30,31,32,33,34,35,36,37,38,39,40,41,42,43,44,45,46,47,48,49,50,52,53,54,55,56,57,58,59,60,70,74,77,80,82,83,84,90,91,92,93,94,95,96,97,98,99,102,104,105,108,109,112,114,116,117,118,121,122,123,124,125,126,129,130,131,132,133,134,136,137,138,139,145,147,148,149,151,154,155,156,157,158,160,161,162,163,164,165,167,169,172,173,175,176,178,179,181,182,183,184,185,186,187,188,189,190,191,192,193,194,195,201,202,203,209,211,214,218,220,221,222,223,224,225,227,228,229,230,232,233,235,236,237,238,239,240,241,242,246,249,250,251,252,253,254,257,258,261,262,263,264,265,266,267,268,269,270,272,273,274,275,276,277,278,279,280,281,282,283,284,285,286,287,288,289,290,291,292,293,294,295,296,297,298,300,301,303,304,305,306,307,308,309,310,311,312,313,314,315,316,317,318,319,320,321,322,323,324,325,326,327,328,329,330,331,332,333,335,336,337,338,339,340,341,342,344,345,349,350,351,352,353,354,355,356,357,358,359,360,361,362,363,364,365,366,367,368,369,370,371,372,373,374,375,377,378,379,380,382,383,384,386,391,393,394,395,396,397,399,400,401,402,403,404,405,406,407,408,409,410,411,412,413,415,416,417,418,419,420,421,422,423,424,425,426,427,428,429,430,431,432,433,434,435,436,437,438,439,440,441,442,443,444,445,446,447,448,449,450,451,452,453,454,455,456,457,458,459,460,461,462,463,464,465,466,467,468,469,470,471,473,474,475,476,477,478,479,481,482,483,484,486,487,488,489,490,491,492,493,494,495,496,497,499,501,505,506,507,508,509,510,511,512,513,514,515,518,520,531,534,541,542,543,546,548,550,553,555,557,559,560,561,562,563,565,566,567,568,569,571,572,573,574,575,576,577,578,579,580,581,582,583,584,585,589,590,591,592,593,594,596,597,598,600,601,602,603,604,605,606,607,608,609,610,611,612,613,614,615,616,617,619,621,622,623,624,625,626,627,628,629,630,631,632,633,634,635,636,637,638,642,643,644,645,646,648,649,650,652,653,654,655,656,657,658,659,660,661,662,663,664,665,666,668,669,670,671,672,673,674,675,676,677,678,679,680,681,682,684,685,686,687,688,689,693,694,696,697,698,699,700,702,703,704,705,706,707,708,709,710,711,713,714,715,716,717,718,719,720,721,722,723,724,725,726,727,728,729,730,731,732,733,734,735,736,737,738,739,740,742,743,744,745,746,747,748,749,750,751,752,753,754,756,758,759,760,761,762,763,764,765,769,770,771,772,773,774,775,776,777,778,779,780,781,782,783,784,785,786,787,788,789,790,791,792,793,794,795,796,797,799,801,804,805,806,807,808,809,810,811,812,813,814,816,817,818,819,820,821,822,823,825,826,828,829,830,831,833,834,835,836,837,838,839,840,841,842,843,844,845,846,847,848,849,850,851,852,853,854,856,857,858,859,860,861,862,864,866,867,868,869,870,871,872,873,874,875,876,879,880,881,882,884,885,886,887,888,889,890,892,893,894,895,896,897,898,899,900,902,904,905,906,908,910,913,914,915,917,918,919,920,921,922,923,924,925,926,927,928,929,930,931,932,933,936,937,938,939,940,944,945,946,947,948,949,950,951,952,953,954,956,957,958,961,962,963,964,965,966,967,968,970,971,972,973,974,976,977,978,979,980,983,984,985,986,987,988,989,990,991,993,994,995,996,997,998,999,1000,1001,1002,1003,1004,1005,1006,1007,1008,1009,1010,1011,1013,1014,1015,1016,1017,1018,1019,1020,1022,1023,1024,1025,1026,1027,1028,1029,1030,1031,1034,1035,1036,1037,1038,1039,1042,1044,1045,1046,1047,1048,1049,1050,1051,1052,1053,1054,1055,1056,1057,1058,1059,1060,1061,1062,1063,1064,1065,1066,1067,1068,1069,1070,1071,1072,1073,1074,1075,1076,1077,1079,1080,1081,1082,1083,1084,1085,1087,1088,1089,1090,1091,1093,1094,1096,1097,1098,1099,1100,1101,1102,1104,1105,1107,1108,1109,1110,1111,1112,1113,1114,1115,1116,1117,1118,1119,1120,1121,1122,1123,1124,1125,1126,1129,1130,1131,1132,1133,1134,1135,1136,1137,1138,1140,1141,1142,1143,1144,1145,1148,1149,1150,1151,1152,1153,1154,1155,1156,1157,1158,1159,1160,1161,1162,1163,1164,1165,1166,1167,1168,1169,1170,1171,1172,1174,1175,1176,1177,1178,1179,1180,1181,1182,1183,1184,1185,1187,1188,1189,1190,1191,1192,1194,1195,1196,1197,1198,1199,1200,1201,1208,1210,1211,1212,1213,1214,1215,1216,1217,1218,1219,1220,1221,1222,1223,1224,1225,1226,1227,1228,1229,1230,1231,1232,1234,1235,1236,1237,1238,1239,1240,1241,1242,1243,1244,1245,1246,1248,1249,1250,1251,1253,1255,1256,1257,1258,1259,1260,1261,1262,1264,1265,1266,1267,1268,1269,1270,1271,1272,1274,1275,1276,1278,1279,1280,1281,1282,1283,1284,1285,1286,1287,1288,1289,1290,1291,1292,1293,1294,1295,1296,1297,1298,1299,1300,1301,1303,1304,1305,1306,1307,1308,1309,1310,1311,1312,1313,1314,1315,1316,1317,1318,1320,1321,1322,1323,1324,1325,1326,1327,1328,1329,1330,1331,1332,1333,1334,1335,1336,1338,1339,1340,1341,1342,1343,1344,1345,1346,1347,1348,1349,1350,1351,1352,1354,1355,1356,1357,1358,1359,1361,1362,1363,1364,1365,1366,1367,1368,1369,1370,1371,1372,1373,1374,1375,1376,1377,1378,1379,1380,1382,1383,1384,1385,1386,1387,1388,1389,1390,1391,1392,1393,1396,1397,1398,1399,1400,1401,1402,1403,1404,1405,1406,1407,1409,1411,1412,1413,1414,1415,1416,1417,1418,1419,1420,1421,1422,1423,1424,1425,1426,1427,1428,1429,1430,1431,1432,1433,1434,1436,1437,1438,1444,1445,1446,1447,1448,1449,1454,1455,1456,1457,1458,1459,1460,1461,1462,1463,1464,1465,1466,1467,1468,1469,1471,1472,1473,1474,1475,1476,1477,1478,1479,1480,1481,1482,1483,1484,1485,1486,1487,1488,1489,1490,1491,1492,1493,1495,1496,1497,1498,1499,1500,1501,1502,1503,1504,1505,1506,1507,1508,1509,1510,1511,1512,1513,1514,1515,1516,1517,1518,1519,1520,1521,1522,1524,1525,1526,1527,1528,1529,1530,1531,1532,1533,1534,1535,1536,1537,1538,1539,1540,1541,1542,1543,1544,1545,1546,1547,1548,1549,1550,1551,1552,1553,1554,1555,1556,1557,1559,1560,1561,1562,1563,1564,1565,1566,1567,1568,1569,1570,1571,1572,1573,1574,1575,1576,1577,1579,1580,1581,1582,1583,1584,1585,1586,1587,1588,1589,1590,1591,1592,1593,1594,1595,1596,1597,1598,1599,1600,1601,1602,1603,1604,1606,1607,1608,1609,1610,1611,1616,1617,1618,1619,1620,1621,1622,1623,1624,1625,1626,1627,1628,1629,1631,1632,1633,1635,1636,1637,1638,1639,1640,1646,1647,1648,1649,1650,1653,1654,1655,1656,1657,1660,1661,1662,1663,1664,1665,1666,1668,1669,1670,1671,1672,1673,1674,1675,1676,1677,1679,1680,1681,1682,1683,1684,1686,1687,1688,1689,1690,1693,1694,1695,1696,1697,1698,1699,1700,1701,1702,1703,1704,1705,1706,1708,1709,1710,1712,1714,1718,1719,1722,1723,1724,1725,1726,1727,1729,1751,1752,1753,1755,1756,1761,1763,1765,1766,1767,1769,1770,1771,1776,1777,1779,1780,1783,1784,1785,1786,1787,1788,1789,1790,1791,1792,1793,1794,1795,1796,1797,1798,1800,1803,1804,1808,1809,1811,1814,1815,1820,1827,1828,1829,1830,1831,1833,1834,1835,1836,1837,1838,1839,1840,1841,1842,1843,1844,1845,1846,1847,1848,1851,1852,1853,1854,1855,1856,1858,1859,1862,1864,1865,1866,1867,1868,1869,1870,1871,1872,1873,1874,1875,1876,1877,1878,1879,1880,1881,1882,1883,1884,1885,1886,1887,1888,1889,1890,1891,1892,1893,1894,1895,1896,1897,1898,1899,1900,1901,1902,1903,1904,1905,1906,1907,1908,1909,1910,1911,1912,1913,1914,1915,1916,1917,1918,1920,1921,1922,1923,1924,1926,1927,1928,1929,1930,1931,1932,1933,1934,1935,1936,1937,1938,1939,1940,1941,1942,1943,1944,1945,1946,1947,1948,1949,1950,1951,1952,1954,1956,1957,1958,1959,1960,1961,1962,1963,1964,1965,1966,1967,1968,1969,1970,1971,1972,1973,1974,1975,1976,1977,1978,1979,1980,1981,1982,1983,1984,1985,1986,1987,1988,1989,1990,1991,1992,1993,1994,1995,1996,1997,1998,1999,2000,2001,2002,2003,2004,2005,2006,2007,2008,2009,2010,2011,2012,2013,2014,2015,2017,2018,2019,2020,2021,2022,2023,2024,2025,2026,2027,2028,2029,2030,2031,2032,2033,2034,2035,2036,2037,2038,2039,2040,2041,2042,2043,2044,2046,2047,2048,2049,2050,2051,2052,2054,2055,2056,2057,2058,2059,2060,2061,2062,2064,2065,2066,2067,2068,2069,2070,2071,2072,2073,2074,2075,2076,2077,2078,2079,2080,2081,2082,2083,2084,2085,2086,2087,2088,2089,2090,2091,2092,2093,2094,2095,2096,2097,2099,2100,2101,2102,2103,2104,2105,2106,2107,2108,2109,2110,2113,2114,2115,2116,2117,2118,2119,2120,2121,2122,2124,2125,2126,2127,2128,2129,2130,2131,2132,2133,2134,2135,2136,2137,2138,2139,2140,2141,2142,2143,2144,2145,2146,2147,2148,2149,2150,2151,2152,2153,2154,2155,2156,2157,2158,2159,2160,2161,2162,2163,2164,2165,2166,2167,2168,2169,2170,2171,2172,2173,2174,2175,2176,2177,2178,2179,2180,2181,2183,2185,2187,2188,2190,2191,2192,2193,2194,2195,2196,2197,2198,2200,2201,2202,2204,2205,2206,2208,2209,2210,2212,2213,2215,2216,2217,2218,2219,2220,2221,2222,2223,2224,2228,2229,2230,2231,2233,2234,2235,2236,2237,2238,2239,2240,2241,2242,2243,2244,2245,2246,2247,2248,2249,2250,2251,2252,2253,2254,2255,2256,2258,2259,2260,2261,2262,2263,2264,2265,2266,2267,2268,2269,2270,2271,2272,2273,2274,2275,2276,2277,2278,2280,2281,2282,2283,2284,2285,2286,2287,2288,2289,2290,2291,2292,2293,2294,2295,2296,2298,2299,2300,2301,2302,2303,2304,2305,2306,2308,2309,2310,2311,2312,2313,2314,2315,2316,2317,2319,2320,2322,2323,2324,2325,2326,2327,2328,2329,2330,2331,2332,2333,2334,2335,2336,2339,2340,2341,2342,2344,2345,2348,2349,2350,2351,2353,2354,2355,2356,2357,2358,2359,2360,2361,2362,2363,2364,2365,2366,2367,2368,2369,2370,2371,2372,2373,2374,2375,2376,2377,2378,2379,2380,2381,2382,2383,2384,2385,2386,2387,2389,2390,2391,2392,2393,2394,2395,2396,2397,2398,2399,2400,2401,2402,2403,2404,2405,2406,2407,2408,2409,2410,2411,2412,2413,2414,2415,2416,2417,2418,2419,2420,2421,2422,2423,2424,2425,2426,2427,2428,2429,2430,2431,2432,2433,2434,2435,2436,2438,2440,2441,2442,2443,2444,2445,2448,2449,2450,2451,2452,2453,2454,2455,2456,2457,2458,2459,2460,2461,2462,2463,2464,2465,2466,2467,2468,2469,2471,2473,2474,2475,2476,2478,2479,2480,2481,2482,2485,2486,2487,2488,2489,2490,2491,2492,2493,2494,2495,2496,2497,2498,2499,2500,2501,2502,2503,2504,2505,2506,2508,2509,2510,2511,2512,2513,2514,2515,2517,2518,2519,2520,2521,2522,2523,2524,2526,2527,2528,2529,2530,2531,2532,2533,2534,2536,2537,2538,2539,2542,2543,2544,2545,2546,2547,2548,2549,2550,2551,2553,2554,2555,2556,2557,2558,2560,2561,2562,2563,2564,2565,2567,2568,2572,2573,2574,2575,2576,2577,2578,2579,2580,2581,2582,2583,2584,2585,2586,2587,2588,2589,2590,2591,2592,2593,2594,2595,2596,2597,2598,2599,2602,2603,2604,2605,2606,2607,2608,2609,2610,2611,2612,2613,2614,2615,2616,2617,2618,2619,2620,2621,2622,2623,2624,2625,2626,2627,2628,2629,2630,2631,2634,2636,2637,2638,2639,2640,2641,2642,2643,2644,2645,2646,2648,2649,2650,2651,2652,2653,2654,2655,2656,2657,2658,2659,2660,2661,2662,2664,2665,2666,2667,2668,2669,2670,2671,2672,2673,2674,2675,2676,2677,2678,2679,2680,2681,2682,2683,2685,2686,2687,2688,2689,2690,2691,2692,2693,2694,2695,2696,2697,2698,2699,2701,2702,2705,2706,2708,2709,2710,2711,2712,2716,2717,2718,2719,2720,2721,2724,2725,2726,2727,2728,2729,2730,2731,2732,2733,2734,2735,2737,2738,2739,2742,2743,2744,2745,2746,2747,2748,2749,2750,2751,2754,2755,2756,2757,2758,2760,2761,2762,2763,2764,2765,2766,2767,2768,2769,2770,2771,2772,2773,2775,2776,2777,2779,2780,2781,2782,2783,2784,2785,2786,2787,2788,2789,2790,2791,2792,2793,2794,2795,2797,2798,2799,2801,2802,2805,2807,2808,2809,2811,2812,2814,2815,2816,2817,2818,2819,2820,2821,2822,2823,2824,2825,2826,2827,2830,2831,2832,2833,2834,2835,2836,2837,2838,2839,2840,2841,2842,2843,2844,2845,2846,2847,2848,2849,2850,2851,2852,2853,2855,2856,2857,2858,2859,2860,2862,2863,2864,2866,2867,2868,2870,2871,2872,2874,2877,2878,2880,2882,2883,2884,2885,2886,2888,2889,2890,2891,2892,2893,2894,2895,2896,2898,2899,2900,2901,2902,2908,2909,2910,2911,2912,2914,2915,2916,2917,2918,2919,2920,2921,2922,2923,2924,2925,2928,2929,2930,2931,2932,2933,2934,2935,2936,2937,2938,2940,2941,2942,2944,2945,2946,2947,2948,2949,2950,2951,2952,2953,2954,2955,2956,2957,2958,2959,2960,2961,2962,2963,2964,2965,2966,2967,2968,2969,2970,2971,2972,2973,2974,2975,2976,2978,2979,2980,2981,2982,2983,2984,2985,2986,2987,2988,2989,2990,2991,2992,2993,2994,2995,2996,2997,2998,2999,3000,3001,3002,3003,3004,3005,3008,3009,3010,3011,3012,3014,3015,3016,3017,3019,3021,3023,3024,3027,3028,3029,3030,3031,3033,3034,3035,3036,3037,3038,3039,3040,3041,3042,3043,3044,3045,3046,3047,3048,3049,3050,3051,3052,3053,3054,3055,3056,3057,3058,3059,3060,3061,3062,3063,3064,3065,3066,3067,3068,3069,3070,3071,3072,3073,3074,3075,3076,3077,3078,3079,3080,3082,3083,3084,3085,3086,3087,3088,3089,3090,3091,3092,3093,3094,3095,3096,3097,3098,3099,3100,3101,3102,3103,3104,3105,3106,3107,3108,3109,3110,3111,3112,3113,3114,3115,3116,3117,3118,3119,3120,3121,3123,3124,3125,3126,3127,3128,3129,3130,3131,3132,3133,3134,3135,3136,3137,3138,3139,3140,3141,3142,3143,3144,3145,3146,3147,3148,3149,3150,3151,3152,3153,3155,3156,3157,3158,3160,3161,3162,3163,3164,3165,3166,3167,3168,3169,3170,3171,3172,3173,3174,3175,3176,3177,3179,3181,3182,3183,3184,3185,3186,3188,3189,3190,3191,3192,3193,3194,3195,3196,3197,3198,3199,3200,3201,3202,3203,3204,3205,3206,3207,3208,3209,3210,3211,3212,3213,3214,3215,3216,3217,3219,3222,3223,3224,3225,3226,3227,3228,3230,3231,3232,3233,3234,3235,3236,3238,3239,3240,3241,3242,3243,3244,3245,3246,3247,3248,3249,3250,3251,3252,3253,3254,3255,3256,3257,3258,3259,3260,3261,3262,3263,3264],\"xaxis\":\"x\",\"y\":[0.78,10.0,2.5,55.61,143.9,0.99,189.0,84.68,11.45,5.0,48.76,333.84,1.98,5.0,13.99,8.8,12.61,0.92,189.8,50.0,17.13,26.55,9.87,518.08,0.99,13.98,24.15,1.0,2.29,39.99,40.55,0.89,1.0,67.38,1.0,1.0,1.0,12.14,45.9,62.59,97.85,83.06,17.88,13.78,8.06,0.0,33.0,14.41,66.9,4.23,34.99,169.0,4.61,50.0,14.95,64.98,38.95,45.9,50.0,7.6,49.22,4.14,0.5,76.0,71.59,919.17,1946.35,0.0,26.19,11.14,75.0,46.04,153.7,15.95,15.95,19.08,5.96,20.72,3.3,7.58,39.6,83.0,9.95,5.99,2.67,26.56,24.16,59.9,45.8,30.0,74.95,0.89,8.99,1.52,14.95,103.5,43.98,379.99,8.36,109.0,27.84,5.95,11.85,7.57,1.0,88.67,11.85,11.85,21.05,0.01,5.0,55.31,5.0,5.0,10.0,4.0,10.0,10.6,75.8,11.85,9.85,38.95,45.49,36.4,9.72,11.85,8.99,185.99,100.0,15.14,67.58,6.79,10.5,339.32,189.59,270.0,135.91,6.52,141.0,34.9,1.52,12.31,298.37,978.61,8.99,17.8,1.5,82.0,8.99,182.6,51.4,2.51,1.52,14.99,21.95,18.4,8.91,21.9,1.98,44.74,1.29,9.99,160.95,6.0,0.89,8.48,271.72,53.86,8.99,1.0,26.95,1.0,22.55,1.98,67.7,93.99,9.88,193.0,89.99,124.22,58.06,12.13,16.6,79.56,89.99,20.9,1.98,15.0,16.18,45.9,6.8,0.89,12.95,99.6,5.47,159.06,6.9,1.52,12.99,34.0,144.07,1.0,38.75,2.0,27.0,39.99,17.07,11.83,86.9,6.99,39.18,188.63,9.42,1.46,189.0,11.53,76.0,7.63,1.0,31.95,12.31,0.77,29.56,0.25,68.0,17.99,49.5,7.95,7.95,1.0,14.95,4.9,6.0,301.7,60.0,42.99,70.5,4.5,27.06,2.69,1.98,2.0,79.0,24.8,10.94,90.0,3.98,1.0,287.48,2.0,1.79,12.0,40.0,216.27,24.37,104.0,9.99,1.18,54.99,457.75,91.8,65.9,291.63,1.79,0.68,1.99,89.99,1.0,6.5,5.34,52.0,196.6,1.0,46.3,35.92,0.76,0.92,12.31,100.0,0.0,134.0,10.0,51.3,15.13,251.0,83.05,90.0,134.1,10.0,7.83,26.2,20.29,152.65,80.29,5.99,29.61,9.99,88.99,9.99,45.9,39.0,32.29,10.0,152.9,1.0,14.9,49.99,14.99,60.0,143.75,69.0,0.76,118.37,34.8,9.72,185.45,0.77,190.0,435.0,4.99,750.0,14.84,2692.15,165.63,74.25,9.5,54.39,29.99,104.75,1.52,40.0,50.0,25.0,192.0,1.18,5.76,60.39,27.72,3.76,39.0,3.84,49.95,33.98,435.64,1.07,3.86,2.69,300.0,147.86,157.89,10.62,75.55,26.94,36.51,52.1,306.24,100.0,11.53,6.67,32.64,11.5,1.29,11.99,14.9,22.71,84.64,86.14,16.0,25.88,39.9,115.89,40.94,90.31,4.49,0.89,75.0,2.69,401.12,52.98,28.52,3.11,2.58,200.0,24.95,32.99,55.5,82.0,36.95,25.0,79.95,42.57,15.92,1.0,21.27,10.42,43.8,1368.15,1.0,39.95,279.0,214.0,103.0,35.9,7.49,159.0,431.97,7.74,25.0,508.0,25.67,6.28,9.99,10.65,1.79,1.98,219.94,51.17,45.0,79.96,39.5,19.77,73.4,4.49,1.79,24.95,45.0,8.0,10.4,16.49,0.8,49.38,13.96,11.5,96.5,236.6,2.29,45.0,1.0,10.65,8.99,20.61,281.15,30.35,76.09,0.76,59.01,0.0,57.0,71.39,379.97,143.0,64.36,0.76,1.0,127.83,81.49,24.99,17.33,0.77,79.54,7.49,83.22,30.0,1.98,435.7,84.89,264.3,19.97,3.07,100.0,1524.51,137.95,58.11,82.4,113.87,9.51,25.0,525.0,254.0,134.99,11.5,527.17,435.7,140.8,1.29,15.96,12.99,9.99,1.79,6.0,31.09,43.85,3.5,14.99,73.86,64.96,450.0,7.18,1.29,160.0,24.0,123.91,9.98,29.23,0.77,8.99,1.79,23.78,88.72,60.0,119.5,3.08,424.8,12.99,0.89,9.99,14.88,12.0,9.99,53.72,93.9,194.94,90.0,74.0,22.8,1.0,1.49,188.0,350.0,29.99,204.66,4.53,110.64,178.87,69.99,42.89,315.0,106.6,87.89,177.44,0.99,41.6,28.5,151.2,84.99,470.88,8.27,13.45,49.61,360.0,47.48,2.69,30.99,1.98,2.2,4.0,30.9,29.99,40.0,25.27,10.0,8.0,50.99,24.99,1.0,8.99,254.33,75.08,2.99,17.99,16.2,0.89,1.0,28.7,71.96,141.57,0.76,8.01,280.5,156.9,3.91,119.99,4.49,0.89,235.0,59.9,41.45,9.83,29.56,56.96,12.99,56.09,2.0,980.0,7.68,75.9,1.0,23.32,11.5,1.0,7.6,1.0,346.02,1.0,1.0,0.99,1.0,44.88,12.0,100.0,39.0,104.1,64.03,1.29,1.0,75.0,193.9,8.99,1.0,133.1,1826.6,129.0,1.29,14.36,380.9,337.1,82.21,6.18,24.2,2.0,73.6,8.23,1.0,211.79,39.99,7.45,30.0,196.0,20.0,2.69,6.18,38.84,27.88,13.57,73.48,237.95,52.0,9.77,14.24,140.0,54.6,109.8,589.76,42.55,127.12,3.8,69.99,199.0,12.31,152.3,154.04,108.14,33.0,18.2,150.0,0.89,12.95,9.99,10.0,1.46,4.49,0.89,1286.94,1469.02,2.35,79.9,1.0,0.99,117.0,62.5,27.83,1.5,144.0,530.0,8.99,45.0,163.96,76.6,26.02,14.6,68.0,1.29,156.81,11.5,1.78,4.99,220.87,60.0,9.99,4.78,110.39,9.46,27.83,198.86,19.99,15.29,557.76,4.99,4.54,0.89,2.0,35.97,1.29,209.85,10.0,1.98,1.0,10.99,59.11,32.69,11.3,126.0,10.65,30.32,102.05,30.92,1.98,49.76,11.5,104.0,51.8,74.15,34.0,1.0,623.02,552.42,29.97,314.0,1.0,62.39,12.99,116.7,17.24,9.99,50.0,2.28,420.0,214.23,41.95,1.98,200.0,79.0,21.8,187.5,170.0,20.98,1.0,21.8,30.0,18.96,34.99,1.42,184.94,126.48,9.15,106.18,71.66,739.0,9.99,36.0,39.15,1.67,50.9,186.21,1.98,120.3,270.07,1.49,0.01,300.0,89.2,60.0,205.16,330.0,1.0,77.89,22.49,12.31,200.0,54.4,1.98,29.67,17.99,7.37,7.25,59.74,38.0,45.85,3.99,42.0,57.48,37.73,21.26,11.99,106.8,0.76,73.97,291.95,40.56,3.87,2.18,1.0,9.99,879.72,1.98,186.07,120.4,29.1,119.44,79.9,5.0,15.37,183.0,1.0,14.99,8.93,10.65,135.32,0.89,28.11,14.32,10.0,14.14,328.8,13.85,8.99,171.8,53.07,50.0,49.51,78.54,9.99,3.69,89.95,7.95,250.0,16.5,263.91,150.0,1.0,179.98,5.5,650.0,20.08,45.0,1.0,4.99,39.94,7.63,3.99,4.99,13.99,28.75,33.8,15.0,8.62,9.99,36.0,13.01,8.98,605.99,1.49,359.2,1.0,158.0,9.99,106.0,301.74,50.0,73.95,5.9,119.51,29.95,500.0,49.95,28.75,6.58,143.75,13.62,1.0,100.0,130.99,372.0,22.6,12.33,146.26,236.74,6.05,224.96,11.5,0.89,9.99,55.0,8.91,125.9,69.99,99.99,361.29,1.98,13.48,6.0,91.0,2.8,5.17,47.5,1.0,15.0,3.58,88.61,172.29,7.99,14.4,8.49,71.35,744.38,10.0,0.89,96.75,49.94,61.0,24.67,1.79,1.29,4.57,10.0,15.0,57.0,226.98,246.91,2.67,30.0,25.95,591.3,1948.32,299.46,1.0,88.14,0.64,15.27,1.98,12.31,125.57,62.79,14.19,409.18,0.89,34.95,16.98,8.99,39.99,4.49,0.77,24.53,27.48,2.0,19.95,84.03,188.0,398.0,1.98,0.76,9.99,4.74,50.0,57.81,74.98,2.69,1.98,39.95,29.9,2.68,39.99,17.69,54.65,22.81,10.0,1.5,7.09,1.98,3.74,7.83,271.0,70.7,7.68,2.69,1.29,8.3,19.99,25.0,22.81,1.0,8.99,0.76,9.99,35.91,28.5,1.29,1.0,11.72,65.0,79.54,9.99,78.0,8.02,69.99,16.01,7.05,4.49,175.85,139.9,20.0,82.61,1.98,22.34,1.0,139.0,198.0,0.12,4.99,2.28,159.06,3.49,49.95,0.89,20.0,24.38,5.0,166.6,1.0,184.85,11.5,9.99,20.6,234.8,8.99,12.25,212.0,126.62,89.68,452.96,30.0,329.96,15.34,1.98,16.0,2.68,0.89,22.06,1.79,25.0,25.0,12.99,21.9,5.0,132.0,59.0,43.4,3.27,1.0,128.4,344.1,7.8,103.46,0.89,381.73,144.52,13.99,8.07,57.45,1.79,3.8,19.95,48.98,40.29,8.99,4.48,3.53,235.14,6.99,49.99,150.0,9.6,4.49,37.0,182.45,9.99,4.49,59.35,11.77,89.02,39.0,45.99,4.49,1.29,74.99,259.0,8.94,4.99,15.0,12.99,15.73,23.3,100.0,298.0,4.49,41.0,10.65,2.0,23.0,36.0,11.41,377.73,0.99,2.49,114.61,154.0,45.5,74.0,145.0,18.74,2917.64,119.0,79.0,9.99,5.0,0.89,7.49,36.15,28.75,1.98,0.12,27.83,9.99,192.0,2.58,2.69,28.0,129.08,1.98,6.1,40.25,9.99,47.6,57.46,109.9,15.21,22.73,75.66,2.0,14.31,40.0,43.6,8.0,40.0,2.49,3.54,445.22,85.25,26.65,12.97,7.0,0.89,167.65,2.22,4.99,74.9,0.76,25.0,33.9,90.0,19.73,38.0,125.9,1.29,9.57,0.89,2.69,32.42,9.99,10.58,52.78,0.76,9.99,5.99,39.6,14.17,1.0,65.0,163.74,182.52,2.49,110.7,0.89,2.97,16.95,1.29,15.84,134.6,132.24,161.95,245.67,18.35,179.9,188.89,55.74,3.67,8.99,1.0,1.0,1.0,2.28,1.0,3.6,119.8,175.38,38.64,20.0,179.7,1.18,27.58,21.1,3.56,1.29,41.32,85.95,3.78,40.0,142.0,4.49,3.6,62.0,302.65,1.0,1.0,400.0,24.64,31.35,1.0,0.99,230.28,50.96,1.0,1.47,14.45,1.0,1.0,1.0,19.99,1.0,3.8,73.68,30.46,4.49,206.13,122.83,39.05,35.0,15.0,100.0,70.0,5.0,440.0,1.0,1.0,0.9,109.5,11.5,6.03,0.0,223.48,10.46,1.0,7.93,90.0,43.5,280.0,35.0,152.96,0.89,109.02,113.49,12.31,2.28,59.99,12.99,51.11,10.8,12.99,29.9,6.3,29.95,235.14,247.9,1.29,1.34,1.98,0.99,29.99,1.98,8.0,1.29,13.8,31.1,3.59,7.61,8.97,9.55,4.77,89.0,19.63,4.86,329.85,6.76,28.34,4.49,2.69,59.85,654.92,31.78,1.98,137.0,1.0,9.21,257.13,21.91,34.9,217.0,23.9,9.99,12.99,59.2,29.56,2.49,59.15,52.02,86.0,200.0,59.74,5.0,23.0,206.0,1.0,1.0,1.0,12.16,1.79,15.92,108.0,288.59,1.0,1.0,45.81,3.0,5.64,25.0,8.95,24.9,29.59,17.35,51.06,74.99,75.35,45.9,4.84,872.58,20.07,0.89,4.99,248.09,100.94,73.91,0.77,20.95,7.87,202.85,7.94,1.0,58.91,2.49,1.0,33.35,7.56,159.4,4.49,11.5,8.0,0.77,6.54,8.96,33.4,10.0,1.0,5.0,1.0,7.9,76.07,40.0,0.99,59.99,76.65,17.85,189.0,1.0,6.99,9.99,56.02,91.62,1.98,28.85,7.7,14.99,21.8,45.36,348.12,55.3,49.94,132.6,30.0,3.4,37.53,42.4,3.77,46.0,8.44,49.44,16.95,39.93,36.0,1.5,6.57,6.57,9.99,10.62,128.0,4.49,6.9,10.0,11.07,0.01,20.0,53.77,47.97,98.4,22.8,66.0,15.95,15.95,15.95,39.0,14.95,25.79,0.0,12.99,65.55,132.52,141.9,9.99,4.49,3.99,15.54,15.95,15.95,29.0,103.0,10.0,1.79,22.7,19.72,58.91,1.98,7.56,81.15,45.9,19.99,1.51,18.0,11.27,1.51,0.93,9.39,75.86,2.78,9.95,4.55,8.78,7.99,69.0,39.45,165.65,1.0,1.0,1.0,0.99,1.0,500.0,19.4,0.99,15.0,191.78,1.51,15.0,5.99,1.99,19.97,11.19,25.92,384.89,72.02,12.48,0.87,69.99,2.87,53.06,12.31,85.0,15.0,1.0,1.0,1.0,1.0,17.57,5.0,1.18,1.0,9.0,35.0,25.0,62.8,39.8,155.0,16.99,60.65,0.89,1.98,4.49,12.99,2.0,539.0,90.0,9.56,2.69,0.22,11.0,64.0,1.0,38.85,48.33,62.48,13.99,370.75,103.5,94.09,17.99,23.9,9.04,69.9,71.98,59.84,4.99,9.99,16.0,71.38,42.0,0.99,27.45,5.0,0.99,89.03,15.0,21.51,816.0,114.0,0.75,600.0,16.57,1.99,22.9,80.0,33.0,39.99,20.88,97.61,9.99,2.69,43.76,17.76,19.83,1.46,152.65,138.7,18.88,11.99,2.68,494.96,6.99,197.53,0.99,90.59,61.95,204.61,2.4,71.4,161.9,125.65,31.39,29.95,11.98,235.81,1073.52,41.0,50.0,120.0,45.19,0.0,5.39,70.99,11.99,37.81,400.0,88.35,174.41,39.99,98.25,150.0,8.99,4.0,20.9,18.5,0.89,1.0,10.62,1.0,10.0,8.99,3.0,650.0,35.15,0.89,252.43,39.95,2.69,262.86,5.0,63.0,3.57,131.62,12.06,90.0,37.95,764.47,91.72,6.54,1.79,43.25,9.99,37.72,254.51,45.98,10.0,1.0,129.6,48.07,18.0,28.8,12.19,0.99,10.0,15.1,24.99,569.5,83.5,49.0,93.64,58.93,439.43,797.9,1136.02,30.0,27.74,66.26,0.0,20.0,8.42,239.98,265.16,62.52,40.0,6.94,152.65,39.99,18.95,25.0,0.0,69.0,20.0,74.95,412.98,144.0,433.01,1.98,47.88,3.4,8.0,1.79,309.58,76.5,18.0,254.5,15.0,23.93,318.0,244.77,8.13,55.08,63.48,1.0,66.0,182.0,219.94,1.54,0.89,1.0,179.91,0.99,85.91,17.85,14.0,10.62,500.0,2.69,1256.34,524.66,1.0,0.89,63.34,94.52,142.0,40.9,8.99,40.0,19.0,30.0,306.58,206.0,1.54,376.91,315.0,57.0,53.25,17.72,94.24,80.54,1.98,11.98,9.99,0.0,37.95,4.99,74.42,23.67,18.0,33.13,24.18,2.69,9.59,89.0,240.81,23.5,9.99,40.46,1.3,39.9,119.25,1.98,1.98,1.0,12.31,45.0,29.0,185.0,1.0,1.5,116.84,42.0,66.0,0.89,29.99,1.0,22.68,1.23,28.8,46.96,4.99,137.68,500.0,2.9,24.0,0.76,717.13,60.62,25.45,11.99,611.92,233.62,1.0,249.45,1.51,149.81,13.0,754.0,5.48,209.03,4.08,1.98,11.1,0.76,15.41,10.48,63.75,15.0,217.73,35.76,437.0,0.89,20.0,20.4,0.0,340.87,7.26,1.5,1.0,0.76,12.9,0.0,20.0,29.98,1.0,103.9,0.76,330.96,29.25,666.0,250.52,1.0,159.37,36.89,21.4,0.76,39.1,19.09,59.26,70.0,140.0,358.21,7.11,2.99,190.0,29.0,5.9,6.05,12.49,14.0,153.65,40.04,1.0,95.0,36.44,99.95,200.0,2.48,85.5,12.0,22.0,1.25,126.44,150.22,60.0,80.31,478.0,59.16,44.0,15.17,0.77,14.01,5.0,0.76,7.59,0.89,30.0,109.67,7.92,74.95,33.85,44.0,32.17,44.67,9.85,45.0,20.69,1.29,27.99,17.23,15.5,6.01,22.72,431.24,25.0,190.0,59.95,378.0,1.0,127.01,38.0,5.0,444.0,15.8,118.0,94.58,2.0,1.98,4.57,548.0,13.0,55.3,476.0,36.29,34.99,75.6,129.0,7.63,7.58,400.0,0.76,6.0,5.94,0.76,2.0,29.95,7.7,60.78,9.05,13.46,150.05,17.4,36.05,1.98,14.37,2.0,248.0,9.7,54.0,11.3,50.0,47.19,1.98,0.0,68.9,15.0,523.99,13.49,24.99,15.0,9.42,88.23,67.3,1.98,341.0,8.59,0.01,37.73,378.32,147.5,35.95,93.92,265.5,221.9,312.17,58.45,37.38,7.5,49.99,900.0,199.0,59.0,83.06,75.72,12.13,500.0,1.18,7.03,0.76,13.01,3.7,11.0,60.98,373.5,103.76,25.57,24.9,45.0,62.0,704.22,7.7,27.99,36.78,40.0,152.63,101.19,45.0,657.77,9.99,36.24,2.19,34.05,34.95,44.44,388.76,1.29,775.37,218.56,39.99,15.73,11.42,80.0,174.25,0.75,216.28,45.9,0.76,517.67,37.8,22.94,59.98,34.19,106.13,1.79,59.0,17.1,2.31,2.69,168.5,0.99,1.29,16.31,74.95,1.7,114.2,107.2,44.99,25.19,0.0,811.68,17.06,19.5,9.99,1.54,1.79,1.0,116.0,2.16,150.0,29.0,45.45,1.0,68.0,24.64,719.4,23.48,3.58,0.89,19.1,25.0,270.0,60.0,7.49,1837.66,19.98,117.78,73.96,0.89,54.75,41.75,7.86,63.25,1.0,28.91,2.69,270.0,16.0,75.66,1.0,28.0,10.52,179.84,25.09,266.97,130.23,1.98,84.48,99.0,760.82,109.0,37.76,24.59,6.06,1.27,5.38,17.9,6.89,242.7,41.3,50.0,2.58,55.0,249.0,0.76,193.91,4.78,3.79,0.0,58.61,1.0,76.61,10.0,30.93,38.88,15.0,180.36,45.9,1.29,1.98,58.58,20.04,345.0,79.94,29.95,1.0,75.03,173.6,14.68,0.01,12.94,33.0,160.0,10.82,59.8,174.38,168.93,19.95,11.5,11.47,4.6,0.77,3.57,1.79,19.28,133.25,28.99,11.4,1.98,49.9,1.98,204.1,75.66,109.0,16.15,98.86,60.0,30.9,10.59,18.98,758.58,10.0,0.76,145.0,38.29,19.99,1.98,17.52,0.76,43.9,72.45,16.15,384.0,183.56,77.69,5.9,39.4,2.69,1069.32,91.79,11.82,60.95,63.0,0.77,115.47,41.6,115.05,8.99,8.99,825.58,4.99,49.99,51.6,1.79,5.51,25.0,27.83,67.0,1.49,9.51,14.78,51.41,79.95,8.07,68.0,160.48,9.42,16.99,246.0,36.0,108.0,27.59,2400.0,199.97,19.99,195.0,79.45,27.85,9.99,14.01,22.72,100.0,9.99,738.18,17.99,59.29,0.76,0.99,41.25,69.32,0.99,16.17,538.0,8.06,40.99,10.0,2.23,19.95,11.59,15.0,32.95,48.6,35.38,3.99,21.99,26.71,1.29,105.17,139.07,1.29,27.52,0.0,6.25,44.48,1.98,0.99,42.59,0.0,35.6,19.99,79.9,53.1,1.52,1.29,273.5,284.0,1.98,7.69,55.04,402.75,1195.51,10.59,0.89,2.18,8.99,116.9,167.54,200.95,0.89,60.0,267.62,5.0,8.99,8.91,19.95,5.49,7.49,2.69,21.99,59.99,1.79,84.0,17.6,20.0,1.49,2.28,27.52,27.74,6.96,11.5,1.98,1.0,5.27,0.89,15.0,28.49,723.81,148.09,30.36,29.99,0.02,89.0,41.7,1.0,600.0,85.8,15.0,0.99,0.99,29.52,94.84,4.29,47.0,60.81,109.7,48.72,20.0,1029.48,49.99,7.91,36.91,114.72,26.51,2.38,1.46,1.98,110.0,8.99,60.4,2.59,0.89,71.39,150.36,9.81,39.9,5.8,125.16,1.0,1.98,1.0,129.0,4.5,84.19,912.49,39.99,75.74,232.81,14.9,11.0,16.0,1.29,0.0,17.2,4.49,59.23,34.56,12.49,45.2,1.0,4.4,23.2,54.95,64.99,69.0,2.28,2.0,1.0,2.0,1.0,234.57,1.0,1.0,42.48,4.5,0.76,15.97,12.1,48.0,1.0,1.78,2.0,452.5,99.94,166.55,7.14,0.99,34.0,80.77,23.69,799.0,295.3,29.99,189.0,238.75,38.0,448.5,45.0,0.89,12.0,6.7,30.34,8.99,1.0,25.21,6.39,59.94,101.74,620.0,1.29,24.7,185.0,75.49,15.0,44.0,129.0,3.85,10.95,39.98,12.31,195.64,0.99,0.01,2.28,18.68,64.0,10.0,0.99,11.99,1.54,64.95,71.0,48.5,12.27,12.31,74.9,150.52,15.0,5.99,0.69,644.34,5.0,0.76,111.5,11.5,1.98,9.64,25.38,14.09,19.95,45.1,40.0,17.99,70.0,31.61,59.4,1.0,11.5,49.9,28.75,5.78,0.0,6.0,9.99,0.99,12.31,164.81,164.82,2.0,20.0,160.51,15.33,69.99,7.11,19.95,300.24,6.47,17.99,4.45,9.49,39.97,34.95,4.26,80.21,34.99,20.0,2.69,252.6,22.39,43.3,7.7,371.07,67.11,1.29,20.0,29.99,48.9,3.6,218.88,6.2,407.0,85.05,0.92,112.64,346.2,96.9,1.0,64.0,0.0,18.96,45.9,0.0,50.9,23.72,82.65,123.2,103.0,14.9,52.48,19.99,315.3,4.99,30.0,1.29,14.0,20.0,85.66,223.3,191.42,19.34,1.98,1.29,30.82,57.98,24.99,20.0,5.49,55.0,15.16,72.61,8.0,25.0,24.95,9.99,42.81,42.81,10.62,8.99,1.98,12.9,19.95,0.14,16.22,278.0,167.24,0.99,24.3,55.0,39.6,38.16,3.98,20.0,0.01,8.99,35.9,1.5,507.3,1.0,5.27,9.99,1.51,6.45,9.72,15.0,30.0,397.2,85.25,1.79,25.0,138.63,1.0,43.0,225.04,24.0,1.68,50.0,1.79,500.0,59.99,947.95,2.69,789.71,1.29,295.0,1.0,1.79,53.4,1.98,15.0,0.89,29.57,7.76,7.59,28.69,4.99,3.77,1.98,49.99,4.49,29.95,8.13,14.99,19.99,73.5,0.77,353.07,26.0,99.0,37.92,6.84,9.01,144.0,65.0,0.89,100.0,2.28,1.0,62.75,20.98,1.0,1.0,2.16,127.45,52.0,20.0,48.39,46.85,27.0,28.16,3.85,134.9,93.5,1.0,49.99,19.16,6.43,24.0,37.7,92.23,0.95,85.25,593.2,116.49,26.98,11.5,1.98,10.0,192.31,463.4,0.77,1.0,250.0,1.0,0.89,38.2,1.98,1.5,29.99,16.96,2.99,6.8,77.31,403.56,22.9,176.9,186.66,19.95,62.99,15.98,1.98,47.64,0.89,50.0,98.18,49.99,113.52,1.98,594.37,38.42,12.99,4.54,2.69,22.91,89.9,11.75,600.0,7.27,10.2,112.18,108.0,2.68,56.15,27.22,5.38,51.57,31.99,21.99,0.38,33.35,7.6,59.0,1.0,15.96,172.74,10.09,0.89,23.95,179.98,21.77,9.99,14.99,456.18,3.59,15.0,7.63,15.3,16.99,1.0,9.99,10.0,101.98,4.71,595.59,1.0,8.73,128.48,24.95,9.99,8.94,0.89,0.99,10.0,0.01],\"yaxis\":\"y\",\"type\":\"scattergl\"},{\"hovertemplate\":\"color=1\\u003cbr\\u003eindex=%{x}\\u003cbr\\u003eAmount=%{y}\\u003cextra\\u003e\\u003c\\u002fextra\\u003e\",\"legendgroup\":\"1\",\"marker\":{\"color\":\"#EF553B\",\"symbol\":\"circle\"},\"mode\":\"markers\",\"name\":\"1\",\"showlegend\":true,\"x\":[3,4,51,61,62,63,64,65,66,67,68,69,71,72,73,75,76,78,79,81,85,86,87,88,89,100,101,103,106,107,110,111,113,115,119,120,127,128,135,140,141,142,143,144,146,150,152,153,159,166,168,170,171,174,177,180,196,197,198,199,200,204,205,206,207,208,210,212,213,215,216,217,219,226,231,234,243,244,245,247,248,255,256,259,260,271,299,302,334,343,346,347,348,376,381,385,387,388,389,390,392,398,414,472,480,485,498,500,502,503,504,516,517,519,521,522,523,524,525,526,527,528,529,530,532,533,535,536,537,538,539,540,544,545,547,549,551,552,554,556,558,564,570,586,587,588,595,599,618,620,639,640,641,647,651,667,683,690,691,692,695,701,712,741,755,757,766,767,768,798,800,802,803,815,824,827,832,855,863,865,877,878,883,891,901,903,907,909,911,912,916,934,935,941,942,943,955,959,960,969,975,981,982,992,1012,1021,1032,1033,1040,1041,1043,1078,1086,1092,1095,1103,1106,1127,1128,1139,1146,1147,1173,1186,1193,1202,1203,1204,1205,1206,1207,1209,1233,1247,1252,1254,1263,1273,1277,1302,1319,1337,1353,1360,1381,1394,1395,1408,1410,1435,1439,1440,1441,1442,1443,1450,1451,1452,1453,1470,1494,1523,1558,1578,1605,1612,1613,1614,1615,1630,1634,1641,1642,1643,1644,1645,1651,1652,1658,1659,1667,1678,1685,1691,1692,1707,1711,1713,1715,1716,1717,1720,1721,1728,1730,1731,1732,1733,1734,1735,1736,1737,1738,1739,1740,1741,1742,1743,1744,1745,1746,1747,1748,1749,1750,1754,1757,1758,1759,1760,1762,1764,1768,1772,1773,1774,1775,1778,1781,1782,1799,1801,1802,1805,1806,1807,1810,1812,1813,1816,1817,1818,1819,1821,1822,1823,1824,1825,1826,1832,1849,1850,1857,1860,1861,1863,1919,1925,1953,1955,2016,2045,2053,2063,2098,2111,2112,2123,2182,2184,2186,2189,2199,2203,2207,2211,2214,2225,2226,2227,2232,2257,2279,2297,2307,2318,2321,2337,2338,2343,2346,2347,2352,2388,2437,2439,2446,2447,2470,2472,2477,2483,2484,2507,2516,2525,2535,2540,2541,2552,2559,2566,2569,2570,2571,2600,2601,2632,2633,2635,2647,2663,2684,2700,2703,2704,2707,2713,2714,2715,2722,2723,2736,2740,2741,2752,2753,2759,2774,2778,2796,2800,2803,2804,2806,2810,2813,2828,2829,2854,2861,2865,2869,2873,2875,2876,2879,2881,2887,2897,2903,2904,2905,2906,2907,2913,2926,2927,2939,2943,2977,3006,3007,3013,3018,3020,3022,3025,3026,3032,3081,3122,3154,3159,3178,3180,3187,3218,3220,3221,3229,3237],\"xaxis\":\"x\",\"y\":[0.0,529.0,239.93,59.0,1.0,1.0,1.0,1.0,1.0,1.0,1.0,1.0,1.0,1.0,1.0,1.0,1.0,1.0,1.0,1.0,1.0,1.1,1.0,1.0,1809.68,1.0,1.0,1.0,1.0,1.0,0.0,30.39,179.66,1.0,1.0,1.0,1.0,1.0,11.39,3.79,3.79,3.93,1.0,766.36,1218.89,1.0,188.78,1.0,1.0,1.0,1.0,1.0,1.0,1.0,1.0,1.0,3.12,99.99,99.99,99.99,3.76,99.99,99.99,99.99,99.99,99.99,99.99,99.99,99.99,99.99,99.99,99.99,99.99,23.36,99.99,730.86,99.99,99.99,99.99,99.99,99.99,0.68,0.68,0.68,30.3,104.81,0.0,717.15,19.02,1.52,18.96,125.3,19.02,0.76,60.6,7.61,1.0,9.13,4.56,14.46,111.7,111.7,12.31,776.83,1.0,1.0,1.0,1.0,0.76,0.76,112.33,3.79,340.11,88.23,5.3,83.38,11.38,1.52,88.23,30.26,459.07,0.0,118.3,45.49,173.07,37.32,59.68,0.76,9.99,34.12,273.01,106.55,364.19,39.45,53.95,172.32,802.52,99.99,139.9,1.0,1.0,1.0,1.0,1.0,648.0,204.27,88.0,24.9,1.0,1.0,1.0,105.99,1.0,1.0,1.0,1.0,0.76,7.58,0.76,0.76,208.58,1.0,19.73,360.0,99.99,99.99,99.99,99.99,99.99,519.9,0.76,0.76,1.18,8.0,0.0,112.45,261.87,1.79,1.0,0.83,0.83,130.44,311.91,170.92,153.46,7.52,1.0,5.0,0.01,444.17,1.0,1.0,1.0,1.75,5.09,270.0,113.92,45.64,1389.56,18.98,6.27,319.2,5.91,454.82,101.5,19.04,6.62,180.0,1.0,1.1,1402.16,290.18,294.9,1.0,0.0,0.0,720.38,31.91,1354.25,98.01,101.5,7.53,489.71,549.06,320.0,1.0,1.0,1.0,1.0,1.0,1.0,19.59,1.0,227.3,3.79,318.11,824.83,0.76,426.4,238.9,45.03,16.48,76.94,311.28,30.14,29.95,124.53,99.85,99.9,219.8,254.76,1.0,1.0,1.0,1.0,129.0,1.0,1.0,1.0,106.9,60.0,0.2,7.57,1.0,1.0,0.0,0.0,512.25,512.25,12.31,354.33,2.0,0.0,0.0,252.92,252.92,1.0,240.77,1.0,310.42,323.77,451.27,829.41,1.18,9.21,6.99,38.76,52.69,1.0,1.0,261.22,18.0,600.73,1.0,75.86,8.54,0.01,44.9,44.9,316.06,316.06,209.65,78.0,78.0,188.52,188.52,30.31,30.31,104.03,104.03,1.0,1.0,37.93,97.0,11.4,45.48,1.0,1.0,1.0,1.0,1.0,33.76,571.48,1.63,1.63,18.96,33.59,1.0,8.64,9.82,2.28,1.0,0.76,1.0,0.92,2.28,147.87,0.0,22.04,0.0,104.0,2.28,0.01,1.0,346.94,7.59,0.0,0.0,119.74,2.27,0.0,186.13,1.0,0.76,80.22,635.1,17.06,65.0,105.89,105.89,144.62,2125.87,11.0,45.51,40.0,3.22,0.0,25.0,67.9,93.35,1.0,175.9,720.8,7.18,4.87,80.9,0.0,2.0,1.0,362.55,276.17,723.21,480.72,1.0,1335.0,0.0,130.21,1.0,925.31,0.0,345.0,108.51,84.28,39.45,0.01,727.91,22.47,8.3,120.54,0.69,723.21,0.77,592.9,195.66,4.49,0.76,324.59,320.01,2.0,144.8,0.0,1.0,1.0,8.9,1.0,667.55,0.0,1.18,2.22,0.77,94.82,8.0,996.27,0.0,1.59,1.59,0.0,0.76,0.76,122.68,0.0,1.0,1.1,2.0,17.39,50.0,237.26,1.0,9.29,10.7,0.01,57.73,1.0,1.0,1.0,1.0,1.0,2.47,357.95,247.86,51.37,0.0,0.76,1504.93,1096.99,35.0,6.74,0.77,0.77,0.77,3.9,3.14,7.06,94.82,0.77,0.77,187.11,7.59,4.97,0.77,296.0,45.51,4.9,156.0,4.69,0.77,1.0,0.77,127.14,0.38,39.98,12.31,0.0,39.9,634.3,19.95,349.08,390.0,0.76,77.89,245.0,42.53],\"yaxis\":\"y\",\"type\":\"scattergl\"}],                        {\"template\":{\"data\":{\"histogram2dcontour\":[{\"type\":\"histogram2dcontour\",\"colorbar\":{\"outlinewidth\":0,\"ticks\":\"\"},\"colorscale\":[[0.0,\"#0d0887\"],[0.1111111111111111,\"#46039f\"],[0.2222222222222222,\"#7201a8\"],[0.3333333333333333,\"#9c179e\"],[0.4444444444444444,\"#bd3786\"],[0.5555555555555556,\"#d8576b\"],[0.6666666666666666,\"#ed7953\"],[0.7777777777777778,\"#fb9f3a\"],[0.8888888888888888,\"#fdca26\"],[1.0,\"#f0f921\"]]}],\"choropleth\":[{\"type\":\"choropleth\",\"colorbar\":{\"outlinewidth\":0,\"ticks\":\"\"}}],\"histogram2d\":[{\"type\":\"histogram2d\",\"colorbar\":{\"outlinewidth\":0,\"ticks\":\"\"},\"colorscale\":[[0.0,\"#0d0887\"],[0.1111111111111111,\"#46039f\"],[0.2222222222222222,\"#7201a8\"],[0.3333333333333333,\"#9c179e\"],[0.4444444444444444,\"#bd3786\"],[0.5555555555555556,\"#d8576b\"],[0.6666666666666666,\"#ed7953\"],[0.7777777777777778,\"#fb9f3a\"],[0.8888888888888888,\"#fdca26\"],[1.0,\"#f0f921\"]]}],\"heatmap\":[{\"type\":\"heatmap\",\"colorbar\":{\"outlinewidth\":0,\"ticks\":\"\"},\"colorscale\":[[0.0,\"#0d0887\"],[0.1111111111111111,\"#46039f\"],[0.2222222222222222,\"#7201a8\"],[0.3333333333333333,\"#9c179e\"],[0.4444444444444444,\"#bd3786\"],[0.5555555555555556,\"#d8576b\"],[0.6666666666666666,\"#ed7953\"],[0.7777777777777778,\"#fb9f3a\"],[0.8888888888888888,\"#fdca26\"],[1.0,\"#f0f921\"]]}],\"heatmapgl\":[{\"type\":\"heatmapgl\",\"colorbar\":{\"outlinewidth\":0,\"ticks\":\"\"},\"colorscale\":[[0.0,\"#0d0887\"],[0.1111111111111111,\"#46039f\"],[0.2222222222222222,\"#7201a8\"],[0.3333333333333333,\"#9c179e\"],[0.4444444444444444,\"#bd3786\"],[0.5555555555555556,\"#d8576b\"],[0.6666666666666666,\"#ed7953\"],[0.7777777777777778,\"#fb9f3a\"],[0.8888888888888888,\"#fdca26\"],[1.0,\"#f0f921\"]]}],\"contourcarpet\":[{\"type\":\"contourcarpet\",\"colorbar\":{\"outlinewidth\":0,\"ticks\":\"\"}}],\"contour\":[{\"type\":\"contour\",\"colorbar\":{\"outlinewidth\":0,\"ticks\":\"\"},\"colorscale\":[[0.0,\"#0d0887\"],[0.1111111111111111,\"#46039f\"],[0.2222222222222222,\"#7201a8\"],[0.3333333333333333,\"#9c179e\"],[0.4444444444444444,\"#bd3786\"],[0.5555555555555556,\"#d8576b\"],[0.6666666666666666,\"#ed7953\"],[0.7777777777777778,\"#fb9f3a\"],[0.8888888888888888,\"#fdca26\"],[1.0,\"#f0f921\"]]}],\"surface\":[{\"type\":\"surface\",\"colorbar\":{\"outlinewidth\":0,\"ticks\":\"\"},\"colorscale\":[[0.0,\"#0d0887\"],[0.1111111111111111,\"#46039f\"],[0.2222222222222222,\"#7201a8\"],[0.3333333333333333,\"#9c179e\"],[0.4444444444444444,\"#bd3786\"],[0.5555555555555556,\"#d8576b\"],[0.6666666666666666,\"#ed7953\"],[0.7777777777777778,\"#fb9f3a\"],[0.8888888888888888,\"#fdca26\"],[1.0,\"#f0f921\"]]}],\"mesh3d\":[{\"type\":\"mesh3d\",\"colorbar\":{\"outlinewidth\":0,\"ticks\":\"\"}}],\"scatter\":[{\"fillpattern\":{\"fillmode\":\"overlay\",\"size\":10,\"solidity\":0.2},\"type\":\"scatter\"}],\"parcoords\":[{\"type\":\"parcoords\",\"line\":{\"colorbar\":{\"outlinewidth\":0,\"ticks\":\"\"}}}],\"scatterpolargl\":[{\"type\":\"scatterpolargl\",\"marker\":{\"colorbar\":{\"outlinewidth\":0,\"ticks\":\"\"}}}],\"bar\":[{\"error_x\":{\"color\":\"#2a3f5f\"},\"error_y\":{\"color\":\"#2a3f5f\"},\"marker\":{\"line\":{\"color\":\"#E5ECF6\",\"width\":0.5},\"pattern\":{\"fillmode\":\"overlay\",\"size\":10,\"solidity\":0.2}},\"type\":\"bar\"}],\"scattergeo\":[{\"type\":\"scattergeo\",\"marker\":{\"colorbar\":{\"outlinewidth\":0,\"ticks\":\"\"}}}],\"scatterpolar\":[{\"type\":\"scatterpolar\",\"marker\":{\"colorbar\":{\"outlinewidth\":0,\"ticks\":\"\"}}}],\"histogram\":[{\"marker\":{\"pattern\":{\"fillmode\":\"overlay\",\"size\":10,\"solidity\":0.2}},\"type\":\"histogram\"}],\"scattergl\":[{\"type\":\"scattergl\",\"marker\":{\"colorbar\":{\"outlinewidth\":0,\"ticks\":\"\"}}}],\"scatter3d\":[{\"type\":\"scatter3d\",\"line\":{\"colorbar\":{\"outlinewidth\":0,\"ticks\":\"\"}},\"marker\":{\"colorbar\":{\"outlinewidth\":0,\"ticks\":\"\"}}}],\"scattermapbox\":[{\"type\":\"scattermapbox\",\"marker\":{\"colorbar\":{\"outlinewidth\":0,\"ticks\":\"\"}}}],\"scatterternary\":[{\"type\":\"scatterternary\",\"marker\":{\"colorbar\":{\"outlinewidth\":0,\"ticks\":\"\"}}}],\"scattercarpet\":[{\"type\":\"scattercarpet\",\"marker\":{\"colorbar\":{\"outlinewidth\":0,\"ticks\":\"\"}}}],\"carpet\":[{\"aaxis\":{\"endlinecolor\":\"#2a3f5f\",\"gridcolor\":\"white\",\"linecolor\":\"white\",\"minorgridcolor\":\"white\",\"startlinecolor\":\"#2a3f5f\"},\"baxis\":{\"endlinecolor\":\"#2a3f5f\",\"gridcolor\":\"white\",\"linecolor\":\"white\",\"minorgridcolor\":\"white\",\"startlinecolor\":\"#2a3f5f\"},\"type\":\"carpet\"}],\"table\":[{\"cells\":{\"fill\":{\"color\":\"#EBF0F8\"},\"line\":{\"color\":\"white\"}},\"header\":{\"fill\":{\"color\":\"#C8D4E3\"},\"line\":{\"color\":\"white\"}},\"type\":\"table\"}],\"barpolar\":[{\"marker\":{\"line\":{\"color\":\"#E5ECF6\",\"width\":0.5},\"pattern\":{\"fillmode\":\"overlay\",\"size\":10,\"solidity\":0.2}},\"type\":\"barpolar\"}],\"pie\":[{\"automargin\":true,\"type\":\"pie\"}]},\"layout\":{\"autotypenumbers\":\"strict\",\"colorway\":[\"#636efa\",\"#EF553B\",\"#00cc96\",\"#ab63fa\",\"#FFA15A\",\"#19d3f3\",\"#FF6692\",\"#B6E880\",\"#FF97FF\",\"#FECB52\"],\"font\":{\"color\":\"#2a3f5f\"},\"hovermode\":\"closest\",\"hoverlabel\":{\"align\":\"left\"},\"paper_bgcolor\":\"white\",\"plot_bgcolor\":\"#E5ECF6\",\"polar\":{\"bgcolor\":\"#E5ECF6\",\"angularaxis\":{\"gridcolor\":\"white\",\"linecolor\":\"white\",\"ticks\":\"\"},\"radialaxis\":{\"gridcolor\":\"white\",\"linecolor\":\"white\",\"ticks\":\"\"}},\"ternary\":{\"bgcolor\":\"#E5ECF6\",\"aaxis\":{\"gridcolor\":\"white\",\"linecolor\":\"white\",\"ticks\":\"\"},\"baxis\":{\"gridcolor\":\"white\",\"linecolor\":\"white\",\"ticks\":\"\"},\"caxis\":{\"gridcolor\":\"white\",\"linecolor\":\"white\",\"ticks\":\"\"}},\"coloraxis\":{\"colorbar\":{\"outlinewidth\":0,\"ticks\":\"\"}},\"colorscale\":{\"sequential\":[[0.0,\"#0d0887\"],[0.1111111111111111,\"#46039f\"],[0.2222222222222222,\"#7201a8\"],[0.3333333333333333,\"#9c179e\"],[0.4444444444444444,\"#bd3786\"],[0.5555555555555556,\"#d8576b\"],[0.6666666666666666,\"#ed7953\"],[0.7777777777777778,\"#fb9f3a\"],[0.8888888888888888,\"#fdca26\"],[1.0,\"#f0f921\"]],\"sequentialminus\":[[0.0,\"#0d0887\"],[0.1111111111111111,\"#46039f\"],[0.2222222222222222,\"#7201a8\"],[0.3333333333333333,\"#9c179e\"],[0.4444444444444444,\"#bd3786\"],[0.5555555555555556,\"#d8576b\"],[0.6666666666666666,\"#ed7953\"],[0.7777777777777778,\"#fb9f3a\"],[0.8888888888888888,\"#fdca26\"],[1.0,\"#f0f921\"]],\"diverging\":[[0,\"#8e0152\"],[0.1,\"#c51b7d\"],[0.2,\"#de77ae\"],[0.3,\"#f1b6da\"],[0.4,\"#fde0ef\"],[0.5,\"#f7f7f7\"],[0.6,\"#e6f5d0\"],[0.7,\"#b8e186\"],[0.8,\"#7fbc41\"],[0.9,\"#4d9221\"],[1,\"#276419\"]]},\"xaxis\":{\"gridcolor\":\"white\",\"linecolor\":\"white\",\"ticks\":\"\",\"title\":{\"standoff\":15},\"zerolinecolor\":\"white\",\"automargin\":true,\"zerolinewidth\":2},\"yaxis\":{\"gridcolor\":\"white\",\"linecolor\":\"white\",\"ticks\":\"\",\"title\":{\"standoff\":15},\"zerolinecolor\":\"white\",\"automargin\":true,\"zerolinewidth\":2},\"scene\":{\"xaxis\":{\"backgroundcolor\":\"#E5ECF6\",\"gridcolor\":\"white\",\"linecolor\":\"white\",\"showbackground\":true,\"ticks\":\"\",\"zerolinecolor\":\"white\",\"gridwidth\":2},\"yaxis\":{\"backgroundcolor\":\"#E5ECF6\",\"gridcolor\":\"white\",\"linecolor\":\"white\",\"showbackground\":true,\"ticks\":\"\",\"zerolinecolor\":\"white\",\"gridwidth\":2},\"zaxis\":{\"backgroundcolor\":\"#E5ECF6\",\"gridcolor\":\"white\",\"linecolor\":\"white\",\"showbackground\":true,\"ticks\":\"\",\"zerolinecolor\":\"white\",\"gridwidth\":2}},\"shapedefaults\":{\"line\":{\"color\":\"#2a3f5f\"}},\"annotationdefaults\":{\"arrowcolor\":\"#2a3f5f\",\"arrowhead\":0,\"arrowwidth\":1},\"geo\":{\"bgcolor\":\"white\",\"landcolor\":\"#E5ECF6\",\"subunitcolor\":\"white\",\"showland\":true,\"showlakes\":true,\"lakecolor\":\"white\"},\"title\":{\"x\":0.05},\"mapbox\":{\"style\":\"light\"}}},\"xaxis\":{\"anchor\":\"y\",\"domain\":[0.0,1.0],\"title\":{\"text\":\"index\"}},\"yaxis\":{\"anchor\":\"x\",\"domain\":[0.0,1.0],\"title\":{\"text\":\"Amount\"}},\"legend\":{\"title\":{\"text\":\"color\"},\"tracegroupgap\":0},\"margin\":{\"t\":60},\"title\":{\"text\":\"Amount and Class\"}},                        {\"responsive\": true}                    ).then(function(){\n",
              "                            \n",
              "var gd = document.getElementById('e874d261-aaad-4584-8bfa-89553b6056b2');\n",
              "var x = new MutationObserver(function (mutations, observer) {{\n",
              "        var display = window.getComputedStyle(gd).display;\n",
              "        if (!display || display === 'none') {{\n",
              "            console.log([gd, 'removed!']);\n",
              "            Plotly.purge(gd);\n",
              "            observer.disconnect();\n",
              "        }}\n",
              "}});\n",
              "\n",
              "// Listen for the removal of the full notebook cells\n",
              "var notebookContainer = gd.closest('#notebook-container');\n",
              "if (notebookContainer) {{\n",
              "    x.observe(notebookContainer, {childList: true});\n",
              "}}\n",
              "\n",
              "// Listen for the clearing of the current output cell\n",
              "var outputEl = gd.closest('.output');\n",
              "if (outputEl) {{\n",
              "    x.observe(outputEl, {childList: true});\n",
              "}}\n",
              "\n",
              "                        })                };                            </script>        </div>\n",
              "</body>\n",
              "</html>"
            ]
          },
          "metadata": {}
        }
      ]
    },
    {
      "cell_type": "code",
      "source": [
        "fig = px.histogram(\n",
        "    pdf,\n",
        "    x = \"Amount\",\n",
        "    nbins = 50\n",
        ")\n",
        "\n",
        "fig.update_layout(title=\"Count of Amounts range\")\n",
        "\n",
        "fig.show()"
      ],
      "metadata": {
        "colab": {
          "base_uri": "https://localhost:8080/",
          "height": 542
        },
        "id": "vVrJuSV93Hxf",
        "outputId": "fc7bd037-937d-46c2-aacf-d4198a36125e"
      },
      "execution_count": 21,
      "outputs": [
        {
          "output_type": "display_data",
          "data": {
            "text/html": [
              "<html>\n",
              "<head><meta charset=\"utf-8\" /></head>\n",
              "<body>\n",
              "    <div>            <script src=\"https://cdnjs.cloudflare.com/ajax/libs/mathjax/2.7.5/MathJax.js?config=TeX-AMS-MML_SVG\"></script><script type=\"text/javascript\">if (window.MathJax && window.MathJax.Hub && window.MathJax.Hub.Config) {window.MathJax.Hub.Config({SVG: {font: \"STIX-Web\"}});}</script>                <script type=\"text/javascript\">window.PlotlyConfig = {MathJaxConfig: 'local'};</script>\n",
              "        <script charset=\"utf-8\" src=\"https://cdn.plot.ly/plotly-2.24.1.min.js\"></script>                <div id=\"59b98dbd-59e3-4a52-b266-03939ae3d3cd\" class=\"plotly-graph-div\" style=\"height:525px; width:100%;\"></div>            <script type=\"text/javascript\">                                    window.PLOTLYENV=window.PLOTLYENV || {};                                    if (document.getElementById(\"59b98dbd-59e3-4a52-b266-03939ae3d3cd\")) {                    Plotly.newPlot(                        \"59b98dbd-59e3-4a52-b266-03939ae3d3cd\",                        [{\"alignmentgroup\":\"True\",\"bingroup\":\"x\",\"hovertemplate\":\"Amount=%{x}\\u003cbr\\u003ecount=%{y}\\u003cextra\\u003e\\u003c\\u002fextra\\u003e\",\"legendgroup\":\"\",\"marker\":{\"color\":\"#636efa\",\"pattern\":{\"shape\":\"\"}},\"name\":\"\",\"nbinsx\":50,\"offsetgroup\":\"\",\"orientation\":\"v\",\"showlegend\":false,\"x\":[0.78,10.0,2.5,0.0,529.0,55.61,143.9,0.99,189.0,84.68,11.45,5.0,48.76,333.84,1.98,5.0,13.99,8.8,12.61,0.92,189.8,50.0,17.13,26.55,9.87,518.08,0.99,13.98,24.15,1.0,2.29,39.99,40.55,0.89,1.0,67.38,1.0,1.0,1.0,12.14,45.9,62.59,97.85,83.06,17.88,13.78,8.06,0.0,33.0,14.41,66.9,239.93,4.23,34.99,169.0,4.61,50.0,14.95,64.98,38.95,45.9,59.0,1.0,1.0,1.0,1.0,1.0,1.0,1.0,1.0,50.0,1.0,1.0,1.0,7.6,1.0,1.0,49.22,1.0,1.0,4.14,1.0,0.5,76.0,71.59,1.0,1.1,1.0,1.0,1809.68,919.17,1946.35,0.0,26.19,11.14,75.0,46.04,153.7,15.95,15.95,1.0,1.0,19.08,1.0,5.96,20.72,1.0,1.0,3.3,7.58,0.0,30.39,39.6,179.66,83.0,1.0,9.95,5.99,2.67,1.0,1.0,26.56,24.16,59.9,45.8,30.0,74.95,1.0,1.0,0.89,8.99,1.52,14.95,103.5,43.98,11.39,379.99,8.36,109.0,27.84,3.79,3.79,3.93,1.0,766.36,5.95,1218.89,11.85,7.57,1.0,1.0,88.67,188.78,1.0,11.85,11.85,21.05,0.01,5.0,1.0,55.31,5.0,5.0,10.0,4.0,10.0,1.0,10.6,1.0,75.8,1.0,1.0,11.85,9.85,1.0,38.95,45.49,1.0,36.4,9.72,1.0,11.85,8.99,185.99,100.0,15.14,67.58,6.79,10.5,339.32,189.59,270.0,135.91,6.52,141.0,34.9,3.12,99.99,99.99,99.99,3.76,1.52,12.31,298.37,99.99,99.99,99.99,99.99,99.99,978.61,99.99,8.99,99.99,99.99,17.8,99.99,99.99,99.99,1.5,99.99,82.0,8.99,182.6,51.4,2.51,1.52,23.36,14.99,21.95,18.4,8.91,99.99,21.9,1.98,730.86,44.74,1.29,9.99,160.95,6.0,0.89,8.48,271.72,99.99,99.99,99.99,53.86,99.99,99.99,8.99,1.0,26.95,1.0,22.55,1.98,0.68,0.68,67.7,93.99,0.68,30.3,9.88,193.0,89.99,124.22,58.06,12.13,16.6,79.56,89.99,20.9,104.81,1.98,15.0,16.18,45.9,6.8,0.89,12.95,99.6,5.47,159.06,6.9,1.52,12.99,34.0,144.07,1.0,38.75,2.0,27.0,39.99,17.07,11.83,86.9,6.99,39.18,188.63,9.42,0.0,1.46,189.0,717.15,11.53,76.0,7.63,1.0,31.95,12.31,0.77,29.56,0.25,68.0,17.99,49.5,7.95,7.95,1.0,14.95,4.9,6.0,301.7,60.0,42.99,70.5,4.5,27.06,2.69,1.98,2.0,79.0,24.8,10.94,90.0,19.02,3.98,1.0,287.48,2.0,1.79,12.0,40.0,216.27,1.52,24.37,104.0,18.96,125.3,19.02,9.99,1.18,54.99,457.75,91.8,65.9,291.63,1.79,0.68,1.99,89.99,1.0,6.5,5.34,52.0,196.6,1.0,46.3,35.92,0.76,0.92,12.31,100.0,0.0,134.0,10.0,51.3,0.76,15.13,251.0,83.05,90.0,60.6,134.1,10.0,7.83,7.61,26.2,1.0,9.13,4.56,14.46,20.29,111.7,152.65,80.29,5.99,29.61,9.99,111.7,88.99,9.99,45.9,39.0,32.29,10.0,152.9,1.0,14.9,49.99,14.99,60.0,143.75,69.0,0.76,12.31,118.37,34.8,9.72,185.45,0.77,190.0,435.0,4.99,750.0,14.84,2692.15,165.63,74.25,9.5,54.39,29.99,104.75,1.52,40.0,50.0,25.0,192.0,1.18,5.76,60.39,27.72,3.76,39.0,3.84,49.95,33.98,435.64,1.07,3.86,2.69,300.0,147.86,157.89,10.62,75.55,26.94,36.51,52.1,306.24,100.0,11.53,6.67,32.64,11.5,1.29,11.99,14.9,22.71,84.64,86.14,16.0,25.88,776.83,39.9,115.89,40.94,90.31,4.49,0.89,75.0,1.0,2.69,401.12,52.98,28.52,1.0,3.11,2.58,200.0,24.95,32.99,55.5,82.0,36.95,25.0,79.95,42.57,15.92,1.0,1.0,1.0,21.27,0.76,0.76,112.33,10.42,43.8,1368.15,1.0,39.95,279.0,214.0,103.0,35.9,7.49,159.0,3.79,340.11,431.97,88.23,7.74,5.3,83.38,11.38,1.52,88.23,30.26,459.07,0.0,118.3,45.49,25.0,173.07,37.32,508.0,59.68,0.76,9.99,34.12,273.01,106.55,25.67,6.28,9.99,364.19,39.45,10.65,53.95,1.79,172.32,1.98,802.52,99.99,219.94,139.9,51.17,1.0,45.0,1.0,79.96,39.5,19.77,73.4,4.49,1.0,1.79,24.95,45.0,8.0,10.4,1.0,16.49,0.8,49.38,13.96,11.5,96.5,236.6,2.29,45.0,1.0,10.65,8.99,20.61,281.15,30.35,1.0,648.0,204.27,76.09,0.76,59.01,0.0,57.0,71.39,88.0,379.97,143.0,64.36,24.9,0.76,1.0,127.83,81.49,24.99,17.33,0.77,79.54,7.49,83.22,30.0,1.98,435.7,84.89,264.3,19.97,3.07,100.0,1.0,1524.51,1.0,137.95,58.11,82.4,113.87,9.51,25.0,525.0,254.0,134.99,11.5,527.17,435.7,140.8,1.29,15.96,12.99,9.99,1.79,1.0,105.99,1.0,6.0,31.09,43.85,3.5,14.99,1.0,73.86,64.96,450.0,1.0,7.18,1.29,160.0,24.0,123.91,9.98,29.23,0.77,8.99,1.79,23.78,88.72,60.0,119.5,3.08,1.0,424.8,12.99,0.89,9.99,14.88,12.0,9.99,53.72,93.9,194.94,90.0,74.0,22.8,1.0,1.49,0.76,188.0,350.0,29.99,204.66,4.53,110.64,7.58,0.76,0.76,178.87,69.99,208.58,42.89,315.0,106.6,87.89,177.44,1.0,0.99,41.6,28.5,151.2,84.99,470.88,8.27,13.45,49.61,360.0,19.73,47.48,2.69,30.99,1.98,2.2,4.0,30.9,29.99,40.0,25.27,10.0,8.0,50.99,24.99,1.0,8.99,254.33,75.08,2.99,17.99,16.2,0.89,1.0,28.7,71.96,141.57,0.76,8.01,360.0,280.5,156.9,3.91,119.99,4.49,0.89,235.0,59.9,41.45,9.83,29.56,56.96,12.99,99.99,56.09,99.99,2.0,980.0,7.68,75.9,1.0,23.32,11.5,1.0,99.99,99.99,99.99,7.6,1.0,346.02,1.0,1.0,0.99,1.0,44.88,12.0,100.0,39.0,104.1,64.03,1.29,1.0,75.0,193.9,8.99,1.0,133.1,1826.6,129.0,1.29,14.36,380.9,337.1,82.21,6.18,24.2,519.9,2.0,0.76,73.6,0.76,1.18,8.23,1.0,211.79,39.99,7.45,30.0,196.0,20.0,2.69,6.18,38.84,8.0,27.88,13.57,73.48,237.95,52.0,9.77,14.24,140.0,0.0,54.6,109.8,112.45,589.76,42.55,127.12,3.8,261.87,69.99,199.0,12.31,152.3,154.04,108.14,33.0,18.2,150.0,0.89,12.95,9.99,10.0,1.46,4.49,0.89,1286.94,1469.02,2.35,79.9,1.0,0.99,1.79,117.0,62.5,27.83,1.5,144.0,530.0,8.99,1.0,45.0,0.83,163.96,76.6,26.02,14.6,68.0,1.29,156.81,11.5,1.78,4.99,220.87,0.83,130.44,60.0,9.99,4.78,110.39,311.91,9.46,27.83,198.86,19.99,15.29,557.76,4.99,170.92,4.54,0.89,2.0,35.97,1.29,209.85,10.0,1.98,1.0,153.46,10.99,7.52,59.11,32.69,11.3,1.0,126.0,5.0,10.65,0.01,444.17,30.32,102.05,30.92,1.0,1.98,49.76,11.5,104.0,51.8,74.15,34.0,1.0,623.02,552.42,29.97,314.0,1.0,62.39,12.99,116.7,17.24,1.0,1.0,9.99,50.0,2.28,420.0,214.23,1.75,5.09,270.0,41.95,1.98,200.0,79.0,21.8,187.5,170.0,20.98,1.0,21.8,30.0,113.92,18.96,34.99,1.42,45.64,1389.56,184.94,126.48,9.15,106.18,71.66,739.0,9.99,36.0,18.98,39.15,1.67,50.9,186.21,1.98,6.27,120.3,270.07,1.49,0.01,300.0,319.2,5.91,89.2,60.0,205.16,330.0,1.0,77.89,22.49,12.31,200.0,454.82,54.4,1.98,29.67,17.99,7.37,7.25,59.74,38.0,45.85,3.99,42.0,57.48,37.73,21.26,11.99,106.8,0.76,73.97,291.95,101.5,40.56,3.87,2.18,1.0,9.99,879.72,1.98,186.07,19.04,120.4,29.1,119.44,79.9,5.0,15.37,183.0,1.0,14.99,8.93,6.62,180.0,10.65,135.32,0.89,28.11,14.32,10.0,1.0,1.1,14.14,1402.16,328.8,13.85,8.99,171.8,53.07,50.0,49.51,78.54,9.99,3.69,89.95,7.95,250.0,16.5,263.91,150.0,1.0,179.98,5.5,650.0,20.08,45.0,1.0,4.99,39.94,7.63,3.99,4.99,13.99,28.75,33.8,15.0,8.62,9.99,290.18,36.0,13.01,8.98,605.99,1.49,359.2,1.0,294.9,158.0,9.99,106.0,301.74,50.0,1.0,73.95,5.9,0.0,119.51,29.95,500.0,49.95,28.75,6.58,143.75,0.0,13.62,1.0,720.38,100.0,130.99,372.0,22.6,12.33,146.26,236.74,6.05,224.96,11.5,0.89,9.99,55.0,8.91,125.9,69.99,99.99,361.29,1.98,13.48,31.91,1354.25,6.0,91.0,2.8,5.17,47.5,1.0,15.0,3.58,88.61,172.29,98.01,7.99,14.4,8.49,71.35,744.38,10.0,101.5,7.53,0.89,96.75,49.94,61.0,24.67,1.79,1.29,4.57,10.0,15.0,57.0,226.98,246.91,2.67,30.0,25.95,591.3,1948.32,299.46,1.0,88.14,0.64,15.27,1.98,12.31,489.71,125.57,62.79,14.19,409.18,0.89,34.95,16.98,8.99,39.99,4.49,0.77,24.53,549.06,27.48,2.0,19.95,84.03,188.0,398.0,320.0,1.98,0.76,9.99,4.74,50.0,57.81,74.98,2.69,1.0,1.0,1.0,1.0,1.0,1.0,1.98,19.59,39.95,29.9,2.68,39.99,17.69,54.65,22.81,10.0,1.5,7.09,1.98,3.74,7.83,271.0,70.7,7.68,2.69,1.29,8.3,19.99,25.0,22.81,1.0,1.0,8.99,0.76,9.99,35.91,28.5,1.29,1.0,11.72,65.0,79.54,9.99,78.0,8.02,227.3,69.99,16.01,7.05,4.49,3.79,175.85,318.11,139.9,20.0,82.61,1.98,22.34,1.0,139.0,198.0,824.83,0.12,4.99,2.28,159.06,3.49,49.95,0.89,20.0,24.38,0.76,5.0,166.6,1.0,426.4,184.85,11.5,9.99,20.6,234.8,8.99,12.25,212.0,126.62,89.68,452.96,30.0,329.96,15.34,1.98,16.0,2.68,0.89,22.06,1.79,25.0,25.0,12.99,21.9,238.9,5.0,132.0,59.0,43.4,3.27,1.0,128.4,344.1,7.8,103.46,0.89,381.73,144.52,13.99,8.07,57.45,45.03,1.79,3.8,19.95,48.98,40.29,8.99,4.48,3.53,235.14,6.99,49.99,150.0,9.6,4.49,37.0,182.45,9.99,16.48,4.49,59.35,11.77,89.02,39.0,45.99,4.49,1.29,74.99,259.0,8.94,4.99,15.0,12.99,15.73,76.94,23.3,100.0,298.0,4.49,41.0,10.65,311.28,2.0,23.0,36.0,11.41,377.73,0.99,2.49,114.61,154.0,45.5,74.0,145.0,18.74,2917.64,119.0,79.0,9.99,5.0,0.89,7.49,30.14,36.15,28.75,1.98,0.12,27.83,9.99,192.0,2.58,2.69,28.0,129.08,1.98,29.95,124.53,6.1,40.25,9.99,47.6,57.46,109.9,15.21,22.73,75.66,2.0,14.31,40.0,99.85,43.6,99.9,8.0,40.0,2.49,3.54,445.22,85.25,26.65,12.97,7.0,0.89,167.65,2.22,4.99,74.9,0.76,25.0,33.9,90.0,19.73,38.0,125.9,1.29,9.57,0.89,219.8,2.69,32.42,9.99,254.76,1.0,1.0,1.0,1.0,10.58,52.78,0.76,9.99,5.99,39.6,129.0,1.0,1.0,1.0,14.17,1.0,65.0,163.74,182.52,2.49,110.7,0.89,2.97,16.95,1.29,15.84,134.6,132.24,161.95,245.67,106.9,18.35,179.9,188.89,55.74,3.67,8.99,1.0,1.0,1.0,2.28,1.0,3.6,119.8,175.38,38.64,20.0,179.7,1.18,27.58,21.1,3.56,1.29,41.32,60.0,85.95,3.78,40.0,142.0,4.49,3.6,62.0,302.65,1.0,1.0,400.0,24.64,31.35,1.0,0.99,230.28,50.96,1.0,1.47,14.45,1.0,1.0,1.0,19.99,1.0,3.8,73.68,30.46,0.2,4.49,206.13,122.83,39.05,35.0,15.0,100.0,70.0,5.0,440.0,1.0,1.0,0.9,109.5,11.5,6.03,0.0,223.48,10.46,1.0,7.93,90.0,43.5,280.0,35.0,152.96,0.89,109.02,113.49,12.31,2.28,59.99,12.99,51.11,7.57,10.8,12.99,29.9,6.3,29.95,235.14,247.9,1.29,1.34,1.98,0.99,29.99,1.98,8.0,1.29,13.8,31.1,3.59,7.61,1.0,8.97,9.55,4.77,89.0,19.63,4.86,329.85,6.76,28.34,4.49,2.69,59.85,654.92,31.78,1.98,137.0,1.0,9.21,257.13,21.91,34.9,217.0,23.9,9.99,12.99,59.2,1.0,29.56,2.49,59.15,52.02,86.0,200.0,0.0,0.0,512.25,512.25,59.74,5.0,23.0,206.0,1.0,1.0,1.0,12.16,1.79,15.92,108.0,288.59,1.0,1.0,12.31,45.81,3.0,5.64,354.33,25.0,8.95,24.9,29.59,17.35,51.06,2.0,0.0,0.0,252.92,252.92,74.99,75.35,45.9,4.84,872.58,1.0,240.77,20.07,0.89,4.99,248.09,100.94,1.0,310.42,73.91,0.77,20.95,7.87,202.85,7.94,1.0,323.77,58.91,2.49,1.0,33.35,7.56,159.4,4.49,11.5,8.0,0.77,451.27,6.54,8.96,33.4,10.0,1.0,5.0,829.41,1.0,7.9,76.07,40.0,0.99,1.18,9.21,59.99,76.65,17.85,189.0,1.0,6.99,9.99,56.02,91.62,1.98,28.85,7.7,14.99,21.8,6.99,45.36,348.12,55.3,38.76,49.94,52.69,132.6,1.0,1.0,261.22,30.0,3.4,18.0,600.73,37.53,42.4,3.77,46.0,8.44,49.44,1.0,16.95,75.86,8.54,0.01,44.9,44.9,316.06,316.06,209.65,78.0,78.0,188.52,188.52,30.31,30.31,104.03,104.03,1.0,1.0,37.93,97.0,11.4,39.93,36.0,1.5,45.48,6.57,6.57,1.0,1.0,1.0,1.0,9.99,1.0,10.62,33.76,128.0,4.49,6.9,571.48,10.0,11.07,0.01,1.63,1.63,18.96,33.59,20.0,53.77,1.0,47.97,98.4,8.64,9.82,22.8,66.0,15.95,15.95,15.95,39.0,14.95,25.79,0.0,12.99,65.55,132.52,141.9,9.99,4.49,3.99,2.28,15.54,1.0,0.76,15.95,15.95,1.0,0.92,2.28,29.0,103.0,147.87,10.0,0.0,22.04,1.79,22.7,0.0,104.0,2.28,0.01,19.72,1.0,346.94,7.59,0.0,0.0,119.74,58.91,1.98,7.56,81.15,45.9,2.27,19.99,1.51,18.0,11.27,1.51,0.93,9.39,75.86,2.78,9.95,4.55,8.78,7.99,69.0,39.45,165.65,0.0,186.13,1.0,1.0,1.0,0.99,1.0,500.0,1.0,19.4,0.99,0.76,80.22,15.0,635.1,191.78,1.51,15.0,5.99,1.99,19.97,11.19,25.92,384.89,72.02,12.48,0.87,69.99,2.87,53.06,12.31,85.0,15.0,1.0,1.0,1.0,1.0,17.57,5.0,1.18,1.0,9.0,35.0,25.0,62.8,39.8,155.0,16.99,60.65,0.89,1.98,4.49,12.99,2.0,539.0,90.0,9.56,2.69,0.22,11.0,64.0,1.0,38.85,48.33,62.48,13.99,370.75,103.5,94.09,17.99,17.06,23.9,9.04,69.9,71.98,59.84,65.0,4.99,9.99,16.0,71.38,42.0,0.99,27.45,5.0,0.99,89.03,15.0,21.51,816.0,114.0,0.75,600.0,16.57,1.99,22.9,80.0,33.0,39.99,20.88,97.61,9.99,2.69,43.76,105.89,17.76,105.89,19.83,1.46,152.65,138.7,18.88,11.99,2.68,494.96,6.99,197.53,0.99,90.59,61.95,204.61,2.4,71.4,161.9,125.65,31.39,29.95,11.98,235.81,1073.52,41.0,50.0,120.0,45.19,0.0,5.39,70.99,11.99,37.81,400.0,88.35,174.41,39.99,98.25,150.0,8.99,4.0,20.9,18.5,0.89,1.0,10.62,1.0,10.0,8.99,3.0,650.0,35.15,0.89,252.43,39.95,2.69,262.86,5.0,63.0,3.57,131.62,144.62,12.06,90.0,37.95,764.47,91.72,6.54,1.79,43.25,9.99,37.72,254.51,45.98,10.0,1.0,129.6,48.07,18.0,28.8,12.19,0.99,10.0,15.1,24.99,569.5,83.5,49.0,93.64,58.93,2125.87,439.43,797.9,1136.02,30.0,27.74,66.26,0.0,11.0,20.0,8.42,239.98,265.16,62.52,40.0,6.94,152.65,39.99,45.51,18.95,25.0,0.0,69.0,20.0,74.95,412.98,144.0,433.01,1.98,47.88,3.4,8.0,1.79,309.58,76.5,18.0,254.5,15.0,23.93,318.0,244.77,8.13,55.08,63.48,1.0,66.0,182.0,219.94,1.54,0.89,1.0,179.91,0.99,40.0,85.91,17.85,14.0,10.62,500.0,2.69,1256.34,524.66,1.0,0.89,63.34,94.52,3.22,0.0,142.0,40.9,8.99,40.0,19.0,30.0,306.58,206.0,1.54,376.91,25.0,315.0,57.0,53.25,17.72,94.24,80.54,1.98,11.98,9.99,0.0,37.95,4.99,74.42,23.67,18.0,33.13,24.18,2.69,9.59,89.0,240.81,23.5,9.99,40.46,1.3,39.9,119.25,1.98,1.98,1.0,12.31,45.0,29.0,185.0,1.0,1.5,116.84,42.0,66.0,0.89,29.99,1.0,22.68,1.23,28.8,46.96,4.99,137.68,500.0,2.9,24.0,0.76,717.13,60.62,25.45,11.99,611.92,233.62,67.9,1.0,93.35,249.45,1.0,1.51,149.81,175.9,13.0,754.0,5.48,209.03,4.08,1.98,11.1,0.76,15.41,720.8,10.48,63.75,15.0,7.18,217.73,35.76,437.0,4.87,0.89,20.0,20.4,80.9,0.0,340.87,0.0,7.26,1.5,1.0,0.76,12.9,0.0,20.0,29.98,1.0,103.9,2.0,1.0,362.55,0.76,330.96,29.25,666.0,276.17,250.52,1.0,159.37,36.89,21.4,0.76,39.1,19.09,59.26,70.0,140.0,358.21,7.11,2.99,190.0,29.0,5.9,6.05,12.49,14.0,153.65,40.04,1.0,95.0,723.21,36.44,99.95,200.0,2.48,85.5,12.0,22.0,1.25,126.44,150.22,60.0,80.31,478.0,59.16,44.0,15.17,0.77,14.01,5.0,0.76,7.59,480.72,0.89,30.0,109.67,7.92,74.95,33.85,44.0,32.17,44.67,9.85,45.0,20.69,1.29,27.99,17.23,15.5,6.01,1.0,22.72,431.24,25.0,190.0,59.95,378.0,1.0,127.01,38.0,1335.0,5.0,444.0,15.8,118.0,94.58,2.0,1.98,4.57,548.0,13.0,0.0,55.3,476.0,130.21,36.29,34.99,75.6,129.0,7.63,7.58,400.0,0.76,6.0,5.94,0.76,2.0,29.95,7.7,60.78,1.0,925.31,9.05,13.46,150.05,17.4,0.0,36.05,1.98,345.0,108.51,14.37,2.0,248.0,9.7,84.28,54.0,11.3,50.0,47.19,1.98,0.0,68.9,15.0,523.99,13.49,24.99,15.0,9.42,88.23,67.3,1.98,341.0,8.59,0.01,37.73,378.32,147.5,35.95,93.92,265.5,221.9,312.17,58.45,37.38,7.5,49.99,900.0,199.0,59.0,83.06,39.45,75.72,12.13,500.0,1.18,7.03,0.76,13.01,3.7,11.0,60.98,373.5,103.76,25.57,24.9,45.0,62.0,704.22,7.7,27.99,36.78,40.0,152.63,101.19,45.0,657.77,9.99,36.24,2.19,34.05,34.95,44.44,388.76,1.29,775.37,218.56,39.99,15.73,11.42,80.0,174.25,0.75,216.28,45.9,0.76,517.67,37.8,22.94,59.98,0.01,34.19,727.91,106.13,1.79,59.0,17.1,2.31,2.69,22.47,8.3,168.5,0.99,1.29,16.31,74.95,1.7,114.2,107.2,44.99,25.19,0.0,811.68,17.06,19.5,9.99,1.54,1.79,1.0,116.0,2.16,150.0,29.0,120.54,45.45,0.69,1.0,68.0,24.64,719.4,723.21,23.48,3.58,0.89,19.1,25.0,0.77,592.9,270.0,60.0,7.49,1837.66,19.98,117.78,73.96,0.89,54.75,41.75,7.86,63.25,1.0,28.91,2.69,270.0,16.0,75.66,1.0,28.0,10.52,179.84,195.66,25.09,266.97,130.23,1.98,84.48,99.0,760.82,109.0,4.49,37.76,24.59,6.06,1.27,5.38,17.9,6.89,242.7,0.76,41.3,50.0,2.58,55.0,249.0,0.76,193.91,4.78,3.79,324.59,0.0,58.61,1.0,76.61,320.01,2.0,10.0,30.93,38.88,15.0,180.36,45.9,1.29,1.98,58.58,20.04,144.8,345.0,79.94,29.95,1.0,75.03,173.6,0.0,14.68,0.01,12.94,33.0,160.0,10.82,1.0,59.8,174.38,1.0,8.9,1.0,168.93,19.95,11.5,11.47,4.6,0.77,3.57,1.79,19.28,133.25,28.99,11.4,1.98,49.9,1.98,204.1,75.66,109.0,16.15,98.86,60.0,30.9,10.59,18.98,758.58,10.0,0.76,145.0,667.55,0.0,38.29,19.99,1.98,17.52,0.76,43.9,72.45,16.15,384.0,183.56,77.69,5.9,39.4,2.69,1069.32,91.79,11.82,60.95,63.0,0.77,115.47,41.6,115.05,8.99,8.99,825.58,4.99,49.99,51.6,1.79,1.18,2.22,5.51,0.77,25.0,27.83,67.0,1.49,9.51,14.78,51.41,79.95,8.07,68.0,160.48,94.82,9.42,16.99,246.0,36.0,108.0,27.59,2400.0,199.97,19.99,195.0,79.45,27.85,9.99,14.01,22.72,8.0,100.0,9.99,738.18,17.99,59.29,0.76,0.99,41.25,69.32,0.99,16.17,538.0,8.06,40.99,10.0,2.23,19.95,11.59,15.0,32.95,996.27,48.6,35.38,3.99,21.99,26.71,1.29,105.17,139.07,1.29,27.52,0.0,6.25,44.48,1.98,0.99,0.0,42.59,0.0,1.59,1.59,35.6,19.99,0.0,79.9,53.1,1.52,1.29,273.5,0.76,0.76,122.68,284.0,1.98,7.69,55.04,402.75,1195.51,0.0,1.0,10.59,0.89,2.18,8.99,116.9,167.54,200.95,0.89,60.0,267.62,5.0,8.99,1.1,8.91,19.95,5.49,2.0,17.39,7.49,2.69,21.99,59.99,1.79,84.0,17.6,20.0,1.49,2.28,50.0,237.26,27.52,27.74,6.96,11.5,1.98,1.0,1.0,5.27,0.89,15.0,28.49,723.81,148.09,30.36,29.99,0.02,89.0,41.7,1.0,600.0,9.29,85.8,15.0,0.99,10.7,0.99,29.52,94.84,4.29,47.0,60.81,109.7,48.72,20.0,1029.48,49.99,7.91,36.91,114.72,26.51,2.38,1.46,0.01,1.98,110.0,8.99,57.73,60.4,2.59,1.0,1.0,0.89,1.0,71.39,150.36,9.81,1.0,39.9,5.8,1.0,125.16,1.0,1.98,1.0,129.0,4.5,84.19,912.49,39.99,75.74,232.81,14.9,11.0,16.0,2.47,357.95,1.29,0.0,17.2,4.49,59.23,34.56,12.49,45.2,1.0,4.4,23.2,54.95,64.99,69.0,2.28,2.0,1.0,2.0,1.0,234.57,1.0,1.0,42.48,4.5,247.86,0.76,15.97,12.1,48.0,1.0,1.78,51.37,2.0,452.5,99.94,0.0,166.55,7.14,0.99,0.76,34.0,80.77,23.69,1504.93,799.0,1096.99,35.0,295.3,29.99,6.74,189.0,0.77,238.75,38.0,448.5,45.0,0.89,0.77,12.0,6.7,30.34,8.99,1.0,25.21,6.39,59.94,101.74,0.77,620.0,1.29,24.7,185.0,75.49,3.9,3.14,7.06,94.82,0.77,15.0,44.0,129.0,3.85,10.95,0.77,39.98,12.31,195.64,0.99,0.01,2.28,18.68,64.0,10.0,0.99,11.99,1.54,187.11,7.59,64.95,71.0,48.5,12.27,12.31,74.9,150.52,15.0,5.99,0.69,644.34,4.97,5.0,0.76,111.5,0.77,11.5,1.98,9.64,25.38,14.09,19.95,45.1,40.0,17.99,70.0,31.61,59.4,1.0,11.5,49.9,28.75,5.78,0.0,6.0,9.99,0.99,12.31,164.81,164.82,2.0,20.0,160.51,15.33,69.99,7.11,19.95,300.24,6.47,296.0,17.99,4.45,9.49,39.97,34.95,4.26,80.21,34.99,20.0,2.69,252.6,22.39,43.3,7.7,371.07,67.11,1.29,20.0,29.99,48.9,3.6,218.88,6.2,407.0,85.05,0.92,112.64,346.2,45.51,4.9,96.9,1.0,64.0,0.0,18.96,156.0,45.9,0.0,50.9,23.72,4.69,82.65,0.77,123.2,1.0,103.0,14.9,0.77,127.14,52.48,19.99,315.3,4.99,30.0,0.38,1.29,14.0,20.0,85.66,223.3,191.42,19.34,1.98,1.29,30.82,57.98,24.99,20.0,5.49,55.0,15.16,72.61,8.0,25.0,24.95,9.99,42.81,42.81,10.62,8.99,1.98,12.9,19.95,0.14,16.22,278.0,167.24,0.99,24.3,55.0,39.6,38.16,3.98,20.0,0.01,8.99,35.9,1.5,507.3,1.0,5.27,9.99,1.51,39.98,6.45,9.72,15.0,30.0,397.2,85.25,1.79,25.0,138.63,1.0,43.0,225.04,24.0,1.68,50.0,1.79,500.0,59.99,947.95,2.69,789.71,1.29,295.0,1.0,1.79,53.4,1.98,15.0,0.89,29.57,7.76,7.59,28.69,4.99,3.77,1.98,49.99,4.49,29.95,8.13,12.31,14.99,19.99,73.5,0.77,353.07,26.0,99.0,37.92,6.84,9.01,144.0,65.0,0.89,100.0,2.28,1.0,62.75,20.98,1.0,1.0,2.16,127.45,52.0,20.0,48.39,46.85,27.0,28.16,3.85,134.9,93.5,0.0,1.0,49.99,19.16,6.43,39.9,24.0,37.7,92.23,0.95,85.25,593.2,116.49,26.98,11.5,1.98,10.0,192.31,463.4,0.77,1.0,250.0,1.0,0.89,634.3,38.2,19.95,1.98,1.5,29.99,16.96,2.99,6.8,349.08,77.31,403.56,22.9,176.9,186.66,19.95,62.99,15.98,1.98,47.64,0.89,50.0,98.18,49.99,113.52,1.98,594.37,38.42,12.99,4.54,2.69,22.91,89.9,11.75,600.0,7.27,10.2,112.18,108.0,2.68,390.0,56.15,0.76,77.89,27.22,5.38,51.57,31.99,21.99,0.38,33.35,245.0,7.6,59.0,1.0,15.96,172.74,10.09,0.89,42.53,23.95,179.98,21.77,9.99,14.99,456.18,3.59,15.0,7.63,15.3,16.99,1.0,9.99,10.0,101.98,4.71,595.59,1.0,8.73,128.48,24.95,9.99,8.94,0.89,0.99,10.0,0.01],\"xaxis\":\"x\",\"yaxis\":\"y\",\"type\":\"histogram\"}],                        {\"template\":{\"data\":{\"histogram2dcontour\":[{\"type\":\"histogram2dcontour\",\"colorbar\":{\"outlinewidth\":0,\"ticks\":\"\"},\"colorscale\":[[0.0,\"#0d0887\"],[0.1111111111111111,\"#46039f\"],[0.2222222222222222,\"#7201a8\"],[0.3333333333333333,\"#9c179e\"],[0.4444444444444444,\"#bd3786\"],[0.5555555555555556,\"#d8576b\"],[0.6666666666666666,\"#ed7953\"],[0.7777777777777778,\"#fb9f3a\"],[0.8888888888888888,\"#fdca26\"],[1.0,\"#f0f921\"]]}],\"choropleth\":[{\"type\":\"choropleth\",\"colorbar\":{\"outlinewidth\":0,\"ticks\":\"\"}}],\"histogram2d\":[{\"type\":\"histogram2d\",\"colorbar\":{\"outlinewidth\":0,\"ticks\":\"\"},\"colorscale\":[[0.0,\"#0d0887\"],[0.1111111111111111,\"#46039f\"],[0.2222222222222222,\"#7201a8\"],[0.3333333333333333,\"#9c179e\"],[0.4444444444444444,\"#bd3786\"],[0.5555555555555556,\"#d8576b\"],[0.6666666666666666,\"#ed7953\"],[0.7777777777777778,\"#fb9f3a\"],[0.8888888888888888,\"#fdca26\"],[1.0,\"#f0f921\"]]}],\"heatmap\":[{\"type\":\"heatmap\",\"colorbar\":{\"outlinewidth\":0,\"ticks\":\"\"},\"colorscale\":[[0.0,\"#0d0887\"],[0.1111111111111111,\"#46039f\"],[0.2222222222222222,\"#7201a8\"],[0.3333333333333333,\"#9c179e\"],[0.4444444444444444,\"#bd3786\"],[0.5555555555555556,\"#d8576b\"],[0.6666666666666666,\"#ed7953\"],[0.7777777777777778,\"#fb9f3a\"],[0.8888888888888888,\"#fdca26\"],[1.0,\"#f0f921\"]]}],\"heatmapgl\":[{\"type\":\"heatmapgl\",\"colorbar\":{\"outlinewidth\":0,\"ticks\":\"\"},\"colorscale\":[[0.0,\"#0d0887\"],[0.1111111111111111,\"#46039f\"],[0.2222222222222222,\"#7201a8\"],[0.3333333333333333,\"#9c179e\"],[0.4444444444444444,\"#bd3786\"],[0.5555555555555556,\"#d8576b\"],[0.6666666666666666,\"#ed7953\"],[0.7777777777777778,\"#fb9f3a\"],[0.8888888888888888,\"#fdca26\"],[1.0,\"#f0f921\"]]}],\"contourcarpet\":[{\"type\":\"contourcarpet\",\"colorbar\":{\"outlinewidth\":0,\"ticks\":\"\"}}],\"contour\":[{\"type\":\"contour\",\"colorbar\":{\"outlinewidth\":0,\"ticks\":\"\"},\"colorscale\":[[0.0,\"#0d0887\"],[0.1111111111111111,\"#46039f\"],[0.2222222222222222,\"#7201a8\"],[0.3333333333333333,\"#9c179e\"],[0.4444444444444444,\"#bd3786\"],[0.5555555555555556,\"#d8576b\"],[0.6666666666666666,\"#ed7953\"],[0.7777777777777778,\"#fb9f3a\"],[0.8888888888888888,\"#fdca26\"],[1.0,\"#f0f921\"]]}],\"surface\":[{\"type\":\"surface\",\"colorbar\":{\"outlinewidth\":0,\"ticks\":\"\"},\"colorscale\":[[0.0,\"#0d0887\"],[0.1111111111111111,\"#46039f\"],[0.2222222222222222,\"#7201a8\"],[0.3333333333333333,\"#9c179e\"],[0.4444444444444444,\"#bd3786\"],[0.5555555555555556,\"#d8576b\"],[0.6666666666666666,\"#ed7953\"],[0.7777777777777778,\"#fb9f3a\"],[0.8888888888888888,\"#fdca26\"],[1.0,\"#f0f921\"]]}],\"mesh3d\":[{\"type\":\"mesh3d\",\"colorbar\":{\"outlinewidth\":0,\"ticks\":\"\"}}],\"scatter\":[{\"fillpattern\":{\"fillmode\":\"overlay\",\"size\":10,\"solidity\":0.2},\"type\":\"scatter\"}],\"parcoords\":[{\"type\":\"parcoords\",\"line\":{\"colorbar\":{\"outlinewidth\":0,\"ticks\":\"\"}}}],\"scatterpolargl\":[{\"type\":\"scatterpolargl\",\"marker\":{\"colorbar\":{\"outlinewidth\":0,\"ticks\":\"\"}}}],\"bar\":[{\"error_x\":{\"color\":\"#2a3f5f\"},\"error_y\":{\"color\":\"#2a3f5f\"},\"marker\":{\"line\":{\"color\":\"#E5ECF6\",\"width\":0.5},\"pattern\":{\"fillmode\":\"overlay\",\"size\":10,\"solidity\":0.2}},\"type\":\"bar\"}],\"scattergeo\":[{\"type\":\"scattergeo\",\"marker\":{\"colorbar\":{\"outlinewidth\":0,\"ticks\":\"\"}}}],\"scatterpolar\":[{\"type\":\"scatterpolar\",\"marker\":{\"colorbar\":{\"outlinewidth\":0,\"ticks\":\"\"}}}],\"histogram\":[{\"marker\":{\"pattern\":{\"fillmode\":\"overlay\",\"size\":10,\"solidity\":0.2}},\"type\":\"histogram\"}],\"scattergl\":[{\"type\":\"scattergl\",\"marker\":{\"colorbar\":{\"outlinewidth\":0,\"ticks\":\"\"}}}],\"scatter3d\":[{\"type\":\"scatter3d\",\"line\":{\"colorbar\":{\"outlinewidth\":0,\"ticks\":\"\"}},\"marker\":{\"colorbar\":{\"outlinewidth\":0,\"ticks\":\"\"}}}],\"scattermapbox\":[{\"type\":\"scattermapbox\",\"marker\":{\"colorbar\":{\"outlinewidth\":0,\"ticks\":\"\"}}}],\"scatterternary\":[{\"type\":\"scatterternary\",\"marker\":{\"colorbar\":{\"outlinewidth\":0,\"ticks\":\"\"}}}],\"scattercarpet\":[{\"type\":\"scattercarpet\",\"marker\":{\"colorbar\":{\"outlinewidth\":0,\"ticks\":\"\"}}}],\"carpet\":[{\"aaxis\":{\"endlinecolor\":\"#2a3f5f\",\"gridcolor\":\"white\",\"linecolor\":\"white\",\"minorgridcolor\":\"white\",\"startlinecolor\":\"#2a3f5f\"},\"baxis\":{\"endlinecolor\":\"#2a3f5f\",\"gridcolor\":\"white\",\"linecolor\":\"white\",\"minorgridcolor\":\"white\",\"startlinecolor\":\"#2a3f5f\"},\"type\":\"carpet\"}],\"table\":[{\"cells\":{\"fill\":{\"color\":\"#EBF0F8\"},\"line\":{\"color\":\"white\"}},\"header\":{\"fill\":{\"color\":\"#C8D4E3\"},\"line\":{\"color\":\"white\"}},\"type\":\"table\"}],\"barpolar\":[{\"marker\":{\"line\":{\"color\":\"#E5ECF6\",\"width\":0.5},\"pattern\":{\"fillmode\":\"overlay\",\"size\":10,\"solidity\":0.2}},\"type\":\"barpolar\"}],\"pie\":[{\"automargin\":true,\"type\":\"pie\"}]},\"layout\":{\"autotypenumbers\":\"strict\",\"colorway\":[\"#636efa\",\"#EF553B\",\"#00cc96\",\"#ab63fa\",\"#FFA15A\",\"#19d3f3\",\"#FF6692\",\"#B6E880\",\"#FF97FF\",\"#FECB52\"],\"font\":{\"color\":\"#2a3f5f\"},\"hovermode\":\"closest\",\"hoverlabel\":{\"align\":\"left\"},\"paper_bgcolor\":\"white\",\"plot_bgcolor\":\"#E5ECF6\",\"polar\":{\"bgcolor\":\"#E5ECF6\",\"angularaxis\":{\"gridcolor\":\"white\",\"linecolor\":\"white\",\"ticks\":\"\"},\"radialaxis\":{\"gridcolor\":\"white\",\"linecolor\":\"white\",\"ticks\":\"\"}},\"ternary\":{\"bgcolor\":\"#E5ECF6\",\"aaxis\":{\"gridcolor\":\"white\",\"linecolor\":\"white\",\"ticks\":\"\"},\"baxis\":{\"gridcolor\":\"white\",\"linecolor\":\"white\",\"ticks\":\"\"},\"caxis\":{\"gridcolor\":\"white\",\"linecolor\":\"white\",\"ticks\":\"\"}},\"coloraxis\":{\"colorbar\":{\"outlinewidth\":0,\"ticks\":\"\"}},\"colorscale\":{\"sequential\":[[0.0,\"#0d0887\"],[0.1111111111111111,\"#46039f\"],[0.2222222222222222,\"#7201a8\"],[0.3333333333333333,\"#9c179e\"],[0.4444444444444444,\"#bd3786\"],[0.5555555555555556,\"#d8576b\"],[0.6666666666666666,\"#ed7953\"],[0.7777777777777778,\"#fb9f3a\"],[0.8888888888888888,\"#fdca26\"],[1.0,\"#f0f921\"]],\"sequentialminus\":[[0.0,\"#0d0887\"],[0.1111111111111111,\"#46039f\"],[0.2222222222222222,\"#7201a8\"],[0.3333333333333333,\"#9c179e\"],[0.4444444444444444,\"#bd3786\"],[0.5555555555555556,\"#d8576b\"],[0.6666666666666666,\"#ed7953\"],[0.7777777777777778,\"#fb9f3a\"],[0.8888888888888888,\"#fdca26\"],[1.0,\"#f0f921\"]],\"diverging\":[[0,\"#8e0152\"],[0.1,\"#c51b7d\"],[0.2,\"#de77ae\"],[0.3,\"#f1b6da\"],[0.4,\"#fde0ef\"],[0.5,\"#f7f7f7\"],[0.6,\"#e6f5d0\"],[0.7,\"#b8e186\"],[0.8,\"#7fbc41\"],[0.9,\"#4d9221\"],[1,\"#276419\"]]},\"xaxis\":{\"gridcolor\":\"white\",\"linecolor\":\"white\",\"ticks\":\"\",\"title\":{\"standoff\":15},\"zerolinecolor\":\"white\",\"automargin\":true,\"zerolinewidth\":2},\"yaxis\":{\"gridcolor\":\"white\",\"linecolor\":\"white\",\"ticks\":\"\",\"title\":{\"standoff\":15},\"zerolinecolor\":\"white\",\"automargin\":true,\"zerolinewidth\":2},\"scene\":{\"xaxis\":{\"backgroundcolor\":\"#E5ECF6\",\"gridcolor\":\"white\",\"linecolor\":\"white\",\"showbackground\":true,\"ticks\":\"\",\"zerolinecolor\":\"white\",\"gridwidth\":2},\"yaxis\":{\"backgroundcolor\":\"#E5ECF6\",\"gridcolor\":\"white\",\"linecolor\":\"white\",\"showbackground\":true,\"ticks\":\"\",\"zerolinecolor\":\"white\",\"gridwidth\":2},\"zaxis\":{\"backgroundcolor\":\"#E5ECF6\",\"gridcolor\":\"white\",\"linecolor\":\"white\",\"showbackground\":true,\"ticks\":\"\",\"zerolinecolor\":\"white\",\"gridwidth\":2}},\"shapedefaults\":{\"line\":{\"color\":\"#2a3f5f\"}},\"annotationdefaults\":{\"arrowcolor\":\"#2a3f5f\",\"arrowhead\":0,\"arrowwidth\":1},\"geo\":{\"bgcolor\":\"white\",\"landcolor\":\"#E5ECF6\",\"subunitcolor\":\"white\",\"showland\":true,\"showlakes\":true,\"lakecolor\":\"white\"},\"title\":{\"x\":0.05},\"mapbox\":{\"style\":\"light\"}}},\"xaxis\":{\"anchor\":\"y\",\"domain\":[0.0,1.0],\"title\":{\"text\":\"Amount\"}},\"yaxis\":{\"anchor\":\"x\",\"domain\":[0.0,1.0],\"title\":{\"text\":\"count\"}},\"legend\":{\"tracegroupgap\":0},\"margin\":{\"t\":60},\"barmode\":\"relative\",\"title\":{\"text\":\"Count of Amounts range\"}},                        {\"responsive\": true}                    ).then(function(){\n",
              "                            \n",
              "var gd = document.getElementById('59b98dbd-59e3-4a52-b266-03939ae3d3cd');\n",
              "var x = new MutationObserver(function (mutations, observer) {{\n",
              "        var display = window.getComputedStyle(gd).display;\n",
              "        if (!display || display === 'none') {{\n",
              "            console.log([gd, 'removed!']);\n",
              "            Plotly.purge(gd);\n",
              "            observer.disconnect();\n",
              "        }}\n",
              "}});\n",
              "\n",
              "// Listen for the removal of the full notebook cells\n",
              "var notebookContainer = gd.closest('#notebook-container');\n",
              "if (notebookContainer) {{\n",
              "    x.observe(notebookContainer, {childList: true});\n",
              "}}\n",
              "\n",
              "// Listen for the clearing of the current output cell\n",
              "var outputEl = gd.closest('.output');\n",
              "if (outputEl) {{\n",
              "    x.observe(outputEl, {childList: true});\n",
              "}}\n",
              "\n",
              "                        })                };                            </script>        </div>\n",
              "</body>\n",
              "</html>"
            ]
          },
          "metadata": {}
        }
      ]
    },
    {
      "cell_type": "markdown",
      "source": [
        "## Logistic Regression with scikit-learn"
      ],
      "metadata": {
        "id": "IfZ8xFWU3heZ"
      }
    },
    {
      "cell_type": "code",
      "source": [
        "# Split the data into features and labels\n",
        "features = pdf.iloc[:, 1:30]\n",
        "labels = pdf.iloc[:, 30]\n",
        "\n",
        "# Split the data into training and testing sets\n",
        "train_features, test_features, train_labels, test_labels = train_test_split(\n",
        "    features,\n",
        "    labels,\n",
        "    test_size = 0.3,\n",
        "    random_state = 42\n",
        ")\n",
        "\n",
        "# Train the logistic regression model\n",
        "train_model = LogisticRegression(max_iter = 1000)\n",
        "train_model.fit(train_features, train_labels)\n",
        "\n",
        "# Make predictions on the test set\n",
        "predicted_labels = train_model.predict(test_features)"
      ],
      "metadata": {
        "id": "8Pr2M3DT3g7_"
      },
      "execution_count": 25,
      "outputs": []
    },
    {
      "cell_type": "code",
      "source": [
        "# Generate and plot the confusion matrix\n",
        "cm = confusion_matrix(test_labels, predicted_labels)\n",
        "\n",
        "fig = px.imshow(\n",
        "    cm,\n",
        "    x = [\"Genuine (0)\", \"Fraudulent (1)\"],\n",
        "    y = [\"Genuine (0)\", \"Fraudulent (1)\"],\n",
        "    color_continuous_scale = \"Reds\",\n",
        "    labels = dict(x = \"Predicted Label\", y = \"True Label\")\n",
        ")\n",
        "\n",
        "# Add annotations to the heatmap\n",
        "for i in range(len(cm)):\n",
        "    for j in range(len(cm)):\n",
        "        fig.add_annotation(\n",
        "            x = j,\n",
        "            y = i,\n",
        "            text = str(cm[i][j]),\n",
        "            font = dict(color = \"white\" if cm[i][j] > cm.max() / 2 else \"black\"),\n",
        "            showarrow = False\n",
        "        )\n",
        "\n",
        "fig.update_layout(\n",
        "    title = \"Confusion Matrix - Logistic Regression (scikit-learn)\"\n",
        ")\n",
        "\n",
        "fig.show()"
      ],
      "metadata": {
        "colab": {
          "base_uri": "https://localhost:8080/",
          "height": 542
        },
        "id": "B9irnEgL3d6O",
        "outputId": "848914ca-d1ae-470f-8dbc-3b198dc277a4"
      },
      "execution_count": 28,
      "outputs": [
        {
          "output_type": "display_data",
          "data": {
            "text/html": [
              "<html>\n",
              "<head><meta charset=\"utf-8\" /></head>\n",
              "<body>\n",
              "    <div>            <script src=\"https://cdnjs.cloudflare.com/ajax/libs/mathjax/2.7.5/MathJax.js?config=TeX-AMS-MML_SVG\"></script><script type=\"text/javascript\">if (window.MathJax && window.MathJax.Hub && window.MathJax.Hub.Config) {window.MathJax.Hub.Config({SVG: {font: \"STIX-Web\"}});}</script>                <script type=\"text/javascript\">window.PlotlyConfig = {MathJaxConfig: 'local'};</script>\n",
              "        <script charset=\"utf-8\" src=\"https://cdn.plot.ly/plotly-2.24.1.min.js\"></script>                <div id=\"742dd2ac-1bd6-46e3-80bf-2ec82e110b46\" class=\"plotly-graph-div\" style=\"height:525px; width:100%;\"></div>            <script type=\"text/javascript\">                                    window.PLOTLYENV=window.PLOTLYENV || {};                                    if (document.getElementById(\"742dd2ac-1bd6-46e3-80bf-2ec82e110b46\")) {                    Plotly.newPlot(                        \"742dd2ac-1bd6-46e3-80bf-2ec82e110b46\",                        [{\"coloraxis\":\"coloraxis\",\"name\":\"0\",\"x\":[\"Genuine (0)\",\"Fraudulent (1)\"],\"y\":[\"Genuine (0)\",\"Fraudulent (1)\"],\"z\":[[818,12],[18,132]],\"type\":\"heatmap\",\"xaxis\":\"x\",\"yaxis\":\"y\",\"hovertemplate\":\"Predicted Label: %{x}\\u003cbr\\u003eTrue Label: %{y}\\u003cbr\\u003ecolor: %{z}\\u003cextra\\u003e\\u003c\\u002fextra\\u003e\"}],                        {\"template\":{\"data\":{\"histogram2dcontour\":[{\"type\":\"histogram2dcontour\",\"colorbar\":{\"outlinewidth\":0,\"ticks\":\"\"},\"colorscale\":[[0.0,\"#0d0887\"],[0.1111111111111111,\"#46039f\"],[0.2222222222222222,\"#7201a8\"],[0.3333333333333333,\"#9c179e\"],[0.4444444444444444,\"#bd3786\"],[0.5555555555555556,\"#d8576b\"],[0.6666666666666666,\"#ed7953\"],[0.7777777777777778,\"#fb9f3a\"],[0.8888888888888888,\"#fdca26\"],[1.0,\"#f0f921\"]]}],\"choropleth\":[{\"type\":\"choropleth\",\"colorbar\":{\"outlinewidth\":0,\"ticks\":\"\"}}],\"histogram2d\":[{\"type\":\"histogram2d\",\"colorbar\":{\"outlinewidth\":0,\"ticks\":\"\"},\"colorscale\":[[0.0,\"#0d0887\"],[0.1111111111111111,\"#46039f\"],[0.2222222222222222,\"#7201a8\"],[0.3333333333333333,\"#9c179e\"],[0.4444444444444444,\"#bd3786\"],[0.5555555555555556,\"#d8576b\"],[0.6666666666666666,\"#ed7953\"],[0.7777777777777778,\"#fb9f3a\"],[0.8888888888888888,\"#fdca26\"],[1.0,\"#f0f921\"]]}],\"heatmap\":[{\"type\":\"heatmap\",\"colorbar\":{\"outlinewidth\":0,\"ticks\":\"\"},\"colorscale\":[[0.0,\"#0d0887\"],[0.1111111111111111,\"#46039f\"],[0.2222222222222222,\"#7201a8\"],[0.3333333333333333,\"#9c179e\"],[0.4444444444444444,\"#bd3786\"],[0.5555555555555556,\"#d8576b\"],[0.6666666666666666,\"#ed7953\"],[0.7777777777777778,\"#fb9f3a\"],[0.8888888888888888,\"#fdca26\"],[1.0,\"#f0f921\"]]}],\"heatmapgl\":[{\"type\":\"heatmapgl\",\"colorbar\":{\"outlinewidth\":0,\"ticks\":\"\"},\"colorscale\":[[0.0,\"#0d0887\"],[0.1111111111111111,\"#46039f\"],[0.2222222222222222,\"#7201a8\"],[0.3333333333333333,\"#9c179e\"],[0.4444444444444444,\"#bd3786\"],[0.5555555555555556,\"#d8576b\"],[0.6666666666666666,\"#ed7953\"],[0.7777777777777778,\"#fb9f3a\"],[0.8888888888888888,\"#fdca26\"],[1.0,\"#f0f921\"]]}],\"contourcarpet\":[{\"type\":\"contourcarpet\",\"colorbar\":{\"outlinewidth\":0,\"ticks\":\"\"}}],\"contour\":[{\"type\":\"contour\",\"colorbar\":{\"outlinewidth\":0,\"ticks\":\"\"},\"colorscale\":[[0.0,\"#0d0887\"],[0.1111111111111111,\"#46039f\"],[0.2222222222222222,\"#7201a8\"],[0.3333333333333333,\"#9c179e\"],[0.4444444444444444,\"#bd3786\"],[0.5555555555555556,\"#d8576b\"],[0.6666666666666666,\"#ed7953\"],[0.7777777777777778,\"#fb9f3a\"],[0.8888888888888888,\"#fdca26\"],[1.0,\"#f0f921\"]]}],\"surface\":[{\"type\":\"surface\",\"colorbar\":{\"outlinewidth\":0,\"ticks\":\"\"},\"colorscale\":[[0.0,\"#0d0887\"],[0.1111111111111111,\"#46039f\"],[0.2222222222222222,\"#7201a8\"],[0.3333333333333333,\"#9c179e\"],[0.4444444444444444,\"#bd3786\"],[0.5555555555555556,\"#d8576b\"],[0.6666666666666666,\"#ed7953\"],[0.7777777777777778,\"#fb9f3a\"],[0.8888888888888888,\"#fdca26\"],[1.0,\"#f0f921\"]]}],\"mesh3d\":[{\"type\":\"mesh3d\",\"colorbar\":{\"outlinewidth\":0,\"ticks\":\"\"}}],\"scatter\":[{\"fillpattern\":{\"fillmode\":\"overlay\",\"size\":10,\"solidity\":0.2},\"type\":\"scatter\"}],\"parcoords\":[{\"type\":\"parcoords\",\"line\":{\"colorbar\":{\"outlinewidth\":0,\"ticks\":\"\"}}}],\"scatterpolargl\":[{\"type\":\"scatterpolargl\",\"marker\":{\"colorbar\":{\"outlinewidth\":0,\"ticks\":\"\"}}}],\"bar\":[{\"error_x\":{\"color\":\"#2a3f5f\"},\"error_y\":{\"color\":\"#2a3f5f\"},\"marker\":{\"line\":{\"color\":\"#E5ECF6\",\"width\":0.5},\"pattern\":{\"fillmode\":\"overlay\",\"size\":10,\"solidity\":0.2}},\"type\":\"bar\"}],\"scattergeo\":[{\"type\":\"scattergeo\",\"marker\":{\"colorbar\":{\"outlinewidth\":0,\"ticks\":\"\"}}}],\"scatterpolar\":[{\"type\":\"scatterpolar\",\"marker\":{\"colorbar\":{\"outlinewidth\":0,\"ticks\":\"\"}}}],\"histogram\":[{\"marker\":{\"pattern\":{\"fillmode\":\"overlay\",\"size\":10,\"solidity\":0.2}},\"type\":\"histogram\"}],\"scattergl\":[{\"type\":\"scattergl\",\"marker\":{\"colorbar\":{\"outlinewidth\":0,\"ticks\":\"\"}}}],\"scatter3d\":[{\"type\":\"scatter3d\",\"line\":{\"colorbar\":{\"outlinewidth\":0,\"ticks\":\"\"}},\"marker\":{\"colorbar\":{\"outlinewidth\":0,\"ticks\":\"\"}}}],\"scattermapbox\":[{\"type\":\"scattermapbox\",\"marker\":{\"colorbar\":{\"outlinewidth\":0,\"ticks\":\"\"}}}],\"scatterternary\":[{\"type\":\"scatterternary\",\"marker\":{\"colorbar\":{\"outlinewidth\":0,\"ticks\":\"\"}}}],\"scattercarpet\":[{\"type\":\"scattercarpet\",\"marker\":{\"colorbar\":{\"outlinewidth\":0,\"ticks\":\"\"}}}],\"carpet\":[{\"aaxis\":{\"endlinecolor\":\"#2a3f5f\",\"gridcolor\":\"white\",\"linecolor\":\"white\",\"minorgridcolor\":\"white\",\"startlinecolor\":\"#2a3f5f\"},\"baxis\":{\"endlinecolor\":\"#2a3f5f\",\"gridcolor\":\"white\",\"linecolor\":\"white\",\"minorgridcolor\":\"white\",\"startlinecolor\":\"#2a3f5f\"},\"type\":\"carpet\"}],\"table\":[{\"cells\":{\"fill\":{\"color\":\"#EBF0F8\"},\"line\":{\"color\":\"white\"}},\"header\":{\"fill\":{\"color\":\"#C8D4E3\"},\"line\":{\"color\":\"white\"}},\"type\":\"table\"}],\"barpolar\":[{\"marker\":{\"line\":{\"color\":\"#E5ECF6\",\"width\":0.5},\"pattern\":{\"fillmode\":\"overlay\",\"size\":10,\"solidity\":0.2}},\"type\":\"barpolar\"}],\"pie\":[{\"automargin\":true,\"type\":\"pie\"}]},\"layout\":{\"autotypenumbers\":\"strict\",\"colorway\":[\"#636efa\",\"#EF553B\",\"#00cc96\",\"#ab63fa\",\"#FFA15A\",\"#19d3f3\",\"#FF6692\",\"#B6E880\",\"#FF97FF\",\"#FECB52\"],\"font\":{\"color\":\"#2a3f5f\"},\"hovermode\":\"closest\",\"hoverlabel\":{\"align\":\"left\"},\"paper_bgcolor\":\"white\",\"plot_bgcolor\":\"#E5ECF6\",\"polar\":{\"bgcolor\":\"#E5ECF6\",\"angularaxis\":{\"gridcolor\":\"white\",\"linecolor\":\"white\",\"ticks\":\"\"},\"radialaxis\":{\"gridcolor\":\"white\",\"linecolor\":\"white\",\"ticks\":\"\"}},\"ternary\":{\"bgcolor\":\"#E5ECF6\",\"aaxis\":{\"gridcolor\":\"white\",\"linecolor\":\"white\",\"ticks\":\"\"},\"baxis\":{\"gridcolor\":\"white\",\"linecolor\":\"white\",\"ticks\":\"\"},\"caxis\":{\"gridcolor\":\"white\",\"linecolor\":\"white\",\"ticks\":\"\"}},\"coloraxis\":{\"colorbar\":{\"outlinewidth\":0,\"ticks\":\"\"}},\"colorscale\":{\"sequential\":[[0.0,\"#0d0887\"],[0.1111111111111111,\"#46039f\"],[0.2222222222222222,\"#7201a8\"],[0.3333333333333333,\"#9c179e\"],[0.4444444444444444,\"#bd3786\"],[0.5555555555555556,\"#d8576b\"],[0.6666666666666666,\"#ed7953\"],[0.7777777777777778,\"#fb9f3a\"],[0.8888888888888888,\"#fdca26\"],[1.0,\"#f0f921\"]],\"sequentialminus\":[[0.0,\"#0d0887\"],[0.1111111111111111,\"#46039f\"],[0.2222222222222222,\"#7201a8\"],[0.3333333333333333,\"#9c179e\"],[0.4444444444444444,\"#bd3786\"],[0.5555555555555556,\"#d8576b\"],[0.6666666666666666,\"#ed7953\"],[0.7777777777777778,\"#fb9f3a\"],[0.8888888888888888,\"#fdca26\"],[1.0,\"#f0f921\"]],\"diverging\":[[0,\"#8e0152\"],[0.1,\"#c51b7d\"],[0.2,\"#de77ae\"],[0.3,\"#f1b6da\"],[0.4,\"#fde0ef\"],[0.5,\"#f7f7f7\"],[0.6,\"#e6f5d0\"],[0.7,\"#b8e186\"],[0.8,\"#7fbc41\"],[0.9,\"#4d9221\"],[1,\"#276419\"]]},\"xaxis\":{\"gridcolor\":\"white\",\"linecolor\":\"white\",\"ticks\":\"\",\"title\":{\"standoff\":15},\"zerolinecolor\":\"white\",\"automargin\":true,\"zerolinewidth\":2},\"yaxis\":{\"gridcolor\":\"white\",\"linecolor\":\"white\",\"ticks\":\"\",\"title\":{\"standoff\":15},\"zerolinecolor\":\"white\",\"automargin\":true,\"zerolinewidth\":2},\"scene\":{\"xaxis\":{\"backgroundcolor\":\"#E5ECF6\",\"gridcolor\":\"white\",\"linecolor\":\"white\",\"showbackground\":true,\"ticks\":\"\",\"zerolinecolor\":\"white\",\"gridwidth\":2},\"yaxis\":{\"backgroundcolor\":\"#E5ECF6\",\"gridcolor\":\"white\",\"linecolor\":\"white\",\"showbackground\":true,\"ticks\":\"\",\"zerolinecolor\":\"white\",\"gridwidth\":2},\"zaxis\":{\"backgroundcolor\":\"#E5ECF6\",\"gridcolor\":\"white\",\"linecolor\":\"white\",\"showbackground\":true,\"ticks\":\"\",\"zerolinecolor\":\"white\",\"gridwidth\":2}},\"shapedefaults\":{\"line\":{\"color\":\"#2a3f5f\"}},\"annotationdefaults\":{\"arrowcolor\":\"#2a3f5f\",\"arrowhead\":0,\"arrowwidth\":1},\"geo\":{\"bgcolor\":\"white\",\"landcolor\":\"#E5ECF6\",\"subunitcolor\":\"white\",\"showland\":true,\"showlakes\":true,\"lakecolor\":\"white\"},\"title\":{\"x\":0.05},\"mapbox\":{\"style\":\"light\"}}},\"xaxis\":{\"anchor\":\"y\",\"domain\":[0.0,1.0],\"scaleanchor\":\"y\",\"constrain\":\"domain\",\"title\":{\"text\":\"Predicted Label\"}},\"yaxis\":{\"anchor\":\"x\",\"domain\":[0.0,1.0],\"autorange\":\"reversed\",\"constrain\":\"domain\",\"title\":{\"text\":\"True Label\"}},\"coloraxis\":{\"colorscale\":[[0.0,\"rgb(255,245,240)\"],[0.125,\"rgb(254,224,210)\"],[0.25,\"rgb(252,187,161)\"],[0.375,\"rgb(252,146,114)\"],[0.5,\"rgb(251,106,74)\"],[0.625,\"rgb(239,59,44)\"],[0.75,\"rgb(203,24,29)\"],[0.875,\"rgb(165,15,21)\"],[1.0,\"rgb(103,0,13)\"]]},\"margin\":{\"t\":60},\"annotations\":[{\"font\":{\"color\":\"white\"},\"showarrow\":false,\"text\":\"818\",\"x\":0,\"y\":0},{\"font\":{\"color\":\"black\"},\"showarrow\":false,\"text\":\"12\",\"x\":1,\"y\":0},{\"font\":{\"color\":\"black\"},\"showarrow\":false,\"text\":\"18\",\"x\":0,\"y\":1},{\"font\":{\"color\":\"black\"},\"showarrow\":false,\"text\":\"132\",\"x\":1,\"y\":1}],\"title\":{\"text\":\"Confusion Matrix - Logistic Regression (scikit-learn)\"}},                        {\"responsive\": true}                    ).then(function(){\n",
              "                            \n",
              "var gd = document.getElementById('742dd2ac-1bd6-46e3-80bf-2ec82e110b46');\n",
              "var x = new MutationObserver(function (mutations, observer) {{\n",
              "        var display = window.getComputedStyle(gd).display;\n",
              "        if (!display || display === 'none') {{\n",
              "            console.log([gd, 'removed!']);\n",
              "            Plotly.purge(gd);\n",
              "            observer.disconnect();\n",
              "        }}\n",
              "}});\n",
              "\n",
              "// Listen for the removal of the full notebook cells\n",
              "var notebookContainer = gd.closest('#notebook-container');\n",
              "if (notebookContainer) {{\n",
              "    x.observe(notebookContainer, {childList: true});\n",
              "}}\n",
              "\n",
              "// Listen for the clearing of the current output cell\n",
              "var outputEl = gd.closest('.output');\n",
              "if (outputEl) {{\n",
              "    x.observe(outputEl, {childList: true});\n",
              "}}\n",
              "\n",
              "                        })                };                            </script>        </div>\n",
              "</body>\n",
              "</html>"
            ]
          },
          "metadata": {}
        }
      ]
    },
    {
      "cell_type": "code",
      "source": [
        "# Calculate and print the accuracy, precision, recall and f1 of the model\n",
        "report = classification_report(test_labels, predicted_labels)\n",
        "print(report)"
      ],
      "metadata": {
        "colab": {
          "base_uri": "https://localhost:8080/"
        },
        "id": "0bmr1Fk74Wca",
        "outputId": "d0b66954-2b4c-48e5-e534-f60f19f35744"
      },
      "execution_count": 29,
      "outputs": [
        {
          "output_type": "stream",
          "name": "stdout",
          "text": [
            "              precision    recall  f1-score   support\n",
            "\n",
            "           0       0.98      0.99      0.98       830\n",
            "           1       0.92      0.88      0.90       150\n",
            "\n",
            "    accuracy                           0.97       980\n",
            "   macro avg       0.95      0.93      0.94       980\n",
            "weighted avg       0.97      0.97      0.97       980\n",
            "\n"
          ]
        }
      ]
    },
    {
      "cell_type": "markdown",
      "source": [
        "\n",
        "# Install Apache Spark"
      ],
      "metadata": {
        "id": "vr2-MOq45KlC"
      }
    },
    {
      "cell_type": "code",
      "source": [
        "# Create the spark session\n",
        "spark = SparkSession.builder.appName(\"FraudDetection\").getOrCreate()\n",
        "spark.sparkContext.setLogLevel(\"ERROR\")\n",
        "\n",
        "sdf = spark.createDataFrame(pdf)\n",
        "\n",
        "# Select features and labels\n",
        "features = sdf.columns[1:30]\n",
        "labels = \"Class\"\n",
        "\n",
        "# Assemble features into vector\n",
        "assembler = VectorAssembler(inputCols = features, outputCol = \"features\")\n",
        "sdf = assembler.transform(sdf).select(\"features\", labels)\n",
        "\n",
        "# Split the data into training and testing sets\n",
        "train, test = sdf.cache().randomSplit([0.7, 0.3], seed = 42)\n",
        "\n",
        "# Initialise logistic regression model\n",
        "lr = LogisticRegression(\n",
        "    maxIter = 1000,\n",
        "    featuresCol = \"features\",\n",
        "    labelCol = labels\n",
        ")"
      ],
      "metadata": {
        "id": "Qsdh-5175O0I"
      },
      "execution_count": 33,
      "outputs": []
    },
    {
      "cell_type": "code",
      "source": [
        "# Train the logistic regression model\n",
        "train_model = lr.fit(train)\n",
        "\n",
        "# Make predictions on the test set\n",
        "predictions = train_model.transform(test)"
      ],
      "metadata": {
        "id": "xL4ujkTU7XdM"
      },
      "execution_count": 34,
      "outputs": []
    },
    {
      "cell_type": "code",
      "source": [
        "# Calculate the accuracy, precision, recall and f1 of the model\n",
        "accuracy = predictions.filter(predictions.Class == predictions.prediction).count() / float(test.count())\n",
        "\n",
        "evaluator = MulticlassClassificationEvaluator(\n",
        "    labelCol = labels,\n",
        "    predictionCol = \"prediction\",\n",
        "    metricName = \"precisionByLabel\"\n",
        ")\n",
        "precision = evaluator.evaluate(predictions)\n",
        "\n",
        "evaluator = MulticlassClassificationEvaluator(\n",
        "    labelCol = labels,\n",
        "    predictionCol = \"prediction\",\n",
        "    metricName = \"recallByLabel\"\n",
        ")\n",
        "recall = evaluator.evaluate(predictions)\n",
        "\n",
        "evaluator = MulticlassClassificationEvaluator(\n",
        "    labelCol = labels,\n",
        "    predictionCol = \"prediction\",\n",
        "    metricName = \"fMeasureByLabel\"\n",
        ")\n",
        "f1 = evaluator.evaluate(predictions)"
      ],
      "metadata": {
        "id": "jrzk1ncG7dz5"
      },
      "execution_count": 35,
      "outputs": []
    },
    {
      "cell_type": "code",
      "source": [
        "# Create confusion matrix\n",
        "cm = predictions.select(\"Class\", \"prediction\")\n",
        "cm = cm.groupBy(\"Class\", \"prediction\").count()\n",
        "cm = cm.toPandas()\n",
        "\n",
        "# Pivot the confusion matrix\n",
        "cm = cm.pivot(\n",
        "    index = \"Class\",\n",
        "    columns = \"prediction\",\n",
        "    values = \"count\"\n",
        ")\n",
        "\n",
        "# Generate and plot the confusion matrix\n",
        "fig = px.imshow(\n",
        "    cm,\n",
        "    x = [\"Genuine (0)\", \"Fraudulent (1)\"],\n",
        "    y = [\"Genuine (0)\", \"Fraudulent (1)\"],\n",
        "    color_continuous_scale = \"Reds\",\n",
        "    labels = dict(x = \"Predicted Label\", y = \"True Label\")\n",
        ")\n",
        "\n",
        "# Add annotations to the heatmap\n",
        "for i in range(len(cm)):\n",
        "    for j in range(len(cm)):\n",
        "        fig.add_annotation(\n",
        "            x = j,\n",
        "            y = i,\n",
        "            text = str(cm.iloc[i, j]),\n",
        "            font = dict(color = \"white\" if cm.iloc[i, j] > cm.values.max() / 2 else \"black\"),\n",
        "            showarrow = False\n",
        "        )\n",
        "fig.update_layout(title_text = \"Confusion Matrix - Logistic Regression (Spark)\")\n",
        "\n",
        "fig.show()"
      ],
      "metadata": {
        "colab": {
          "base_uri": "https://localhost:8080/",
          "height": 542
        },
        "id": "ZFQDHd4T7t2Z",
        "outputId": "bcd16cc1-ccd9-4870-9c7b-389b01516dbe"
      },
      "execution_count": 36,
      "outputs": [
        {
          "output_type": "display_data",
          "data": {
            "text/html": [
              "<html>\n",
              "<head><meta charset=\"utf-8\" /></head>\n",
              "<body>\n",
              "    <div>            <script src=\"https://cdnjs.cloudflare.com/ajax/libs/mathjax/2.7.5/MathJax.js?config=TeX-AMS-MML_SVG\"></script><script type=\"text/javascript\">if (window.MathJax && window.MathJax.Hub && window.MathJax.Hub.Config) {window.MathJax.Hub.Config({SVG: {font: \"STIX-Web\"}});}</script>                <script type=\"text/javascript\">window.PlotlyConfig = {MathJaxConfig: 'local'};</script>\n",
              "        <script charset=\"utf-8\" src=\"https://cdn.plot.ly/plotly-2.24.1.min.js\"></script>                <div id=\"66a25214-2cc9-4750-a15f-be48d92f4f31\" class=\"plotly-graph-div\" style=\"height:525px; width:100%;\"></div>            <script type=\"text/javascript\">                                    window.PLOTLYENV=window.PLOTLYENV || {};                                    if (document.getElementById(\"66a25214-2cc9-4750-a15f-be48d92f4f31\")) {                    Plotly.newPlot(                        \"66a25214-2cc9-4750-a15f-be48d92f4f31\",                        [{\"coloraxis\":\"coloraxis\",\"name\":\"0\",\"x\":[\"Genuine (0)\",\"Fraudulent (1)\"],\"y\":[\"Genuine (0)\",\"Fraudulent (1)\"],\"z\":[[788,6],[11,124]],\"type\":\"heatmap\",\"xaxis\":\"x\",\"yaxis\":\"y\",\"hovertemplate\":\"Predicted Label: %{x}\\u003cbr\\u003eTrue Label: %{y}\\u003cbr\\u003ecolor: %{z}\\u003cextra\\u003e\\u003c\\u002fextra\\u003e\"}],                        {\"template\":{\"data\":{\"histogram2dcontour\":[{\"type\":\"histogram2dcontour\",\"colorbar\":{\"outlinewidth\":0,\"ticks\":\"\"},\"colorscale\":[[0.0,\"#0d0887\"],[0.1111111111111111,\"#46039f\"],[0.2222222222222222,\"#7201a8\"],[0.3333333333333333,\"#9c179e\"],[0.4444444444444444,\"#bd3786\"],[0.5555555555555556,\"#d8576b\"],[0.6666666666666666,\"#ed7953\"],[0.7777777777777778,\"#fb9f3a\"],[0.8888888888888888,\"#fdca26\"],[1.0,\"#f0f921\"]]}],\"choropleth\":[{\"type\":\"choropleth\",\"colorbar\":{\"outlinewidth\":0,\"ticks\":\"\"}}],\"histogram2d\":[{\"type\":\"histogram2d\",\"colorbar\":{\"outlinewidth\":0,\"ticks\":\"\"},\"colorscale\":[[0.0,\"#0d0887\"],[0.1111111111111111,\"#46039f\"],[0.2222222222222222,\"#7201a8\"],[0.3333333333333333,\"#9c179e\"],[0.4444444444444444,\"#bd3786\"],[0.5555555555555556,\"#d8576b\"],[0.6666666666666666,\"#ed7953\"],[0.7777777777777778,\"#fb9f3a\"],[0.8888888888888888,\"#fdca26\"],[1.0,\"#f0f921\"]]}],\"heatmap\":[{\"type\":\"heatmap\",\"colorbar\":{\"outlinewidth\":0,\"ticks\":\"\"},\"colorscale\":[[0.0,\"#0d0887\"],[0.1111111111111111,\"#46039f\"],[0.2222222222222222,\"#7201a8\"],[0.3333333333333333,\"#9c179e\"],[0.4444444444444444,\"#bd3786\"],[0.5555555555555556,\"#d8576b\"],[0.6666666666666666,\"#ed7953\"],[0.7777777777777778,\"#fb9f3a\"],[0.8888888888888888,\"#fdca26\"],[1.0,\"#f0f921\"]]}],\"heatmapgl\":[{\"type\":\"heatmapgl\",\"colorbar\":{\"outlinewidth\":0,\"ticks\":\"\"},\"colorscale\":[[0.0,\"#0d0887\"],[0.1111111111111111,\"#46039f\"],[0.2222222222222222,\"#7201a8\"],[0.3333333333333333,\"#9c179e\"],[0.4444444444444444,\"#bd3786\"],[0.5555555555555556,\"#d8576b\"],[0.6666666666666666,\"#ed7953\"],[0.7777777777777778,\"#fb9f3a\"],[0.8888888888888888,\"#fdca26\"],[1.0,\"#f0f921\"]]}],\"contourcarpet\":[{\"type\":\"contourcarpet\",\"colorbar\":{\"outlinewidth\":0,\"ticks\":\"\"}}],\"contour\":[{\"type\":\"contour\",\"colorbar\":{\"outlinewidth\":0,\"ticks\":\"\"},\"colorscale\":[[0.0,\"#0d0887\"],[0.1111111111111111,\"#46039f\"],[0.2222222222222222,\"#7201a8\"],[0.3333333333333333,\"#9c179e\"],[0.4444444444444444,\"#bd3786\"],[0.5555555555555556,\"#d8576b\"],[0.6666666666666666,\"#ed7953\"],[0.7777777777777778,\"#fb9f3a\"],[0.8888888888888888,\"#fdca26\"],[1.0,\"#f0f921\"]]}],\"surface\":[{\"type\":\"surface\",\"colorbar\":{\"outlinewidth\":0,\"ticks\":\"\"},\"colorscale\":[[0.0,\"#0d0887\"],[0.1111111111111111,\"#46039f\"],[0.2222222222222222,\"#7201a8\"],[0.3333333333333333,\"#9c179e\"],[0.4444444444444444,\"#bd3786\"],[0.5555555555555556,\"#d8576b\"],[0.6666666666666666,\"#ed7953\"],[0.7777777777777778,\"#fb9f3a\"],[0.8888888888888888,\"#fdca26\"],[1.0,\"#f0f921\"]]}],\"mesh3d\":[{\"type\":\"mesh3d\",\"colorbar\":{\"outlinewidth\":0,\"ticks\":\"\"}}],\"scatter\":[{\"fillpattern\":{\"fillmode\":\"overlay\",\"size\":10,\"solidity\":0.2},\"type\":\"scatter\"}],\"parcoords\":[{\"type\":\"parcoords\",\"line\":{\"colorbar\":{\"outlinewidth\":0,\"ticks\":\"\"}}}],\"scatterpolargl\":[{\"type\":\"scatterpolargl\",\"marker\":{\"colorbar\":{\"outlinewidth\":0,\"ticks\":\"\"}}}],\"bar\":[{\"error_x\":{\"color\":\"#2a3f5f\"},\"error_y\":{\"color\":\"#2a3f5f\"},\"marker\":{\"line\":{\"color\":\"#E5ECF6\",\"width\":0.5},\"pattern\":{\"fillmode\":\"overlay\",\"size\":10,\"solidity\":0.2}},\"type\":\"bar\"}],\"scattergeo\":[{\"type\":\"scattergeo\",\"marker\":{\"colorbar\":{\"outlinewidth\":0,\"ticks\":\"\"}}}],\"scatterpolar\":[{\"type\":\"scatterpolar\",\"marker\":{\"colorbar\":{\"outlinewidth\":0,\"ticks\":\"\"}}}],\"histogram\":[{\"marker\":{\"pattern\":{\"fillmode\":\"overlay\",\"size\":10,\"solidity\":0.2}},\"type\":\"histogram\"}],\"scattergl\":[{\"type\":\"scattergl\",\"marker\":{\"colorbar\":{\"outlinewidth\":0,\"ticks\":\"\"}}}],\"scatter3d\":[{\"type\":\"scatter3d\",\"line\":{\"colorbar\":{\"outlinewidth\":0,\"ticks\":\"\"}},\"marker\":{\"colorbar\":{\"outlinewidth\":0,\"ticks\":\"\"}}}],\"scattermapbox\":[{\"type\":\"scattermapbox\",\"marker\":{\"colorbar\":{\"outlinewidth\":0,\"ticks\":\"\"}}}],\"scatterternary\":[{\"type\":\"scatterternary\",\"marker\":{\"colorbar\":{\"outlinewidth\":0,\"ticks\":\"\"}}}],\"scattercarpet\":[{\"type\":\"scattercarpet\",\"marker\":{\"colorbar\":{\"outlinewidth\":0,\"ticks\":\"\"}}}],\"carpet\":[{\"aaxis\":{\"endlinecolor\":\"#2a3f5f\",\"gridcolor\":\"white\",\"linecolor\":\"white\",\"minorgridcolor\":\"white\",\"startlinecolor\":\"#2a3f5f\"},\"baxis\":{\"endlinecolor\":\"#2a3f5f\",\"gridcolor\":\"white\",\"linecolor\":\"white\",\"minorgridcolor\":\"white\",\"startlinecolor\":\"#2a3f5f\"},\"type\":\"carpet\"}],\"table\":[{\"cells\":{\"fill\":{\"color\":\"#EBF0F8\"},\"line\":{\"color\":\"white\"}},\"header\":{\"fill\":{\"color\":\"#C8D4E3\"},\"line\":{\"color\":\"white\"}},\"type\":\"table\"}],\"barpolar\":[{\"marker\":{\"line\":{\"color\":\"#E5ECF6\",\"width\":0.5},\"pattern\":{\"fillmode\":\"overlay\",\"size\":10,\"solidity\":0.2}},\"type\":\"barpolar\"}],\"pie\":[{\"automargin\":true,\"type\":\"pie\"}]},\"layout\":{\"autotypenumbers\":\"strict\",\"colorway\":[\"#636efa\",\"#EF553B\",\"#00cc96\",\"#ab63fa\",\"#FFA15A\",\"#19d3f3\",\"#FF6692\",\"#B6E880\",\"#FF97FF\",\"#FECB52\"],\"font\":{\"color\":\"#2a3f5f\"},\"hovermode\":\"closest\",\"hoverlabel\":{\"align\":\"left\"},\"paper_bgcolor\":\"white\",\"plot_bgcolor\":\"#E5ECF6\",\"polar\":{\"bgcolor\":\"#E5ECF6\",\"angularaxis\":{\"gridcolor\":\"white\",\"linecolor\":\"white\",\"ticks\":\"\"},\"radialaxis\":{\"gridcolor\":\"white\",\"linecolor\":\"white\",\"ticks\":\"\"}},\"ternary\":{\"bgcolor\":\"#E5ECF6\",\"aaxis\":{\"gridcolor\":\"white\",\"linecolor\":\"white\",\"ticks\":\"\"},\"baxis\":{\"gridcolor\":\"white\",\"linecolor\":\"white\",\"ticks\":\"\"},\"caxis\":{\"gridcolor\":\"white\",\"linecolor\":\"white\",\"ticks\":\"\"}},\"coloraxis\":{\"colorbar\":{\"outlinewidth\":0,\"ticks\":\"\"}},\"colorscale\":{\"sequential\":[[0.0,\"#0d0887\"],[0.1111111111111111,\"#46039f\"],[0.2222222222222222,\"#7201a8\"],[0.3333333333333333,\"#9c179e\"],[0.4444444444444444,\"#bd3786\"],[0.5555555555555556,\"#d8576b\"],[0.6666666666666666,\"#ed7953\"],[0.7777777777777778,\"#fb9f3a\"],[0.8888888888888888,\"#fdca26\"],[1.0,\"#f0f921\"]],\"sequentialminus\":[[0.0,\"#0d0887\"],[0.1111111111111111,\"#46039f\"],[0.2222222222222222,\"#7201a8\"],[0.3333333333333333,\"#9c179e\"],[0.4444444444444444,\"#bd3786\"],[0.5555555555555556,\"#d8576b\"],[0.6666666666666666,\"#ed7953\"],[0.7777777777777778,\"#fb9f3a\"],[0.8888888888888888,\"#fdca26\"],[1.0,\"#f0f921\"]],\"diverging\":[[0,\"#8e0152\"],[0.1,\"#c51b7d\"],[0.2,\"#de77ae\"],[0.3,\"#f1b6da\"],[0.4,\"#fde0ef\"],[0.5,\"#f7f7f7\"],[0.6,\"#e6f5d0\"],[0.7,\"#b8e186\"],[0.8,\"#7fbc41\"],[0.9,\"#4d9221\"],[1,\"#276419\"]]},\"xaxis\":{\"gridcolor\":\"white\",\"linecolor\":\"white\",\"ticks\":\"\",\"title\":{\"standoff\":15},\"zerolinecolor\":\"white\",\"automargin\":true,\"zerolinewidth\":2},\"yaxis\":{\"gridcolor\":\"white\",\"linecolor\":\"white\",\"ticks\":\"\",\"title\":{\"standoff\":15},\"zerolinecolor\":\"white\",\"automargin\":true,\"zerolinewidth\":2},\"scene\":{\"xaxis\":{\"backgroundcolor\":\"#E5ECF6\",\"gridcolor\":\"white\",\"linecolor\":\"white\",\"showbackground\":true,\"ticks\":\"\",\"zerolinecolor\":\"white\",\"gridwidth\":2},\"yaxis\":{\"backgroundcolor\":\"#E5ECF6\",\"gridcolor\":\"white\",\"linecolor\":\"white\",\"showbackground\":true,\"ticks\":\"\",\"zerolinecolor\":\"white\",\"gridwidth\":2},\"zaxis\":{\"backgroundcolor\":\"#E5ECF6\",\"gridcolor\":\"white\",\"linecolor\":\"white\",\"showbackground\":true,\"ticks\":\"\",\"zerolinecolor\":\"white\",\"gridwidth\":2}},\"shapedefaults\":{\"line\":{\"color\":\"#2a3f5f\"}},\"annotationdefaults\":{\"arrowcolor\":\"#2a3f5f\",\"arrowhead\":0,\"arrowwidth\":1},\"geo\":{\"bgcolor\":\"white\",\"landcolor\":\"#E5ECF6\",\"subunitcolor\":\"white\",\"showland\":true,\"showlakes\":true,\"lakecolor\":\"white\"},\"title\":{\"x\":0.05},\"mapbox\":{\"style\":\"light\"}}},\"xaxis\":{\"anchor\":\"y\",\"domain\":[0.0,1.0],\"scaleanchor\":\"y\",\"constrain\":\"domain\",\"title\":{\"text\":\"Predicted Label\"}},\"yaxis\":{\"anchor\":\"x\",\"domain\":[0.0,1.0],\"autorange\":\"reversed\",\"constrain\":\"domain\",\"title\":{\"text\":\"True Label\"}},\"coloraxis\":{\"colorscale\":[[0.0,\"rgb(255,245,240)\"],[0.125,\"rgb(254,224,210)\"],[0.25,\"rgb(252,187,161)\"],[0.375,\"rgb(252,146,114)\"],[0.5,\"rgb(251,106,74)\"],[0.625,\"rgb(239,59,44)\"],[0.75,\"rgb(203,24,29)\"],[0.875,\"rgb(165,15,21)\"],[1.0,\"rgb(103,0,13)\"]]},\"margin\":{\"t\":60},\"annotations\":[{\"font\":{\"color\":\"white\"},\"showarrow\":false,\"text\":\"788\",\"x\":0,\"y\":0},{\"font\":{\"color\":\"black\"},\"showarrow\":false,\"text\":\"6\",\"x\":1,\"y\":0},{\"font\":{\"color\":\"black\"},\"showarrow\":false,\"text\":\"11\",\"x\":0,\"y\":1},{\"font\":{\"color\":\"black\"},\"showarrow\":false,\"text\":\"124\",\"x\":1,\"y\":1}],\"title\":{\"text\":\"Confusion Matrix - Logistic Regression (Spark)\"}},                        {\"responsive\": true}                    ).then(function(){\n",
              "                            \n",
              "var gd = document.getElementById('66a25214-2cc9-4750-a15f-be48d92f4f31');\n",
              "var x = new MutationObserver(function (mutations, observer) {{\n",
              "        var display = window.getComputedStyle(gd).display;\n",
              "        if (!display || display === 'none') {{\n",
              "            console.log([gd, 'removed!']);\n",
              "            Plotly.purge(gd);\n",
              "            observer.disconnect();\n",
              "        }}\n",
              "}});\n",
              "\n",
              "// Listen for the removal of the full notebook cells\n",
              "var notebookContainer = gd.closest('#notebook-container');\n",
              "if (notebookContainer) {{\n",
              "    x.observe(notebookContainer, {childList: true});\n",
              "}}\n",
              "\n",
              "// Listen for the clearing of the current output cell\n",
              "var outputEl = gd.closest('.output');\n",
              "if (outputEl) {{\n",
              "    x.observe(outputEl, {childList: true});\n",
              "}}\n",
              "\n",
              "                        })                };                            </script>        </div>\n",
              "</body>\n",
              "</html>"
            ]
          },
          "metadata": {}
        }
      ]
    },
    {
      "cell_type": "code",
      "source": [
        "# Print the accuracy, precision, recall and f1 of the model\n",
        "print(\"Accuracy: %.4f\" % accuracy)\n",
        "print(\"Precision: %.4f\" % precision)\n",
        "print(\"Recall: %.4f\" % recall)\n",
        "print(\"F1: %.4f\" % f1)"
      ],
      "metadata": {
        "colab": {
          "base_uri": "https://localhost:8080/"
        },
        "id": "fh3EnS777-tI",
        "outputId": "29f863b1-51b7-4dff-c1cd-ab2a38542a74"
      },
      "execution_count": 37,
      "outputs": [
        {
          "output_type": "stream",
          "name": "stdout",
          "text": [
            "Accuracy: 0.9817\n",
            "Precision: 0.9862\n",
            "Recall: 0.9924\n",
            "F1: 0.9893\n"
          ]
        }
      ]
    },
    {
      "cell_type": "markdown",
      "source": [
        "# OpenAI Implementation"
      ],
      "metadata": {
        "id": "59vssYRU-FwP"
      }
    },
    {
      "cell_type": "code",
      "source": [
        "new_pdf = pdf.copy()"
      ],
      "metadata": {
        "id": "h-pnSgwp8EBh"
      },
      "execution_count": 4,
      "outputs": []
    },
    {
      "cell_type": "code",
      "source": [
        "import getpass\n",
        "os.environ[\"OPENAI_API_KEY\"] = getpass.getpass(\"OpenAI API Key:\")"
      ],
      "metadata": {
        "colab": {
          "base_uri": "https://localhost:8080/"
        },
        "id": "4PlTEMGx-ixP",
        "outputId": "8bd23fdc-b709-427e-9bbc-256c65417a64"
      },
      "execution_count": 5,
      "outputs": [
        {
          "name": "stdout",
          "output_type": "stream",
          "text": [
            "OpenAI API Key:··········\n"
          ]
        }
      ]
    },
    {
      "cell_type": "code",
      "source": [
        "import openai\n",
        "\n",
        "from tenacity import (\n",
        "    retry,\n",
        "    stop_after_attempt,\n",
        "    wait_random_exponential,\n",
        ")\n",
        "\n",
        "@retry(wait = wait_random_exponential(min = 1, max = 60),\n",
        "       stop = stop_after_attempt(6)\n",
        ")\n",
        "\n",
        "def completion_with_backoff(**kwargs):\n",
        "    return openai.Completion.create(**kwargs)"
      ],
      "metadata": {
        "id": "E9a5JMNg-veD"
      },
      "execution_count": 6,
      "outputs": []
    },
    {
      "cell_type": "code",
      "source": [
        "data = new_pdf.values.tolist()\n",
        "\n",
        "# Split the data into features and labels\n",
        "features = [[float(cell) for cell in row[1:29]] + [float(row[29])] for row in data]\n",
        "labels = [int(row[-1]) for row in data]\n",
        "\n",
        "# Split the data into training and testing sets\n",
        "train_features, test_features, train_labels, test_labels = train_test_split(\n",
        "    features,\n",
        "    labels,\n",
        "    test_size = 0.3,\n",
        "    random_state = 42\n",
        ")"
      ],
      "metadata": {
        "id": "iZYb0Efr--27"
      },
      "execution_count": 7,
      "outputs": []
    },
    {
      "cell_type": "code",
      "source": [
        "# raise KeyboardInterrupt(\"Execution stopped manually.\")\n",
        "\n",
        "# Train the model\n",
        "train_model = \"gpt-3.5-turbo-instruct\"\n",
        "train_prompt = (\n",
        "    f\"Train a model to classify transactions as fraudulent (1) or not fraudulent (0) based on their features.\\n\"\n",
        "    f\"Each transaction is represented by 28 features and labeled as 0 (not fraudulent) or 1 (fraudulent).\\n\"\n",
        "    f\"Use the GPT-3.5 API to classify the transactions.\\n\"\n",
        ")\n",
        "\n",
        "# Send initial prompt to train the model\n",
        "train_model_response = completion_with_backoff(\n",
        "    engine = train_model,\n",
        "    prompt = train_prompt,\n",
        "    temperature = 0,\n",
        "    max_tokens = 500,\n",
        "    n = 1,\n",
        "    stop = None,\n",
        "    timeout = 30,\n",
        ")\n"
      ],
      "metadata": {
        "id": "K_KB8uJt_LbV"
      },
      "execution_count": 8,
      "outputs": []
    },
    {
      "cell_type": "code",
      "source": [
        "train_model_id = train_model_response.model\n",
        "\n",
        "# Define batch size for processing multiple transactions at once\n",
        "batch_size = 10\n",
        "\n",
        "# Split the transactions into batches\n",
        "transaction_batches = [train_features[i:i+batch_size] for i in range(0, len(train_features), batch_size)]\n",
        "label_batches = [train_labels[i:i+batch_size] for i in range(0, len(train_labels), batch_size)]\n",
        "\n",
        "# Iterate over batches\n",
        "for features_batch, labels_batch in zip(transaction_batches, label_batches):\n",
        "    # Construct prompt for batch\n",
        "    prompt = \"\"\n",
        "    for features, label in zip(features_batch, labels_batch):\n",
        "        prompt += (f\"Train the model to classify the transaction with the following \\n\"\n",
        "                   f\"label: {label}, with features: {features}\\n\")\n"
      ],
      "metadata": {
        "id": "FX3KwBvM_W-2"
      },
      "execution_count": 9,
      "outputs": []
    },
    {
      "cell_type": "code",
      "source": [
        "    # Send request to the model\n",
        "    response = completion_with_backoff(\n",
        "        engine = train_model_id,\n",
        "        prompt = prompt,\n",
        "        temperature = 0,\n",
        "        max_tokens = 30 * len(features_batch),\n",
        "        n = 1,\n",
        "        stop = None,\n",
        "        timeout = 30,\n",
        "    )"
      ],
      "metadata": {
        "id": "aF36h6ljCMGs"
      },
      "execution_count": 10,
      "outputs": []
    },
    {
      "cell_type": "code",
      "source": [
        "#raise KeyboardInterrupt(\"Execution stopped manually.\")\n",
        "\n",
        "# Evaluate the model\n",
        "test_model = train_model\n",
        "test_model_prompt = (\n",
        "    f\"Classify whether the transaction with the following features is \\n\"\n",
        "    f\"either not fraudulent or fraudulent.\"\n",
        ")\n",
        "\n",
        "test_model_response = completion_with_backoff(\n",
        "    engine = train_model_id,\n",
        "    prompt = test_model_prompt,\n",
        "    temperature = 0,\n",
        "    max_tokens = 30,\n",
        "    n = 1,\n",
        "    stop = None,\n",
        "    timeout = 30,\n",
        ")\n",
        "\n",
        "test_model_id = test_model_response.model\n",
        "\n",
        "predicted_labels = []\n",
        "for i in range(len(test_features)):\n",
        "    prompt = (f\"Classify whether the transaction with the following features is \\n\"\n",
        "              f\"either not fraudulent or fraudulent: {test_features[i]}\"\n",
        "    )\n",
        "    response = completion_with_backoff(\n",
        "        engine = test_model_id,\n",
        "        prompt = prompt,\n",
        "        temperature = 0,\n",
        "        max_tokens = 30,\n",
        "        n = 1,\n",
        "        stop = None,\n",
        "        timeout = 30,\n",
        "    )\n",
        "\n",
        "    predicted_label = response.choices[0].text.strip().lower().replace(\".\", \"\")\n",
        "    binary_label = 1 if predicted_label == \"fraudulent\" else 0\n",
        "    predicted_labels.append(binary_label)#"
      ],
      "metadata": {
        "id": "zdA2lEUmCTvr"
      },
      "execution_count": 12,
      "outputs": []
    },
    {
      "cell_type": "code",
      "source": [
        "# Generate and plot the confusion matrix\n",
        "cm = confusion_matrix(test_labels, predicted_labels)\n",
        "fig = px.imshow(\n",
        "    cm,\n",
        "    x = [\"Genuine (0)\", \"Fraudulent (1)\"],\n",
        "    y = [\"Genuine (0)\", \"Fraudulent (1)\"],\n",
        "    color_continuous_scale = \"Reds\",\n",
        "    labels = dict(x = \"Predicted Label\", y = \"True Label\")\n",
        ")\n",
        "\n",
        "# Add annotations to the heatmap\n",
        "for i in range(len(cm)):\n",
        "    for j in range(len(cm)):\n",
        "        fig.add_annotation(\n",
        "            x = j,\n",
        "            y = i,\n",
        "            text = str(cm[i][j]),\n",
        "            font = dict(color = \"white\" if cm[i][j] > cm.max() / 2 else \"black\"),\n",
        "            showarrow = False\n",
        "        )\n",
        "\n",
        "fig.update_layout(title = \"Confusion Matrix - OpenAI Model\")\n",
        "\n",
        "fig.show()"
      ],
      "metadata": {
        "colab": {
          "base_uri": "https://localhost:8080/",
          "height": 542
        },
        "id": "Y-a7S-NpCg0B",
        "outputId": "9c1bb1e8-387b-47f3-fdb5-a4a010e4642b"
      },
      "execution_count": 13,
      "outputs": [
        {
          "output_type": "display_data",
          "data": {
            "text/html": [
              "<html>\n",
              "<head><meta charset=\"utf-8\" /></head>\n",
              "<body>\n",
              "    <div>            <script src=\"https://cdnjs.cloudflare.com/ajax/libs/mathjax/2.7.5/MathJax.js?config=TeX-AMS-MML_SVG\"></script><script type=\"text/javascript\">if (window.MathJax && window.MathJax.Hub && window.MathJax.Hub.Config) {window.MathJax.Hub.Config({SVG: {font: \"STIX-Web\"}});}</script>                <script type=\"text/javascript\">window.PlotlyConfig = {MathJaxConfig: 'local'};</script>\n",
              "        <script charset=\"utf-8\" src=\"https://cdn.plot.ly/plotly-2.24.1.min.js\"></script>                <div id=\"c496f744-7225-4ace-b564-a9588c1596d0\" class=\"plotly-graph-div\" style=\"height:525px; width:100%;\"></div>            <script type=\"text/javascript\">                                    window.PLOTLYENV=window.PLOTLYENV || {};                                    if (document.getElementById(\"c496f744-7225-4ace-b564-a9588c1596d0\")) {                    Plotly.newPlot(                        \"c496f744-7225-4ace-b564-a9588c1596d0\",                        [{\"coloraxis\":\"coloraxis\",\"name\":\"0\",\"x\":[\"Genuine (0)\",\"Fraudulent (1)\"],\"y\":[\"Genuine (0)\",\"Fraudulent (1)\"],\"z\":[[287,543],[28,122]],\"type\":\"heatmap\",\"xaxis\":\"x\",\"yaxis\":\"y\",\"hovertemplate\":\"Predicted Label: %{x}\\u003cbr\\u003eTrue Label: %{y}\\u003cbr\\u003ecolor: %{z}\\u003cextra\\u003e\\u003c\\u002fextra\\u003e\"}],                        {\"template\":{\"data\":{\"histogram2dcontour\":[{\"type\":\"histogram2dcontour\",\"colorbar\":{\"outlinewidth\":0,\"ticks\":\"\"},\"colorscale\":[[0.0,\"#0d0887\"],[0.1111111111111111,\"#46039f\"],[0.2222222222222222,\"#7201a8\"],[0.3333333333333333,\"#9c179e\"],[0.4444444444444444,\"#bd3786\"],[0.5555555555555556,\"#d8576b\"],[0.6666666666666666,\"#ed7953\"],[0.7777777777777778,\"#fb9f3a\"],[0.8888888888888888,\"#fdca26\"],[1.0,\"#f0f921\"]]}],\"choropleth\":[{\"type\":\"choropleth\",\"colorbar\":{\"outlinewidth\":0,\"ticks\":\"\"}}],\"histogram2d\":[{\"type\":\"histogram2d\",\"colorbar\":{\"outlinewidth\":0,\"ticks\":\"\"},\"colorscale\":[[0.0,\"#0d0887\"],[0.1111111111111111,\"#46039f\"],[0.2222222222222222,\"#7201a8\"],[0.3333333333333333,\"#9c179e\"],[0.4444444444444444,\"#bd3786\"],[0.5555555555555556,\"#d8576b\"],[0.6666666666666666,\"#ed7953\"],[0.7777777777777778,\"#fb9f3a\"],[0.8888888888888888,\"#fdca26\"],[1.0,\"#f0f921\"]]}],\"heatmap\":[{\"type\":\"heatmap\",\"colorbar\":{\"outlinewidth\":0,\"ticks\":\"\"},\"colorscale\":[[0.0,\"#0d0887\"],[0.1111111111111111,\"#46039f\"],[0.2222222222222222,\"#7201a8\"],[0.3333333333333333,\"#9c179e\"],[0.4444444444444444,\"#bd3786\"],[0.5555555555555556,\"#d8576b\"],[0.6666666666666666,\"#ed7953\"],[0.7777777777777778,\"#fb9f3a\"],[0.8888888888888888,\"#fdca26\"],[1.0,\"#f0f921\"]]}],\"heatmapgl\":[{\"type\":\"heatmapgl\",\"colorbar\":{\"outlinewidth\":0,\"ticks\":\"\"},\"colorscale\":[[0.0,\"#0d0887\"],[0.1111111111111111,\"#46039f\"],[0.2222222222222222,\"#7201a8\"],[0.3333333333333333,\"#9c179e\"],[0.4444444444444444,\"#bd3786\"],[0.5555555555555556,\"#d8576b\"],[0.6666666666666666,\"#ed7953\"],[0.7777777777777778,\"#fb9f3a\"],[0.8888888888888888,\"#fdca26\"],[1.0,\"#f0f921\"]]}],\"contourcarpet\":[{\"type\":\"contourcarpet\",\"colorbar\":{\"outlinewidth\":0,\"ticks\":\"\"}}],\"contour\":[{\"type\":\"contour\",\"colorbar\":{\"outlinewidth\":0,\"ticks\":\"\"},\"colorscale\":[[0.0,\"#0d0887\"],[0.1111111111111111,\"#46039f\"],[0.2222222222222222,\"#7201a8\"],[0.3333333333333333,\"#9c179e\"],[0.4444444444444444,\"#bd3786\"],[0.5555555555555556,\"#d8576b\"],[0.6666666666666666,\"#ed7953\"],[0.7777777777777778,\"#fb9f3a\"],[0.8888888888888888,\"#fdca26\"],[1.0,\"#f0f921\"]]}],\"surface\":[{\"type\":\"surface\",\"colorbar\":{\"outlinewidth\":0,\"ticks\":\"\"},\"colorscale\":[[0.0,\"#0d0887\"],[0.1111111111111111,\"#46039f\"],[0.2222222222222222,\"#7201a8\"],[0.3333333333333333,\"#9c179e\"],[0.4444444444444444,\"#bd3786\"],[0.5555555555555556,\"#d8576b\"],[0.6666666666666666,\"#ed7953\"],[0.7777777777777778,\"#fb9f3a\"],[0.8888888888888888,\"#fdca26\"],[1.0,\"#f0f921\"]]}],\"mesh3d\":[{\"type\":\"mesh3d\",\"colorbar\":{\"outlinewidth\":0,\"ticks\":\"\"}}],\"scatter\":[{\"fillpattern\":{\"fillmode\":\"overlay\",\"size\":10,\"solidity\":0.2},\"type\":\"scatter\"}],\"parcoords\":[{\"type\":\"parcoords\",\"line\":{\"colorbar\":{\"outlinewidth\":0,\"ticks\":\"\"}}}],\"scatterpolargl\":[{\"type\":\"scatterpolargl\",\"marker\":{\"colorbar\":{\"outlinewidth\":0,\"ticks\":\"\"}}}],\"bar\":[{\"error_x\":{\"color\":\"#2a3f5f\"},\"error_y\":{\"color\":\"#2a3f5f\"},\"marker\":{\"line\":{\"color\":\"#E5ECF6\",\"width\":0.5},\"pattern\":{\"fillmode\":\"overlay\",\"size\":10,\"solidity\":0.2}},\"type\":\"bar\"}],\"scattergeo\":[{\"type\":\"scattergeo\",\"marker\":{\"colorbar\":{\"outlinewidth\":0,\"ticks\":\"\"}}}],\"scatterpolar\":[{\"type\":\"scatterpolar\",\"marker\":{\"colorbar\":{\"outlinewidth\":0,\"ticks\":\"\"}}}],\"histogram\":[{\"marker\":{\"pattern\":{\"fillmode\":\"overlay\",\"size\":10,\"solidity\":0.2}},\"type\":\"histogram\"}],\"scattergl\":[{\"type\":\"scattergl\",\"marker\":{\"colorbar\":{\"outlinewidth\":0,\"ticks\":\"\"}}}],\"scatter3d\":[{\"type\":\"scatter3d\",\"line\":{\"colorbar\":{\"outlinewidth\":0,\"ticks\":\"\"}},\"marker\":{\"colorbar\":{\"outlinewidth\":0,\"ticks\":\"\"}}}],\"scattermapbox\":[{\"type\":\"scattermapbox\",\"marker\":{\"colorbar\":{\"outlinewidth\":0,\"ticks\":\"\"}}}],\"scatterternary\":[{\"type\":\"scatterternary\",\"marker\":{\"colorbar\":{\"outlinewidth\":0,\"ticks\":\"\"}}}],\"scattercarpet\":[{\"type\":\"scattercarpet\",\"marker\":{\"colorbar\":{\"outlinewidth\":0,\"ticks\":\"\"}}}],\"carpet\":[{\"aaxis\":{\"endlinecolor\":\"#2a3f5f\",\"gridcolor\":\"white\",\"linecolor\":\"white\",\"minorgridcolor\":\"white\",\"startlinecolor\":\"#2a3f5f\"},\"baxis\":{\"endlinecolor\":\"#2a3f5f\",\"gridcolor\":\"white\",\"linecolor\":\"white\",\"minorgridcolor\":\"white\",\"startlinecolor\":\"#2a3f5f\"},\"type\":\"carpet\"}],\"table\":[{\"cells\":{\"fill\":{\"color\":\"#EBF0F8\"},\"line\":{\"color\":\"white\"}},\"header\":{\"fill\":{\"color\":\"#C8D4E3\"},\"line\":{\"color\":\"white\"}},\"type\":\"table\"}],\"barpolar\":[{\"marker\":{\"line\":{\"color\":\"#E5ECF6\",\"width\":0.5},\"pattern\":{\"fillmode\":\"overlay\",\"size\":10,\"solidity\":0.2}},\"type\":\"barpolar\"}],\"pie\":[{\"automargin\":true,\"type\":\"pie\"}]},\"layout\":{\"autotypenumbers\":\"strict\",\"colorway\":[\"#636efa\",\"#EF553B\",\"#00cc96\",\"#ab63fa\",\"#FFA15A\",\"#19d3f3\",\"#FF6692\",\"#B6E880\",\"#FF97FF\",\"#FECB52\"],\"font\":{\"color\":\"#2a3f5f\"},\"hovermode\":\"closest\",\"hoverlabel\":{\"align\":\"left\"},\"paper_bgcolor\":\"white\",\"plot_bgcolor\":\"#E5ECF6\",\"polar\":{\"bgcolor\":\"#E5ECF6\",\"angularaxis\":{\"gridcolor\":\"white\",\"linecolor\":\"white\",\"ticks\":\"\"},\"radialaxis\":{\"gridcolor\":\"white\",\"linecolor\":\"white\",\"ticks\":\"\"}},\"ternary\":{\"bgcolor\":\"#E5ECF6\",\"aaxis\":{\"gridcolor\":\"white\",\"linecolor\":\"white\",\"ticks\":\"\"},\"baxis\":{\"gridcolor\":\"white\",\"linecolor\":\"white\",\"ticks\":\"\"},\"caxis\":{\"gridcolor\":\"white\",\"linecolor\":\"white\",\"ticks\":\"\"}},\"coloraxis\":{\"colorbar\":{\"outlinewidth\":0,\"ticks\":\"\"}},\"colorscale\":{\"sequential\":[[0.0,\"#0d0887\"],[0.1111111111111111,\"#46039f\"],[0.2222222222222222,\"#7201a8\"],[0.3333333333333333,\"#9c179e\"],[0.4444444444444444,\"#bd3786\"],[0.5555555555555556,\"#d8576b\"],[0.6666666666666666,\"#ed7953\"],[0.7777777777777778,\"#fb9f3a\"],[0.8888888888888888,\"#fdca26\"],[1.0,\"#f0f921\"]],\"sequentialminus\":[[0.0,\"#0d0887\"],[0.1111111111111111,\"#46039f\"],[0.2222222222222222,\"#7201a8\"],[0.3333333333333333,\"#9c179e\"],[0.4444444444444444,\"#bd3786\"],[0.5555555555555556,\"#d8576b\"],[0.6666666666666666,\"#ed7953\"],[0.7777777777777778,\"#fb9f3a\"],[0.8888888888888888,\"#fdca26\"],[1.0,\"#f0f921\"]],\"diverging\":[[0,\"#8e0152\"],[0.1,\"#c51b7d\"],[0.2,\"#de77ae\"],[0.3,\"#f1b6da\"],[0.4,\"#fde0ef\"],[0.5,\"#f7f7f7\"],[0.6,\"#e6f5d0\"],[0.7,\"#b8e186\"],[0.8,\"#7fbc41\"],[0.9,\"#4d9221\"],[1,\"#276419\"]]},\"xaxis\":{\"gridcolor\":\"white\",\"linecolor\":\"white\",\"ticks\":\"\",\"title\":{\"standoff\":15},\"zerolinecolor\":\"white\",\"automargin\":true,\"zerolinewidth\":2},\"yaxis\":{\"gridcolor\":\"white\",\"linecolor\":\"white\",\"ticks\":\"\",\"title\":{\"standoff\":15},\"zerolinecolor\":\"white\",\"automargin\":true,\"zerolinewidth\":2},\"scene\":{\"xaxis\":{\"backgroundcolor\":\"#E5ECF6\",\"gridcolor\":\"white\",\"linecolor\":\"white\",\"showbackground\":true,\"ticks\":\"\",\"zerolinecolor\":\"white\",\"gridwidth\":2},\"yaxis\":{\"backgroundcolor\":\"#E5ECF6\",\"gridcolor\":\"white\",\"linecolor\":\"white\",\"showbackground\":true,\"ticks\":\"\",\"zerolinecolor\":\"white\",\"gridwidth\":2},\"zaxis\":{\"backgroundcolor\":\"#E5ECF6\",\"gridcolor\":\"white\",\"linecolor\":\"white\",\"showbackground\":true,\"ticks\":\"\",\"zerolinecolor\":\"white\",\"gridwidth\":2}},\"shapedefaults\":{\"line\":{\"color\":\"#2a3f5f\"}},\"annotationdefaults\":{\"arrowcolor\":\"#2a3f5f\",\"arrowhead\":0,\"arrowwidth\":1},\"geo\":{\"bgcolor\":\"white\",\"landcolor\":\"#E5ECF6\",\"subunitcolor\":\"white\",\"showland\":true,\"showlakes\":true,\"lakecolor\":\"white\"},\"title\":{\"x\":0.05},\"mapbox\":{\"style\":\"light\"}}},\"xaxis\":{\"anchor\":\"y\",\"domain\":[0.0,1.0],\"scaleanchor\":\"y\",\"constrain\":\"domain\",\"title\":{\"text\":\"Predicted Label\"}},\"yaxis\":{\"anchor\":\"x\",\"domain\":[0.0,1.0],\"autorange\":\"reversed\",\"constrain\":\"domain\",\"title\":{\"text\":\"True Label\"}},\"coloraxis\":{\"colorscale\":[[0.0,\"rgb(255,245,240)\"],[0.125,\"rgb(254,224,210)\"],[0.25,\"rgb(252,187,161)\"],[0.375,\"rgb(252,146,114)\"],[0.5,\"rgb(251,106,74)\"],[0.625,\"rgb(239,59,44)\"],[0.75,\"rgb(203,24,29)\"],[0.875,\"rgb(165,15,21)\"],[1.0,\"rgb(103,0,13)\"]]},\"margin\":{\"t\":60},\"annotations\":[{\"font\":{\"color\":\"white\"},\"showarrow\":false,\"text\":\"287\",\"x\":0,\"y\":0},{\"font\":{\"color\":\"white\"},\"showarrow\":false,\"text\":\"543\",\"x\":1,\"y\":0},{\"font\":{\"color\":\"black\"},\"showarrow\":false,\"text\":\"28\",\"x\":0,\"y\":1},{\"font\":{\"color\":\"black\"},\"showarrow\":false,\"text\":\"122\",\"x\":1,\"y\":1}],\"title\":{\"text\":\"Confusion Matrix - OpenAI Model\"}},                        {\"responsive\": true}                    ).then(function(){\n",
              "                            \n",
              "var gd = document.getElementById('c496f744-7225-4ace-b564-a9588c1596d0');\n",
              "var x = new MutationObserver(function (mutations, observer) {{\n",
              "        var display = window.getComputedStyle(gd).display;\n",
              "        if (!display || display === 'none') {{\n",
              "            console.log([gd, 'removed!']);\n",
              "            Plotly.purge(gd);\n",
              "            observer.disconnect();\n",
              "        }}\n",
              "}});\n",
              "\n",
              "// Listen for the removal of the full notebook cells\n",
              "var notebookContainer = gd.closest('#notebook-container');\n",
              "if (notebookContainer) {{\n",
              "    x.observe(notebookContainer, {childList: true});\n",
              "}}\n",
              "\n",
              "// Listen for the clearing of the current output cell\n",
              "var outputEl = gd.closest('.output');\n",
              "if (outputEl) {{\n",
              "    x.observe(outputEl, {childList: true});\n",
              "}}\n",
              "\n",
              "                        })                };                            </script>        </div>\n",
              "</body>\n",
              "</html>"
            ]
          },
          "metadata": {}
        }
      ]
    },
    {
      "cell_type": "code",
      "source": [
        "# Calculate and print the accuracy, precision, recall and f1 of the model\n",
        "report = classification_report(test_labels, predicted_labels)\n",
        "print(report)"
      ],
      "metadata": {
        "colab": {
          "base_uri": "https://localhost:8080/"
        },
        "id": "_P1lIOF8CmpH",
        "outputId": "faa03ace-89c8-4a3d-d5db-ec3c5c6e9427"
      },
      "execution_count": 14,
      "outputs": [
        {
          "output_type": "stream",
          "name": "stdout",
          "text": [
            "              precision    recall  f1-score   support\n",
            "\n",
            "           0       0.91      0.35      0.50       830\n",
            "           1       0.18      0.81      0.30       150\n",
            "\n",
            "    accuracy                           0.42       980\n",
            "   macro avg       0.55      0.58      0.40       980\n",
            "weighted avg       0.80      0.42      0.47       980\n",
            "\n"
          ]
        }
      ]
    }
  ]
}